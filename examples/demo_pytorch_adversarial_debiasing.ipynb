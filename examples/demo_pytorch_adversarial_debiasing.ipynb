{
 "cells": [
  {
   "cell_type": "markdown",
   "metadata": {
    "colab_type": "text",
    "id": "view-in-github"
   },
   "source": [
    "<a href=\"https://colab.research.google.com/github/arezzy17/AIF360/blob/master/examples/demo_pytorch_adversarial_debiasing.ipynb\" target=\"_parent\"><img src=\"https://colab.research.google.com/assets/colab-badge.svg\" alt=\"Open In Colab\"/></a>"
   ]
  },
  {
   "cell_type": "markdown",
   "metadata": {
    "colab_type": "text",
    "id": "05jtdvK4OUVZ"
   },
   "source": [
    "#### This notebook demonstrates the use of adversarial debiasing algorithm to learn a fair classifier.\n",
    "Adversarial debiasing [1] is an in-processing technique that learns a classifier to maximize prediction accuracy and simultaneously reduce an adversary's ability to determine the protected attribute from the predictions. This approach leads to a fair classifier as the predictions cannot carry any group discrimination information that the adversary can exploit. We will see how to use this algorithm for learning models with and without fairness constraints and apply them on the Adult dataset."
   ]
  },
  {
   "cell_type": "code",
   "execution_count": 1,
   "metadata": {
    "colab": {},
    "colab_type": "code",
    "id": "5rccV9sUOUVc",
    "outputId": "a536dc16-15bc-40a2-b445-b7dc183a9bef"
   },
   "outputs": [
    {
     "name": "stderr",
     "output_type": "stream",
     "text": [
      "WARNING:root:No module named 'tensorflow': AdversarialDebiasing will be unavailable. To install, run:\n",
      "pip install 'aif360[AdversarialDebiasing]'\n"
     ]
    }
   ],
   "source": [
    "%matplotlib inline\n",
    "# Load all necessary packages\n",
    "import sys\n",
    "sys.path.append(\"../\")\n",
    "from aif360.datasets import BinaryLabelDataset\n",
    "from aif360.datasets import AdultDataset, GermanDataset, CompasDataset\n",
    "from aif360.metrics import BinaryLabelDatasetMetric\n",
    "from aif360.metrics import ClassificationMetric\n",
    "from aif360.metrics.utils import compute_boolean_conditioning_vector\n",
    "\n",
    "from aif360.algorithms.preprocessing.optim_preproc_helpers.data_preproc_functions import load_preproc_data_adult, load_preproc_data_compas, load_preproc_data_german\n",
    "\n",
    "from aif360.pytorch.inprocessing.adversarial_debiasing import AdversarialDebiasing, ClassifierModel, AdversaryModel, default_classifier_ann\n",
    "from aif360.algorithms import Transformer\n",
    "\n",
    "#sys.path.remove(\"../\")\n",
    "\n",
    "from sklearn.linear_model import LogisticRegression\n",
    "from sklearn.preprocessing import StandardScaler, MaxAbsScaler\n",
    "from sklearn.metrics import accuracy_score\n",
    "\n",
    "from IPython.display import Markdown, display\n",
    "import matplotlib.pyplot as plt\n",
    "\n",
    "import torch\n",
    "import torch.nn as nn\n",
    "import torch.nn.functional as F"
   ]
  },
  {
   "cell_type": "markdown",
   "metadata": {
    "colab_type": "text",
    "id": "jVWm54jkOUVm"
   },
   "source": [
    "#### Load dataset and set options"
   ]
  },
  {
   "cell_type": "code",
   "execution_count": 2,
   "metadata": {
    "colab": {},
    "colab_type": "code",
    "id": "b3VphoFfOUVm"
   },
   "outputs": [],
   "source": [
    "# Get the dataset and split into train and test\n",
    "dataset_orig = load_preproc_data_adult()\n",
    "\n",
    "privileged_groups = [{'sex': 1}]\n",
    "unprivileged_groups = [{'sex': 0}]\n",
    "\n",
    "dataset_orig_train, dataset_orig_test = dataset_orig.split([0.7], shuffle=True)"
   ]
  },
  {
   "cell_type": "code",
   "execution_count": 3,
   "metadata": {},
   "outputs": [
    {
     "data": {
      "text/plain": [
       "(34189, 18)"
      ]
     },
     "execution_count": 3,
     "metadata": {},
     "output_type": "execute_result"
    }
   ],
   "source": [
    "dataset_orig_train.features.shape"
   ]
  },
  {
   "cell_type": "code",
   "execution_count": 4,
   "metadata": {
    "colab": {},
    "colab_type": "code",
    "id": "b0Fs80vmOUVy",
    "outputId": "60b77184-86e2-44a6-a82c-effb393eb188"
   },
   "outputs": [
    {
     "data": {
      "text/markdown": [
       "#### Training Dataset shape"
      ],
      "text/plain": [
       "<IPython.core.display.Markdown object>"
      ]
     },
     "metadata": {},
     "output_type": "display_data"
    },
    {
     "name": "stdout",
     "output_type": "stream",
     "text": [
      "(34189, 18)\n"
     ]
    },
    {
     "data": {
      "text/markdown": [
       "#### Favorable and unfavorable labels"
      ],
      "text/plain": [
       "<IPython.core.display.Markdown object>"
      ]
     },
     "metadata": {},
     "output_type": "display_data"
    },
    {
     "name": "stdout",
     "output_type": "stream",
     "text": [
      "1.0 0.0\n"
     ]
    },
    {
     "data": {
      "text/markdown": [
       "#### Protected attribute names"
      ],
      "text/plain": [
       "<IPython.core.display.Markdown object>"
      ]
     },
     "metadata": {},
     "output_type": "display_data"
    },
    {
     "name": "stdout",
     "output_type": "stream",
     "text": [
      "['sex', 'race']\n"
     ]
    },
    {
     "data": {
      "text/markdown": [
       "#### Privileged and unprivileged protected attribute values"
      ],
      "text/plain": [
       "<IPython.core.display.Markdown object>"
      ]
     },
     "metadata": {},
     "output_type": "display_data"
    },
    {
     "name": "stdout",
     "output_type": "stream",
     "text": [
      "[array([1.]), array([1.])] [array([0.]), array([0.])]\n"
     ]
    },
    {
     "data": {
      "text/markdown": [
       "#### Dataset feature names"
      ],
      "text/plain": [
       "<IPython.core.display.Markdown object>"
      ]
     },
     "metadata": {},
     "output_type": "display_data"
    },
    {
     "name": "stdout",
     "output_type": "stream",
     "text": [
      "['race', 'sex', 'Age (decade)=10', 'Age (decade)=20', 'Age (decade)=30', 'Age (decade)=40', 'Age (decade)=50', 'Age (decade)=60', 'Age (decade)=>=70', 'Education Years=6', 'Education Years=7', 'Education Years=8', 'Education Years=9', 'Education Years=10', 'Education Years=11', 'Education Years=12', 'Education Years=<6', 'Education Years=>12']\n"
     ]
    }
   ],
   "source": [
    "# print out some labels, names, etc.\n",
    "display(Markdown(\"#### Training Dataset shape\"))\n",
    "print(dataset_orig_train.features.shape)\n",
    "display(Markdown(\"#### Favorable and unfavorable labels\"))\n",
    "print(dataset_orig_train.favorable_label, dataset_orig_train.unfavorable_label)\n",
    "display(Markdown(\"#### Protected attribute names\"))\n",
    "print(dataset_orig_train.protected_attribute_names)\n",
    "display(Markdown(\"#### Privileged and unprivileged protected attribute values\"))\n",
    "print(dataset_orig_train.privileged_protected_attributes, \n",
    "      dataset_orig_train.unprivileged_protected_attributes)\n",
    "display(Markdown(\"#### Dataset feature names\"))\n",
    "print(dataset_orig_train.feature_names)"
   ]
  },
  {
   "cell_type": "markdown",
   "metadata": {
    "colab_type": "text",
    "id": "3hvQSijEOUV3"
   },
   "source": [
    "#### Metric for original training data"
   ]
  },
  {
   "cell_type": "code",
   "execution_count": 5,
   "metadata": {
    "colab": {},
    "colab_type": "code",
    "id": "gF4S2ecCOUV3",
    "outputId": "037dae18-f133-4a07-ba13-b133c3e8fba9"
   },
   "outputs": [
    {
     "data": {
      "text/markdown": [
       "#### Original training dataset"
      ],
      "text/plain": [
       "<IPython.core.display.Markdown object>"
      ]
     },
     "metadata": {},
     "output_type": "display_data"
    },
    {
     "name": "stdout",
     "output_type": "stream",
     "text": [
      "Train set: Difference in mean outcomes between unprivileged and privileged groups = -0.194671\n",
      "Test set: Difference in mean outcomes between unprivileged and privileged groups = -0.194151\n"
     ]
    }
   ],
   "source": [
    "# Metric for the original dataset\n",
    "metric_orig_train = BinaryLabelDatasetMetric(dataset_orig_train, \n",
    "                                             unprivileged_groups=unprivileged_groups,\n",
    "                                             privileged_groups=privileged_groups)\n",
    "display(Markdown(\"#### Original training dataset\"))\n",
    "print(\"Train set: Difference in mean outcomes between unprivileged and privileged groups = %f\" % metric_orig_train.mean_difference())\n",
    "metric_orig_test = BinaryLabelDatasetMetric(dataset_orig_test, \n",
    "                                             unprivileged_groups=unprivileged_groups,\n",
    "                                             privileged_groups=privileged_groups)\n",
    "print(\"Test set: Difference in mean outcomes between unprivileged and privileged groups = %f\" % metric_orig_test.mean_difference())"
   ]
  },
  {
   "cell_type": "code",
   "execution_count": 6,
   "metadata": {
    "colab": {},
    "colab_type": "code",
    "id": "1h7o7U_UOUV9",
    "outputId": "6b99f507-dfe1-42b3-cdd3-b995d7c5a758"
   },
   "outputs": [
    {
     "data": {
      "text/markdown": [
       "#### Scaled dataset - Verify that the scaling does not affect the group label statistics"
      ],
      "text/plain": [
       "<IPython.core.display.Markdown object>"
      ]
     },
     "metadata": {},
     "output_type": "display_data"
    },
    {
     "name": "stdout",
     "output_type": "stream",
     "text": [
      "Train set: Difference in mean outcomes between unprivileged and privileged groups = -0.194671\n",
      "Test set: Difference in mean outcomes between unprivileged and privileged groups = -0.194151\n"
     ]
    }
   ],
   "source": [
    "min_max_scaler = MaxAbsScaler()\n",
    "dataset_orig_train.features = min_max_scaler.fit_transform(dataset_orig_train.features)\n",
    "dataset_orig_test.features = min_max_scaler.transform(dataset_orig_test.features)\n",
    "metric_scaled_train = BinaryLabelDatasetMetric(dataset_orig_train, \n",
    "                             unprivileged_groups=unprivileged_groups,\n",
    "                             privileged_groups=privileged_groups)\n",
    "display(Markdown(\"#### Scaled dataset - Verify that the scaling does not affect the group label statistics\"))\n",
    "print(\"Train set: Difference in mean outcomes between unprivileged and privileged groups = %f\" % metric_scaled_train.mean_difference())\n",
    "metric_scaled_test = BinaryLabelDatasetMetric(dataset_orig_test, \n",
    "                             unprivileged_groups=unprivileged_groups,\n",
    "                             privileged_groups=privileged_groups)\n",
    "print(\"Test set: Difference in mean outcomes between unprivileged and privileged groups = %f\" % metric_scaled_test.mean_difference())\n"
   ]
  },
  {
   "cell_type": "markdown",
   "metadata": {
    "colab_type": "text",
    "id": "k-ISMfC3OUWB"
   },
   "source": [
    "### Learn plan classifier without debiasing"
   ]
  },
  {
   "cell_type": "code",
   "execution_count": 13,
   "metadata": {},
   "outputs": [],
   "source": [
    "# Load post-processing algorithm that equalizes the odds\n",
    "# Learn parameters with debias set to False\n",
    "plain_model = AdversarialDebiasing(privileged_groups = privileged_groups,\n",
    "                          unprivileged_groups = unprivileged_groups,\n",
    "                          debias=False, verbose=True)"
   ]
  },
  {
   "cell_type": "code",
   "execution_count": 14,
   "metadata": {
    "scrolled": true
   },
   "outputs": [
    {
     "name": "stdout",
     "output_type": "stream",
     "text": [
      "Starting to train model(s) on \"cpu\":\n",
      "Learning rate of the classifier model is now set to 0.001\n",
      "Epoch: [1/50] Batch: [1/268]\tClassifier Loss: 0.7167\tC(x): 0.7167\n",
      "Epoch: [1/50] Batch: [201/268]\tClassifier Loss: 0.4419\tC(x): 0.4779\n",
      "Epoch: [2/50] Batch: [1/268]\tClassifier Loss: 0.4596\tC(x): 0.4661\n",
      "Epoch: [2/50] Batch: [201/268]\tClassifier Loss: 0.4110\tC(x): 0.4498\n",
      "Epoch: [3/50] Batch: [1/268]\tClassifier Loss: 0.5186\tC(x): 0.4466\n",
      "Epoch: [3/50] Batch: [201/268]\tClassifier Loss: 0.4193\tC(x): 0.4401\n",
      "Epoch: [4/50] Batch: [1/268]\tClassifier Loss: 0.4151\tC(x): 0.4394\n",
      "Learning rate of the classifier model is now set to 0.00096\n",
      "Epoch: [4/50] Batch: [201/268]\tClassifier Loss: 0.3634\tC(x): 0.4361\n",
      "Epoch: [5/50] Batch: [1/268]\tClassifier Loss: 0.4632\tC(x): 0.4355\n",
      "Epoch: [5/50] Batch: [201/268]\tClassifier Loss: 0.3895\tC(x): 0.4337\n",
      "Epoch: [6/50] Batch: [1/268]\tClassifier Loss: 0.4064\tC(x): 0.4330\n",
      "Epoch: [6/50] Batch: [201/268]\tClassifier Loss: 0.4272\tC(x): 0.4316\n",
      "Epoch: [7/50] Batch: [1/268]\tClassifier Loss: 0.3641\tC(x): 0.4312\n",
      "Epoch: [7/50] Batch: [201/268]\tClassifier Loss: 0.4325\tC(x): 0.4301\n",
      "Epoch: [8/50] Batch: [1/268]\tClassifier Loss: 0.4233\tC(x): 0.4299\n",
      "Learning rate of the classifier model is now set to 0.0009216\n",
      "Epoch: [8/50] Batch: [201/268]\tClassifier Loss: 0.4529\tC(x): 0.4288\n",
      "Epoch: [9/50] Batch: [1/268]\tClassifier Loss: 0.4442\tC(x): 0.4290\n",
      "Epoch: [9/50] Batch: [201/268]\tClassifier Loss: 0.4163\tC(x): 0.4283\n",
      "Epoch: [10/50] Batch: [1/268]\tClassifier Loss: 0.3894\tC(x): 0.4282\n",
      "Epoch: [10/50] Batch: [201/268]\tClassifier Loss: 0.4463\tC(x): 0.4277\n",
      "Epoch: [11/50] Batch: [1/268]\tClassifier Loss: 0.3930\tC(x): 0.4276\n",
      "Epoch: [11/50] Batch: [201/268]\tClassifier Loss: 0.4530\tC(x): 0.4269\n",
      "Epoch: [12/50] Batch: [1/268]\tClassifier Loss: 0.4602\tC(x): 0.4271\n",
      "Learning rate of the classifier model is now set to 0.0008847359999999999\n",
      "Epoch: [12/50] Batch: [201/268]\tClassifier Loss: 0.4725\tC(x): 0.4267\n",
      "Epoch: [13/50] Batch: [1/268]\tClassifier Loss: 0.3932\tC(x): 0.4267\n",
      "Epoch: [13/50] Batch: [201/268]\tClassifier Loss: 0.4272\tC(x): 0.4264\n",
      "Epoch: [14/50] Batch: [1/268]\tClassifier Loss: 0.4637\tC(x): 0.4263\n",
      "Epoch: [14/50] Batch: [201/268]\tClassifier Loss: 0.4213\tC(x): 0.4259\n",
      "Epoch: [15/50] Batch: [1/268]\tClassifier Loss: 0.4153\tC(x): 0.4260\n",
      "Epoch: [15/50] Batch: [201/268]\tClassifier Loss: 0.4425\tC(x): 0.4257\n",
      "Learning rate of the classifier model is now set to 0.0008493465599999999\n",
      "Epoch: [16/50] Batch: [1/268]\tClassifier Loss: 0.3693\tC(x): 0.4257\n",
      "Epoch: [16/50] Batch: [201/268]\tClassifier Loss: 0.3339\tC(x): 0.4254\n",
      "Epoch: [17/50] Batch: [1/268]\tClassifier Loss: 0.4091\tC(x): 0.4254\n",
      "Epoch: [17/50] Batch: [201/268]\tClassifier Loss: 0.4295\tC(x): 0.4251\n",
      "Epoch: [18/50] Batch: [1/268]\tClassifier Loss: 0.4460\tC(x): 0.4251\n",
      "Epoch: [18/50] Batch: [201/268]\tClassifier Loss: 0.4691\tC(x): 0.4250\n",
      "Epoch: [19/50] Batch: [1/268]\tClassifier Loss: 0.5145\tC(x): 0.4249\n",
      "Learning rate of the classifier model is now set to 0.0008153726975999999\n",
      "Epoch: [19/50] Batch: [201/268]\tClassifier Loss: 0.4438\tC(x): 0.4246\n",
      "Epoch: [20/50] Batch: [1/268]\tClassifier Loss: 0.4966\tC(x): 0.4246\n",
      "Epoch: [20/50] Batch: [201/268]\tClassifier Loss: 0.3664\tC(x): 0.4246\n",
      "Epoch: [21/50] Batch: [1/268]\tClassifier Loss: 0.4021\tC(x): 0.4245\n",
      "Epoch: [21/50] Batch: [201/268]\tClassifier Loss: 0.3756\tC(x): 0.4244\n",
      "Epoch: [22/50] Batch: [1/268]\tClassifier Loss: 0.4319\tC(x): 0.4243\n",
      "Epoch: [22/50] Batch: [201/268]\tClassifier Loss: 0.4217\tC(x): 0.4242\n",
      "Epoch: [23/50] Batch: [1/268]\tClassifier Loss: 0.4244\tC(x): 0.4241\n",
      "Learning rate of the classifier model is now set to 0.0007827577896959999\n",
      "Epoch: [23/50] Batch: [201/268]\tClassifier Loss: 0.3682\tC(x): 0.4240\n",
      "Epoch: [24/50] Batch: [1/268]\tClassifier Loss: 0.3261\tC(x): 0.4240\n",
      "Epoch: [24/50] Batch: [201/268]\tClassifier Loss: 0.4429\tC(x): 0.4239\n",
      "Epoch: [25/50] Batch: [1/268]\tClassifier Loss: 0.4206\tC(x): 0.4239\n",
      "Epoch: [25/50] Batch: [201/268]\tClassifier Loss: 0.4420\tC(x): 0.4239\n",
      "Epoch: [26/50] Batch: [1/268]\tClassifier Loss: 0.3691\tC(x): 0.4238\n",
      "Epoch: [26/50] Batch: [201/268]\tClassifier Loss: 0.4378\tC(x): 0.4237\n",
      "Epoch: [27/50] Batch: [1/268]\tClassifier Loss: 0.3849\tC(x): 0.4237\n",
      "Learning rate of the classifier model is now set to 0.0007514474781081599\n",
      "Epoch: [27/50] Batch: [201/268]\tClassifier Loss: 0.3729\tC(x): 0.4236\n",
      "Epoch: [28/50] Batch: [1/268]\tClassifier Loss: 0.4466\tC(x): 0.4236\n",
      "Epoch: [28/50] Batch: [201/268]\tClassifier Loss: 0.4241\tC(x): 0.4234\n",
      "Epoch: [29/50] Batch: [1/268]\tClassifier Loss: 0.4168\tC(x): 0.4234\n",
      "Epoch: [29/50] Batch: [201/268]\tClassifier Loss: 0.3547\tC(x): 0.4233\n",
      "Epoch: [30/50] Batch: [1/268]\tClassifier Loss: 0.3666\tC(x): 0.4233\n",
      "Epoch: [30/50] Batch: [201/268]\tClassifier Loss: 0.4364\tC(x): 0.4233\n",
      "Learning rate of the classifier model is now set to 0.0007213895789838334\n",
      "Epoch: [31/50] Batch: [1/268]\tClassifier Loss: 0.3905\tC(x): 0.4232\n",
      "Epoch: [31/50] Batch: [201/268]\tClassifier Loss: 0.4818\tC(x): 0.4232\n",
      "Epoch: [32/50] Batch: [1/268]\tClassifier Loss: 0.4352\tC(x): 0.4231\n",
      "Epoch: [32/50] Batch: [201/268]\tClassifier Loss: 0.4575\tC(x): 0.4230\n",
      "Epoch: [33/50] Batch: [1/268]\tClassifier Loss: 0.3796\tC(x): 0.4230\n",
      "Epoch: [33/50] Batch: [201/268]\tClassifier Loss: 0.4428\tC(x): 0.4230\n",
      "Epoch: [34/50] Batch: [1/268]\tClassifier Loss: 0.4423\tC(x): 0.4229\n",
      "Learning rate of the classifier model is now set to 0.0006925339958244801\n",
      "Epoch: [34/50] Batch: [201/268]\tClassifier Loss: 0.4263\tC(x): 0.4229\n",
      "Epoch: [35/50] Batch: [1/268]\tClassifier Loss: 0.5060\tC(x): 0.4229\n",
      "Epoch: [35/50] Batch: [201/268]\tClassifier Loss: 0.4710\tC(x): 0.4228\n",
      "Epoch: [36/50] Batch: [1/268]\tClassifier Loss: 0.4382\tC(x): 0.4228\n",
      "Epoch: [36/50] Batch: [201/268]\tClassifier Loss: 0.4749\tC(x): 0.4227\n",
      "Epoch: [37/50] Batch: [1/268]\tClassifier Loss: 0.4237\tC(x): 0.4227\n",
      "Epoch: [37/50] Batch: [201/268]\tClassifier Loss: 0.4340\tC(x): 0.4227\n",
      "Epoch: [38/50] Batch: [1/268]\tClassifier Loss: 0.4428\tC(x): 0.4226\n",
      "Learning rate of the classifier model is now set to 0.0006648326359915007\n",
      "Epoch: [38/50] Batch: [201/268]\tClassifier Loss: 0.3882\tC(x): 0.4226\n",
      "Epoch: [39/50] Batch: [1/268]\tClassifier Loss: 0.4844\tC(x): 0.4226\n",
      "Epoch: [39/50] Batch: [201/268]\tClassifier Loss: 0.4395\tC(x): 0.4225\n",
      "Epoch: [40/50] Batch: [1/268]\tClassifier Loss: 0.4268\tC(x): 0.4225\n",
      "Epoch: [40/50] Batch: [201/268]\tClassifier Loss: 0.3232\tC(x): 0.4225\n",
      "Epoch: [41/50] Batch: [1/268]\tClassifier Loss: 0.4756\tC(x): 0.4225\n",
      "Epoch: [41/50] Batch: [201/268]\tClassifier Loss: 0.4578\tC(x): 0.4224\n",
      "Epoch: [42/50] Batch: [1/268]\tClassifier Loss: 0.4352\tC(x): 0.4224\n",
      "Learning rate of the classifier model is now set to 0.0006382393305518408\n",
      "Epoch: [42/50] Batch: [201/268]\tClassifier Loss: 0.4048\tC(x): 0.4223\n",
      "Epoch: [43/50] Batch: [1/268]\tClassifier Loss: 0.4408\tC(x): 0.4223\n",
      "Epoch: [43/50] Batch: [201/268]\tClassifier Loss: 0.4890\tC(x): 0.4223\n",
      "Epoch: [44/50] Batch: [1/268]\tClassifier Loss: 0.4171\tC(x): 0.4223\n",
      "Epoch: [44/50] Batch: [201/268]\tClassifier Loss: 0.3279\tC(x): 0.4223\n",
      "Epoch: [45/50] Batch: [1/268]\tClassifier Loss: 0.3845\tC(x): 0.4222\n",
      "Epoch: [45/50] Batch: [201/268]\tClassifier Loss: 0.5332\tC(x): 0.4222\n",
      "Learning rate of the classifier model is now set to 0.0006127097573297671\n",
      "Epoch: [46/50] Batch: [1/268]\tClassifier Loss: 0.5516\tC(x): 0.4222\n",
      "Epoch: [46/50] Batch: [201/268]\tClassifier Loss: 0.4395\tC(x): 0.4221\n",
      "Epoch: [47/50] Batch: [1/268]\tClassifier Loss: 0.4375\tC(x): 0.4221\n",
      "Epoch: [47/50] Batch: [201/268]\tClassifier Loss: 0.3540\tC(x): 0.4221\n",
      "Epoch: [48/50] Batch: [1/268]\tClassifier Loss: 0.4461\tC(x): 0.4221\n",
      "Epoch: [48/50] Batch: [201/268]\tClassifier Loss: 0.3938\tC(x): 0.4221\n",
      "Epoch: [49/50] Batch: [1/268]\tClassifier Loss: 0.3540\tC(x): 0.4220\n",
      "Learning rate of the classifier model is now set to 0.0005882013670365765\n",
      "Epoch: [49/50] Batch: [201/268]\tClassifier Loss: 0.4447\tC(x): 0.4220\n",
      "Epoch: [50/50] Batch: [1/268]\tClassifier Loss: 0.4272\tC(x): 0.4220\n",
      "Epoch: [50/50] Batch: [201/268]\tClassifier Loss: 0.3498\tC(x): 0.4219\n"
     ]
    },
    {
     "data": {
      "text/plain": [
       "<aif360.pytorch.inprocessing.adversarial_debiasing.AdversarialDebiasing at 0x2913a351808>"
      ]
     },
     "execution_count": 14,
     "metadata": {},
     "output_type": "execute_result"
    }
   ],
   "source": [
    "plain_model.fit(dataset_orig_train)"
   ]
  },
  {
   "cell_type": "code",
   "execution_count": 16,
   "metadata": {},
   "outputs": [],
   "source": [
    "# Apply the plain model to test data\n",
    "dataset_nodebiasing_train = plain_model.predict(dataset_orig_train)\n",
    "dataset_nodebiasing_test = plain_model.predict(dataset_orig_test)"
   ]
  },
  {
   "cell_type": "code",
   "execution_count": 17,
   "metadata": {
    "colab": {},
    "colab_type": "code",
    "id": "U9Ij08GhOUWS",
    "outputId": "c62e42f8-4b79-485e-b5a5-41dd17b3edec"
   },
   "outputs": [
    {
     "data": {
      "text/markdown": [
       "#### Plain model - without debiasing - dataset metrics"
      ],
      "text/plain": [
       "<IPython.core.display.Markdown object>"
      ]
     },
     "metadata": {},
     "output_type": "display_data"
    },
    {
     "name": "stdout",
     "output_type": "stream",
     "text": [
      "Train set: Difference in mean outcomes between unprivileged and privileged groups = -0.222456\n",
      "Test set: Difference in mean outcomes between unprivileged and privileged groups = -0.222030\n"
     ]
    },
    {
     "data": {
      "text/markdown": [
       "#### Plain model - without debiasing - classification metrics"
      ],
      "text/plain": [
       "<IPython.core.display.Markdown object>"
      ]
     },
     "metadata": {},
     "output_type": "display_data"
    },
    {
     "name": "stdout",
     "output_type": "stream",
     "text": [
      "Test set: Classification accuracy = 0.805023\n",
      "Test set: Balanced classification accuracy = 0.667636\n",
      "Test set: Disparate impact = 0.000000\n",
      "Test set: Equal opportunity difference = -0.475360\n",
      "Test set: Average odds difference = -0.293455\n",
      "Test set: Theil_index = 0.174626\n"
     ]
    }
   ],
   "source": [
    "# Metrics for the dataset from plain model (without debiasing)\n",
    "display(Markdown(\"#### Plain model - without debiasing - dataset metrics\"))\n",
    "metric_dataset_nodebiasing_train = BinaryLabelDatasetMetric(dataset_nodebiasing_train, \n",
    "                                             unprivileged_groups=unprivileged_groups,\n",
    "                                             privileged_groups=privileged_groups)\n",
    "\n",
    "print(\"Train set: Difference in mean outcomes between unprivileged and privileged groups = %f\" % metric_dataset_nodebiasing_train.mean_difference())\n",
    "\n",
    "metric_dataset_nodebiasing_test = BinaryLabelDatasetMetric(dataset_nodebiasing_test, \n",
    "                                             unprivileged_groups=unprivileged_groups,\n",
    "                                             privileged_groups=privileged_groups)\n",
    "\n",
    "print(\"Test set: Difference in mean outcomes between unprivileged and privileged groups = %f\" % metric_dataset_nodebiasing_test.mean_difference())\n",
    "\n",
    "display(Markdown(\"#### Plain model - without debiasing - classification metrics\"))\n",
    "classified_metric_nodebiasing_test = ClassificationMetric(dataset_orig_test, \n",
    "                                                 dataset_nodebiasing_test,\n",
    "                                                 unprivileged_groups=unprivileged_groups,\n",
    "                                                 privileged_groups=privileged_groups)\n",
    "print(\"Test set: Classification accuracy = %f\" % classified_metric_nodebiasing_test.accuracy())\n",
    "TPR = classified_metric_nodebiasing_test.true_positive_rate()\n",
    "TNR = classified_metric_nodebiasing_test.true_negative_rate()\n",
    "bal_acc_nodebiasing_test = 0.5*(TPR+TNR)\n",
    "print(\"Test set: Balanced classification accuracy = %f\" % bal_acc_nodebiasing_test)\n",
    "print(\"Test set: Disparate impact = %f\" % classified_metric_nodebiasing_test.disparate_impact())\n",
    "print(\"Test set: Equal opportunity difference = %f\" % classified_metric_nodebiasing_test.equal_opportunity_difference())\n",
    "print(\"Test set: Average odds difference = %f\" % classified_metric_nodebiasing_test.average_odds_difference())\n",
    "print(\"Test set: Theil_index = %f\" % classified_metric_nodebiasing_test.theil_index())"
   ]
  },
  {
   "cell_type": "markdown",
   "metadata": {
    "colab_type": "text",
    "id": "lzvuFHvOOUWX"
   },
   "source": [
    "### Apply in-processing algorithm based on adversarial learning"
   ]
  },
  {
   "cell_type": "code",
   "execution_count": null,
   "metadata": {
    "colab": {},
    "colab_type": "code",
    "id": "Snp7A-dlOUWX"
   },
   "outputs": [],
   "source": [
    "sess.close()\n",
    "tf.reset_default_graph()\n",
    "sess = tf.Session()"
   ]
  },
  {
   "cell_type": "code",
   "execution_count": null,
   "metadata": {
    "colab": {},
    "colab_type": "code",
    "id": "N4D6YRyZOUWd"
   },
   "outputs": [],
   "source": [
    "# Learn parameters with debias set to True\n",
    "debiased_model = AdversarialDebiasing(privileged_groups = privileged_groups,\n",
    "                          unprivileged_groups = unprivileged_groups,\n",
    "                          scope_name='debiased_classifier',\n",
    "                          debias=True,\n",
    "                          sess=sess)"
   ]
  },
  {
   "cell_type": "code",
   "execution_count": null,
   "metadata": {
    "colab": {},
    "colab_type": "code",
    "id": "neS5Ouj5OUWn",
    "outputId": "1f9a5eb1-61a6-4f04-ed18-339007cd285b",
    "scrolled": true
   },
   "outputs": [
    {
     "name": "stdout",
     "output_type": "stream",
     "text": [
      "epoch 0; iter: 0; batch classifier loss: 0.721611; batch adversarial loss: 0.630777\n",
      "epoch 0; iter: 200; batch classifier loss: 0.442980; batch adversarial loss: 0.656542\n",
      "epoch 1; iter: 0; batch classifier loss: 0.453149; batch adversarial loss: 0.657557\n",
      "epoch 1; iter: 200; batch classifier loss: 0.496931; batch adversarial loss: 0.617686\n",
      "epoch 2; iter: 0; batch classifier loss: 0.547117; batch adversarial loss: 0.653103\n",
      "epoch 2; iter: 200; batch classifier loss: 0.331452; batch adversarial loss: 0.617297\n",
      "epoch 3; iter: 0; batch classifier loss: 0.407935; batch adversarial loss: 0.627860\n",
      "epoch 3; iter: 200; batch classifier loss: 0.413469; batch adversarial loss: 0.616086\n",
      "epoch 4; iter: 0; batch classifier loss: 0.370982; batch adversarial loss: 0.604738\n",
      "epoch 4; iter: 200; batch classifier loss: 0.469453; batch adversarial loss: 0.617892\n",
      "epoch 5; iter: 0; batch classifier loss: 0.502638; batch adversarial loss: 0.595247\n",
      "epoch 5; iter: 200; batch classifier loss: 0.379807; batch adversarial loss: 0.635309\n",
      "epoch 6; iter: 0; batch classifier loss: 0.484228; batch adversarial loss: 0.591971\n",
      "epoch 6; iter: 200; batch classifier loss: 0.421526; batch adversarial loss: 0.612220\n",
      "epoch 7; iter: 0; batch classifier loss: 0.392731; batch adversarial loss: 0.636230\n",
      "epoch 7; iter: 200; batch classifier loss: 0.391191; batch adversarial loss: 0.614543\n",
      "epoch 8; iter: 0; batch classifier loss: 0.481106; batch adversarial loss: 0.665277\n",
      "epoch 8; iter: 200; batch classifier loss: 0.465566; batch adversarial loss: 0.638007\n",
      "epoch 9; iter: 0; batch classifier loss: 0.418696; batch adversarial loss: 0.575338\n",
      "epoch 9; iter: 200; batch classifier loss: 0.450467; batch adversarial loss: 0.611760\n",
      "epoch 10; iter: 0; batch classifier loss: 0.347429; batch adversarial loss: 0.652913\n",
      "epoch 10; iter: 200; batch classifier loss: 0.398043; batch adversarial loss: 0.601349\n",
      "epoch 11; iter: 0; batch classifier loss: 0.478137; batch adversarial loss: 0.630736\n",
      "epoch 11; iter: 200; batch classifier loss: 0.479216; batch adversarial loss: 0.552848\n",
      "epoch 12; iter: 0; batch classifier loss: 0.473339; batch adversarial loss: 0.597487\n",
      "epoch 12; iter: 200; batch classifier loss: 0.378719; batch adversarial loss: 0.630144\n",
      "epoch 13; iter: 0; batch classifier loss: 0.461751; batch adversarial loss: 0.583154\n",
      "epoch 13; iter: 200; batch classifier loss: 0.427811; batch adversarial loss: 0.594790\n",
      "epoch 14; iter: 0; batch classifier loss: 0.520254; batch adversarial loss: 0.586920\n",
      "epoch 14; iter: 200; batch classifier loss: 0.375389; batch adversarial loss: 0.622141\n",
      "epoch 15; iter: 0; batch classifier loss: 0.358494; batch adversarial loss: 0.610482\n",
      "epoch 15; iter: 200; batch classifier loss: 0.377246; batch adversarial loss: 0.600464\n",
      "epoch 16; iter: 0; batch classifier loss: 0.330568; batch adversarial loss: 0.631124\n",
      "epoch 16; iter: 200; batch classifier loss: 0.493238; batch adversarial loss: 0.602217\n",
      "epoch 17; iter: 0; batch classifier loss: 0.430809; batch adversarial loss: 0.622507\n",
      "epoch 17; iter: 200; batch classifier loss: 0.420727; batch adversarial loss: 0.631383\n",
      "epoch 18; iter: 0; batch classifier loss: 0.463418; batch adversarial loss: 0.613122\n",
      "epoch 18; iter: 200; batch classifier loss: 0.407586; batch adversarial loss: 0.583201\n",
      "epoch 19; iter: 0; batch classifier loss: 0.438854; batch adversarial loss: 0.588028\n",
      "epoch 19; iter: 200; batch classifier loss: 0.468554; batch adversarial loss: 0.586143\n",
      "epoch 20; iter: 0; batch classifier loss: 0.491485; batch adversarial loss: 0.627042\n",
      "epoch 20; iter: 200; batch classifier loss: 0.434700; batch adversarial loss: 0.629269\n",
      "epoch 21; iter: 0; batch classifier loss: 0.445875; batch adversarial loss: 0.589738\n",
      "epoch 21; iter: 200; batch classifier loss: 0.435593; batch adversarial loss: 0.629081\n",
      "epoch 22; iter: 0; batch classifier loss: 0.364423; batch adversarial loss: 0.610640\n",
      "epoch 22; iter: 200; batch classifier loss: 0.389425; batch adversarial loss: 0.605668\n",
      "epoch 23; iter: 0; batch classifier loss: 0.562680; batch adversarial loss: 0.634945\n",
      "epoch 23; iter: 200; batch classifier loss: 0.473808; batch adversarial loss: 0.566636\n",
      "epoch 24; iter: 0; batch classifier loss: 0.424366; batch adversarial loss: 0.585584\n",
      "epoch 24; iter: 200; batch classifier loss: 0.359588; batch adversarial loss: 0.609465\n",
      "epoch 25; iter: 0; batch classifier loss: 0.519477; batch adversarial loss: 0.564588\n",
      "epoch 25; iter: 200; batch classifier loss: 0.449761; batch adversarial loss: 0.571238\n",
      "epoch 26; iter: 0; batch classifier loss: 0.447675; batch adversarial loss: 0.591839\n",
      "epoch 26; iter: 200; batch classifier loss: 0.369251; batch adversarial loss: 0.580864\n",
      "epoch 27; iter: 0; batch classifier loss: 0.384472; batch adversarial loss: 0.661156\n",
      "epoch 27; iter: 200; batch classifier loss: 0.393334; batch adversarial loss: 0.638825\n",
      "epoch 28; iter: 0; batch classifier loss: 0.451982; batch adversarial loss: 0.552013\n",
      "epoch 28; iter: 200; batch classifier loss: 0.399544; batch adversarial loss: 0.612651\n",
      "epoch 29; iter: 0; batch classifier loss: 0.390971; batch adversarial loss: 0.580380\n",
      "epoch 29; iter: 200; batch classifier loss: 0.401580; batch adversarial loss: 0.582367\n",
      "epoch 30; iter: 0; batch classifier loss: 0.297665; batch adversarial loss: 0.547717\n",
      "epoch 30; iter: 200; batch classifier loss: 0.470934; batch adversarial loss: 0.625385\n",
      "epoch 31; iter: 0; batch classifier loss: 0.418402; batch adversarial loss: 0.622812\n",
      "epoch 31; iter: 200; batch classifier loss: 0.385281; batch adversarial loss: 0.603873\n",
      "epoch 32; iter: 0; batch classifier loss: 0.418848; batch adversarial loss: 0.573049\n",
      "epoch 32; iter: 200; batch classifier loss: 0.443066; batch adversarial loss: 0.621068\n",
      "epoch 33; iter: 0; batch classifier loss: 0.461614; batch adversarial loss: 0.606992\n",
      "epoch 33; iter: 200; batch classifier loss: 0.451093; batch adversarial loss: 0.621659\n",
      "epoch 34; iter: 0; batch classifier loss: 0.407544; batch adversarial loss: 0.646782\n",
      "epoch 34; iter: 200; batch classifier loss: 0.441481; batch adversarial loss: 0.645866\n",
      "epoch 35; iter: 0; batch classifier loss: 0.344949; batch adversarial loss: 0.589151\n",
      "epoch 35; iter: 200; batch classifier loss: 0.387160; batch adversarial loss: 0.549727\n",
      "epoch 36; iter: 0; batch classifier loss: 0.432171; batch adversarial loss: 0.675994\n",
      "epoch 36; iter: 200; batch classifier loss: 0.388955; batch adversarial loss: 0.621595\n",
      "epoch 37; iter: 0; batch classifier loss: 0.443978; batch adversarial loss: 0.658480\n",
      "epoch 37; iter: 200; batch classifier loss: 0.422210; batch adversarial loss: 0.617039\n",
      "epoch 38; iter: 0; batch classifier loss: 0.381281; batch adversarial loss: 0.588504\n",
      "epoch 38; iter: 200; batch classifier loss: 0.323892; batch adversarial loss: 0.596638\n",
      "epoch 39; iter: 0; batch classifier loss: 0.396359; batch adversarial loss: 0.614882\n",
      "epoch 39; iter: 200; batch classifier loss: 0.473418; batch adversarial loss: 0.562516\n",
      "epoch 40; iter: 0; batch classifier loss: 0.415690; batch adversarial loss: 0.617672\n",
      "epoch 40; iter: 200; batch classifier loss: 0.472975; batch adversarial loss: 0.537192\n",
      "epoch 41; iter: 0; batch classifier loss: 0.473487; batch adversarial loss: 0.591801\n",
      "epoch 41; iter: 200; batch classifier loss: 0.379132; batch adversarial loss: 0.602665\n",
      "epoch 42; iter: 0; batch classifier loss: 0.418546; batch adversarial loss: 0.568511\n",
      "epoch 42; iter: 200; batch classifier loss: 0.366345; batch adversarial loss: 0.603213\n",
      "epoch 43; iter: 0; batch classifier loss: 0.364993; batch adversarial loss: 0.596730\n",
      "epoch 43; iter: 200; batch classifier loss: 0.436417; batch adversarial loss: 0.611999\n",
      "epoch 44; iter: 0; batch classifier loss: 0.419406; batch adversarial loss: 0.602352\n",
      "epoch 44; iter: 200; batch classifier loss: 0.472369; batch adversarial loss: 0.592246\n",
      "epoch 45; iter: 0; batch classifier loss: 0.479547; batch adversarial loss: 0.564802\n",
      "epoch 45; iter: 200; batch classifier loss: 0.476123; batch adversarial loss: 0.603599\n",
      "epoch 46; iter: 0; batch classifier loss: 0.546357; batch adversarial loss: 0.631894\n",
      "epoch 46; iter: 200; batch classifier loss: 0.389170; batch adversarial loss: 0.576345\n",
      "epoch 47; iter: 0; batch classifier loss: 0.480703; batch adversarial loss: 0.603182\n",
      "epoch 47; iter: 200; batch classifier loss: 0.586694; batch adversarial loss: 0.635715\n",
      "epoch 48; iter: 0; batch classifier loss: 0.394101; batch adversarial loss: 0.558852\n",
      "epoch 48; iter: 200; batch classifier loss: 0.453874; batch adversarial loss: 0.602889\n",
      "epoch 49; iter: 0; batch classifier loss: 0.506737; batch adversarial loss: 0.624289\n",
      "epoch 49; iter: 200; batch classifier loss: 0.359482; batch adversarial loss: 0.618086\n"
     ]
    },
    {
     "data": {
      "text/plain": [
       "<aif360.algorithms.inprocessing.adversarial_debiasing.AdversarialDebiasing at 0x1c32efcf10>"
      ]
     },
     "execution_count": 12,
     "metadata": {
      "tags": []
     },
     "output_type": "execute_result"
    }
   ],
   "source": [
    "debiased_model.fit(dataset_orig_train)"
   ]
  },
  {
   "cell_type": "code",
   "execution_count": null,
   "metadata": {
    "colab": {},
    "colab_type": "code",
    "id": "tZF-Kih6OUWp"
   },
   "outputs": [],
   "source": [
    "# Apply the plain model to test data\n",
    "dataset_debiasing_train = debiased_model.predict(dataset_orig_train)\n",
    "dataset_debiasing_test = debiased_model.predict(dataset_orig_test)"
   ]
  },
  {
   "cell_type": "code",
   "execution_count": null,
   "metadata": {
    "colab": {},
    "colab_type": "code",
    "id": "t1vZGQm0OUWw",
    "outputId": "af8617b6-4891-4a71-8ca4-4d5ae559c311"
   },
   "outputs": [
    {
     "data": {
      "text/markdown": [
       "#### Plain model - without debiasing - dataset metrics"
      ],
      "text/plain": [
       "<IPython.core.display.Markdown object>"
      ]
     },
     "metadata": {
      "tags": []
     },
     "output_type": "display_data"
    },
    {
     "name": "stdout",
     "output_type": "stream",
     "text": [
      "Train set: Difference in mean outcomes between unprivileged and privileged groups = -0.217876\n",
      "Test set: Difference in mean outcomes between unprivileged and privileged groups = -0.221187\n"
     ]
    },
    {
     "data": {
      "text/markdown": [
       "#### Model - with debiasing - dataset metrics"
      ],
      "text/plain": [
       "<IPython.core.display.Markdown object>"
      ]
     },
     "metadata": {
      "tags": []
     },
     "output_type": "display_data"
    },
    {
     "name": "stdout",
     "output_type": "stream",
     "text": [
      "Train set: Difference in mean outcomes between unprivileged and privileged groups = -0.090157\n",
      "Test set: Difference in mean outcomes between unprivileged and privileged groups = -0.094732\n"
     ]
    },
    {
     "data": {
      "text/markdown": [
       "#### Plain model - without debiasing - classification metrics"
      ],
      "text/plain": [
       "<IPython.core.display.Markdown object>"
      ]
     },
     "metadata": {
      "tags": []
     },
     "output_type": "display_data"
    },
    {
     "name": "stdout",
     "output_type": "stream",
     "text": [
      "Test set: Classification accuracy = 0.804955\n",
      "Test set: Balanced classification accuracy = 0.666400\n",
      "Test set: Disparate impact = 0.000000\n",
      "Test set: Equal opportunity difference = -0.470687\n",
      "Test set: Average odds difference = -0.291055\n",
      "Test set: Theil_index = 0.175113\n"
     ]
    },
    {
     "data": {
      "text/markdown": [
       "#### Model - with debiasing - classification metrics"
      ],
      "text/plain": [
       "<IPython.core.display.Markdown object>"
      ]
     },
     "metadata": {
      "tags": []
     },
     "output_type": "display_data"
    },
    {
     "name": "stdout",
     "output_type": "stream",
     "text": [
      "Test set: Classification accuracy = 0.792056\n",
      "Test set: Balanced classification accuracy = 0.672481\n",
      "Test set: Disparate impact = 0.553746\n",
      "Test set: Equal opportunity difference = -0.090716\n",
      "Test set: Average odds difference = -0.053841\n",
      "Test set: Theil_index = 0.170358\n"
     ]
    }
   ],
   "source": [
    "# Metrics for the dataset from plain model (without debiasing)\n",
    "display(Markdown(\"#### Plain model - without debiasing - dataset metrics\"))\n",
    "print(\"Train set: Difference in mean outcomes between unprivileged and privileged groups = %f\" % metric_dataset_nodebiasing_train.mean_difference())\n",
    "print(\"Test set: Difference in mean outcomes between unprivileged and privileged groups = %f\" % metric_dataset_nodebiasing_test.mean_difference())\n",
    "\n",
    "# Metrics for the dataset from model with debiasing\n",
    "display(Markdown(\"#### Model - with debiasing - dataset metrics\"))\n",
    "metric_dataset_debiasing_train = BinaryLabelDatasetMetric(dataset_debiasing_train, \n",
    "                                             unprivileged_groups=unprivileged_groups,\n",
    "                                             privileged_groups=privileged_groups)\n",
    "\n",
    "print(\"Train set: Difference in mean outcomes between unprivileged and privileged groups = %f\" % metric_dataset_debiasing_train.mean_difference())\n",
    "\n",
    "metric_dataset_debiasing_test = BinaryLabelDatasetMetric(dataset_debiasing_test, \n",
    "                                             unprivileged_groups=unprivileged_groups,\n",
    "                                             privileged_groups=privileged_groups)\n",
    "\n",
    "print(\"Test set: Difference in mean outcomes between unprivileged and privileged groups = %f\" % metric_dataset_debiasing_test.mean_difference())\n",
    "\n",
    "\n",
    "\n",
    "display(Markdown(\"#### Plain model - without debiasing - classification metrics\"))\n",
    "print(\"Test set: Classification accuracy = %f\" % classified_metric_nodebiasing_test.accuracy())\n",
    "TPR = classified_metric_nodebiasing_test.true_positive_rate()\n",
    "TNR = classified_metric_nodebiasing_test.true_negative_rate()\n",
    "bal_acc_nodebiasing_test = 0.5*(TPR+TNR)\n",
    "print(\"Test set: Balanced classification accuracy = %f\" % bal_acc_nodebiasing_test)\n",
    "print(\"Test set: Disparate impact = %f\" % classified_metric_nodebiasing_test.disparate_impact())\n",
    "print(\"Test set: Equal opportunity difference = %f\" % classified_metric_nodebiasing_test.equal_opportunity_difference())\n",
    "print(\"Test set: Average odds difference = %f\" % classified_metric_nodebiasing_test.average_odds_difference())\n",
    "print(\"Test set: Theil_index = %f\" % classified_metric_nodebiasing_test.theil_index())\n",
    "\n",
    "\n",
    "\n",
    "display(Markdown(\"#### Model - with debiasing - classification metrics\"))\n",
    "classified_metric_debiasing_test = ClassificationMetric(dataset_orig_test, \n",
    "                                                 dataset_debiasing_test,\n",
    "                                                 unprivileged_groups=unprivileged_groups,\n",
    "                                                 privileged_groups=privileged_groups)\n",
    "print(\"Test set: Classification accuracy = %f\" % classified_metric_debiasing_test.accuracy())\n",
    "TPR = classified_metric_debiasing_test.true_positive_rate()\n",
    "TNR = classified_metric_debiasing_test.true_negative_rate()\n",
    "bal_acc_debiasing_test = 0.5*(TPR+TNR)\n",
    "print(\"Test set: Balanced classification accuracy = %f\" % bal_acc_debiasing_test)\n",
    "print(\"Test set: Disparate impact = %f\" % classified_metric_debiasing_test.disparate_impact())\n",
    "print(\"Test set: Equal opportunity difference = %f\" % classified_metric_debiasing_test.equal_opportunity_difference())\n",
    "print(\"Test set: Average odds difference = %f\" % classified_metric_debiasing_test.average_odds_difference())\n",
    "print(\"Test set: Theil_index = %f\" % classified_metric_debiasing_test.theil_index())"
   ]
  },
  {
   "cell_type": "markdown",
   "metadata": {
    "colab_type": "text",
    "id": "qdhvSP-nOUWz"
   },
   "source": [
    "\n",
    "    References:\n",
    "    [1] B. H. Zhang, B. Lemoine, and M. Mitchell, \"Mitigating Unwanted Biases with Adversarial Learning,\" \n",
    "    AAAI/ACM Conference on Artificial Intelligence, Ethics, and Society, 2018."
   ]
  }
 ],
 "metadata": {
  "colab": {
   "include_colab_link": true,
   "name": "demo_adversarial_debiasing.ipynb",
   "provenance": []
  },
  "kernelspec": {
   "display_name": "Python 3",
   "language": "python",
   "name": "python3"
  },
  "language_info": {
   "codemirror_mode": {
    "name": "ipython",
    "version": 3
   },
   "file_extension": ".py",
   "mimetype": "text/x-python",
   "name": "python",
   "nbconvert_exporter": "python",
   "pygments_lexer": "ipython3",
   "version": "3.7.5"
  }
 },
 "nbformat": 4,
 "nbformat_minor": 4
}
