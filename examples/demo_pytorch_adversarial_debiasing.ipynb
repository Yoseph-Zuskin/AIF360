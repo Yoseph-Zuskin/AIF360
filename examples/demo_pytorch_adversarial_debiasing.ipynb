{
 "cells": [
  {
   "cell_type": "markdown",
   "metadata": {
    "colab_type": "text",
    "id": "view-in-github"
   },
   "source": [
    "<a href=\"https://colab.research.google.com/github/Yoseph-Zuskin/AIF360/blob/master/examples/demo_pytorch_adversarial_debiasing.ipynb\" target=\"_parent\"><img src=\"https://colab.research.google.com/assets/colab-badge.svg\" alt=\"Open In Colab\"/></a>"
   ]
  },
  {
   "cell_type": "markdown",
   "metadata": {
    "colab_type": "text",
    "id": "05jtdvK4OUVZ"
   },
   "source": [
    "#### This notebook demonstrates the use of adversarial debiasing algorithm to learn a fair classifier.\n",
    "Adversarial debiasing [1] is an in-processing technique that learns a classifier to maximize prediction accuracy and simultaneously reduce an adversary's ability to determine the protected attribute from the predictions. This approach leads to a fair classifier as the predictions cannot carry any group discrimination information that the adversary can exploit. We will see how to use this algorithm for learning models with and without fairness constraints and apply them on the Adult dataset."
   ]
  },
  {
   "cell_type": "code",
   "execution_count": 1,
   "metadata": {
    "colab": {},
    "colab_type": "code",
    "collapsed": true,
    "id": "5rccV9sUOUVc",
    "jupyter": {
     "outputs_hidden": true
    },
    "outputId": "a536dc16-15bc-40a2-b445-b7dc183a9bef"
   },
   "outputs": [
    {
     "name": "stderr",
     "output_type": "stream",
     "text": [
      "WARNING:root:No module named 'tensorflow': AdversarialDebiasing will be unavailable. To install, run:\n",
      "pip install 'aif360[AdversarialDebiasing]'\n"
     ]
    }
   ],
   "source": [
    "%matplotlib inline\n",
    "# Load all necessary packages\n",
    "import sys\n",
    "sys.path.append(\"../\")\n",
    "from aif360.datasets import BinaryLabelDataset\n",
    "from aif360.datasets import AdultDataset, GermanDataset, CompasDataset\n",
    "from aif360.metrics import BinaryLabelDatasetMetric\n",
    "from aif360.metrics import ClassificationMetric\n",
    "from aif360.metrics.utils import compute_boolean_conditioning_vector\n",
    "\n",
    "from aif360.algorithms.preprocessing.optim_preproc_helpers.data_preproc_functions import load_preproc_data_adult, load_preproc_data_compas, load_preproc_data_german\n",
    "\n",
    "from aif360.pytorch.inprocessing.adversarial_debiasing import AdversarialDebiasing, ClassifierModel, AdversaryModel, default_classifier_ann, StaircaseExponentialLR\n",
    "from aif360.algorithms import Transformer\n",
    "\n",
    "from sklearn.preprocessing import StandardScaler, MaxAbsScaler\n",
    "from sklearn.metrics import accuracy_score\n",
    "\n",
    "from IPython.display import Markdown, display\n",
    "import matplotlib.pyplot as plt\n",
    "\n",
    "import torch"
   ]
  },
  {
   "cell_type": "markdown",
   "metadata": {
    "colab_type": "text",
    "id": "jVWm54jkOUVm"
   },
   "source": [
    "#### Load dataset and set options"
   ]
  },
  {
   "cell_type": "code",
   "execution_count": 2,
   "metadata": {
    "colab": {},
    "colab_type": "code",
    "id": "b3VphoFfOUVm"
   },
   "outputs": [],
   "source": [
    "# Get the dataset and split into train and test\n",
    "dataset_orig = load_preproc_data_adult()\n",
    "\n",
    "privileged_groups = [{'sex': 1}]\n",
    "unprivileged_groups = [{'sex': 0}]\n",
    "\n",
    "dataset_orig_train, dataset_orig_test = dataset_orig.split([0.7], shuffle=True)"
   ]
  },
  {
   "cell_type": "code",
   "execution_count": 3,
   "metadata": {},
   "outputs": [
    {
     "data": {
      "text/plain": [
       "(34189, 18)"
      ]
     },
     "execution_count": 3,
     "metadata": {},
     "output_type": "execute_result"
    }
   ],
   "source": [
    "dataset_orig_train.features.shape"
   ]
  },
  {
   "cell_type": "code",
   "execution_count": 4,
   "metadata": {
    "colab": {},
    "colab_type": "code",
    "id": "b0Fs80vmOUVy",
    "outputId": "60b77184-86e2-44a6-a82c-effb393eb188"
   },
   "outputs": [
    {
     "data": {
      "text/markdown": [
       "#### Training Dataset shape"
      ],
      "text/plain": [
       "<IPython.core.display.Markdown object>"
      ]
     },
     "metadata": {},
     "output_type": "display_data"
    },
    {
     "name": "stdout",
     "output_type": "stream",
     "text": [
      "(34189, 18)\n"
     ]
    },
    {
     "data": {
      "text/markdown": [
       "#### Favorable and unfavorable labels"
      ],
      "text/plain": [
       "<IPython.core.display.Markdown object>"
      ]
     },
     "metadata": {},
     "output_type": "display_data"
    },
    {
     "name": "stdout",
     "output_type": "stream",
     "text": [
      "1.0 0.0\n"
     ]
    },
    {
     "data": {
      "text/markdown": [
       "#### Protected attribute names"
      ],
      "text/plain": [
       "<IPython.core.display.Markdown object>"
      ]
     },
     "metadata": {},
     "output_type": "display_data"
    },
    {
     "name": "stdout",
     "output_type": "stream",
     "text": [
      "['sex', 'race']\n"
     ]
    },
    {
     "data": {
      "text/markdown": [
       "#### Privileged and unprivileged protected attribute values"
      ],
      "text/plain": [
       "<IPython.core.display.Markdown object>"
      ]
     },
     "metadata": {},
     "output_type": "display_data"
    },
    {
     "name": "stdout",
     "output_type": "stream",
     "text": [
      "[array([1.]), array([1.])] [array([0.]), array([0.])]\n"
     ]
    },
    {
     "data": {
      "text/markdown": [
       "#### Dataset feature names"
      ],
      "text/plain": [
       "<IPython.core.display.Markdown object>"
      ]
     },
     "metadata": {},
     "output_type": "display_data"
    },
    {
     "name": "stdout",
     "output_type": "stream",
     "text": [
      "['race', 'sex', 'Age (decade)=10', 'Age (decade)=20', 'Age (decade)=30', 'Age (decade)=40', 'Age (decade)=50', 'Age (decade)=60', 'Age (decade)=>=70', 'Education Years=6', 'Education Years=7', 'Education Years=8', 'Education Years=9', 'Education Years=10', 'Education Years=11', 'Education Years=12', 'Education Years=<6', 'Education Years=>12']\n"
     ]
    }
   ],
   "source": [
    "# print out some labels, names, etc.\n",
    "display(Markdown(\"#### Training Dataset shape\"))\n",
    "print(dataset_orig_train.features.shape)\n",
    "display(Markdown(\"#### Favorable and unfavorable labels\"))\n",
    "print(dataset_orig_train.favorable_label, dataset_orig_train.unfavorable_label)\n",
    "display(Markdown(\"#### Protected attribute names\"))\n",
    "print(dataset_orig_train.protected_attribute_names)\n",
    "display(Markdown(\"#### Privileged and unprivileged protected attribute values\"))\n",
    "print(dataset_orig_train.privileged_protected_attributes, \n",
    "      dataset_orig_train.unprivileged_protected_attributes)\n",
    "display(Markdown(\"#### Dataset feature names\"))\n",
    "print(dataset_orig_train.feature_names)"
   ]
  },
  {
   "cell_type": "markdown",
   "metadata": {
    "colab_type": "text",
    "id": "3hvQSijEOUV3"
   },
   "source": [
    "#### Metric for original training data"
   ]
  },
  {
   "cell_type": "code",
   "execution_count": 5,
   "metadata": {
    "colab": {},
    "colab_type": "code",
    "id": "gF4S2ecCOUV3",
    "outputId": "037dae18-f133-4a07-ba13-b133c3e8fba9"
   },
   "outputs": [
    {
     "data": {
      "text/markdown": [
       "#### Original training dataset"
      ],
      "text/plain": [
       "<IPython.core.display.Markdown object>"
      ]
     },
     "metadata": {},
     "output_type": "display_data"
    },
    {
     "name": "stdout",
     "output_type": "stream",
     "text": [
      "Train set: Difference in mean outcomes between unprivileged and privileged groups = -0.194322\n",
      "Test set: Difference in mean outcomes between unprivileged and privileged groups = -0.194895\n"
     ]
    }
   ],
   "source": [
    "# Metric for the original dataset\n",
    "metric_orig_train = BinaryLabelDatasetMetric(dataset_orig_train, \n",
    "                                             unprivileged_groups=unprivileged_groups,\n",
    "                                             privileged_groups=privileged_groups)\n",
    "display(Markdown(\"#### Original training dataset\"))\n",
    "print(\"Train set: Difference in mean outcomes between unprivileged and privileged groups = %f\" % metric_orig_train.mean_difference())\n",
    "metric_orig_test = BinaryLabelDatasetMetric(dataset_orig_test, \n",
    "                                             unprivileged_groups=unprivileged_groups,\n",
    "                                             privileged_groups=privileged_groups)\n",
    "print(\"Test set: Difference in mean outcomes between unprivileged and privileged groups = %f\" % metric_orig_test.mean_difference())"
   ]
  },
  {
   "cell_type": "code",
   "execution_count": 6,
   "metadata": {
    "colab": {},
    "colab_type": "code",
    "id": "1h7o7U_UOUV9",
    "outputId": "6b99f507-dfe1-42b3-cdd3-b995d7c5a758"
   },
   "outputs": [
    {
     "data": {
      "text/markdown": [
       "#### Scaled dataset - Verify that the scaling does not affect the group label statistics"
      ],
      "text/plain": [
       "<IPython.core.display.Markdown object>"
      ]
     },
     "metadata": {},
     "output_type": "display_data"
    },
    {
     "name": "stdout",
     "output_type": "stream",
     "text": [
      "Train set: Difference in mean outcomes between unprivileged and privileged groups = -0.194322\n",
      "Test set: Difference in mean outcomes between unprivileged and privileged groups = -0.194895\n"
     ]
    }
   ],
   "source": [
    "min_max_scaler = MaxAbsScaler()\n",
    "dataset_orig_train.features = min_max_scaler.fit_transform(dataset_orig_train.features)\n",
    "dataset_orig_test.features = min_max_scaler.transform(dataset_orig_test.features)\n",
    "metric_scaled_train = BinaryLabelDatasetMetric(dataset_orig_train, \n",
    "                             unprivileged_groups=unprivileged_groups,\n",
    "                             privileged_groups=privileged_groups)\n",
    "display(Markdown(\"#### Scaled dataset - Verify that the scaling does not affect the group label statistics\"))\n",
    "print(\"Train set: Difference in mean outcomes between unprivileged and privileged groups = %f\" % metric_scaled_train.mean_difference())\n",
    "metric_scaled_test = BinaryLabelDatasetMetric(dataset_orig_test, \n",
    "                             unprivileged_groups=unprivileged_groups,\n",
    "                             privileged_groups=privileged_groups)\n",
    "print(\"Test set: Difference in mean outcomes between unprivileged and privileged groups = %f\" % metric_scaled_test.mean_difference())\n"
   ]
  },
  {
   "cell_type": "markdown",
   "metadata": {
    "colab_type": "text",
    "id": "k-ISMfC3OUWB"
   },
   "source": [
    "### Learn plan classifier without debiasing"
   ]
  },
  {
   "cell_type": "code",
   "execution_count": 7,
   "metadata": {},
   "outputs": [],
   "source": [
    "# Load post-processing algorithm that equalizes the odds\n",
    "# Learn parameters with debias set to False\n",
    "plain_model = AdversarialDebiasing(privileged_groups = privileged_groups,\n",
    "                                   unprivileged_groups = unprivileged_groups,\n",
    "                                   input_size = 18, debias = False,\n",
    "                                   verbose = True, seed = 360)"
   ]
  },
  {
   "cell_type": "code",
   "execution_count": 8,
   "metadata": {
    "scrolled": true
   },
   "outputs": [
    {
     "name": "stdout",
     "output_type": "stream",
     "text": [
      "Starting to train model(s) on cpu:\n",
      "Learning rate of the classifier model is now set to 0.001\n",
      "Epoch: [1/50] Batch: [1/268]\tClassifier Loss: 0.6958\tC(x): 0.6958\n",
      "Epoch: [1/50] Batch: [201/268]\tClassifier Loss: 0.4016\tC(x): 0.4856\n",
      "Epoch: [2/50] Batch: [1/268]\tClassifier Loss: 0.4942\tC(x): 0.4716\n",
      "Epoch: [2/50] Batch: [201/268]\tClassifier Loss: 0.4609\tC(x): 0.4507\n",
      "Epoch: [3/50] Batch: [1/268]\tClassifier Loss: 0.3745\tC(x): 0.4488\n",
      "Epoch: [3/50] Batch: [201/268]\tClassifier Loss: 0.4243\tC(x): 0.4418\n",
      "Epoch: [4/50] Batch: [1/268]\tClassifier Loss: 0.3710\tC(x): 0.4405\n",
      "Learning rate of the classifier model is now set to 0.00096\n",
      "Epoch: [4/50] Batch: [201/268]\tClassifier Loss: 0.3838\tC(x): 0.4363\n",
      "Epoch: [5/50] Batch: [1/268]\tClassifier Loss: 0.4433\tC(x): 0.4361\n",
      "Epoch: [5/50] Batch: [201/268]\tClassifier Loss: 0.4457\tC(x): 0.4340\n",
      "Epoch: [6/50] Batch: [1/268]\tClassifier Loss: 0.4141\tC(x): 0.4335\n",
      "Epoch: [6/50] Batch: [201/268]\tClassifier Loss: 0.3960\tC(x): 0.4323\n",
      "Epoch: [7/50] Batch: [1/268]\tClassifier Loss: 0.4004\tC(x): 0.4316\n",
      "Epoch: [7/50] Batch: [201/268]\tClassifier Loss: 0.4260\tC(x): 0.4307\n",
      "Epoch: [8/50] Batch: [1/268]\tClassifier Loss: 0.4575\tC(x): 0.4303\n",
      "Learning rate of the classifier model is now set to 0.0009216\n",
      "Epoch: [8/50] Batch: [201/268]\tClassifier Loss: 0.4458\tC(x): 0.4293\n",
      "Epoch: [9/50] Batch: [1/268]\tClassifier Loss: 0.4245\tC(x): 0.4291\n",
      "Epoch: [9/50] Batch: [201/268]\tClassifier Loss: 0.4487\tC(x): 0.4287\n",
      "Epoch: [10/50] Batch: [1/268]\tClassifier Loss: 0.4006\tC(x): 0.4283\n",
      "Epoch: [10/50] Batch: [201/268]\tClassifier Loss: 0.5039\tC(x): 0.4274\n",
      "Epoch: [11/50] Batch: [1/268]\tClassifier Loss: 0.3813\tC(x): 0.4275\n",
      "Epoch: [11/50] Batch: [201/268]\tClassifier Loss: 0.4598\tC(x): 0.4271\n",
      "Epoch: [12/50] Batch: [1/268]\tClassifier Loss: 0.4152\tC(x): 0.4269\n",
      "Learning rate of the classifier model is now set to 0.0008847359999999999\n",
      "Epoch: [12/50] Batch: [201/268]\tClassifier Loss: 0.3261\tC(x): 0.4262\n",
      "Epoch: [13/50] Batch: [1/268]\tClassifier Loss: 0.4591\tC(x): 0.4264\n",
      "Epoch: [13/50] Batch: [201/268]\tClassifier Loss: 0.4790\tC(x): 0.4260\n",
      "Epoch: [14/50] Batch: [1/268]\tClassifier Loss: 0.3831\tC(x): 0.4258\n",
      "Epoch: [14/50] Batch: [201/268]\tClassifier Loss: 0.3801\tC(x): 0.4255\n",
      "Epoch: [15/50] Batch: [1/268]\tClassifier Loss: 0.4470\tC(x): 0.4255\n",
      "Epoch: [15/50] Batch: [201/268]\tClassifier Loss: 0.3845\tC(x): 0.4253\n",
      "Learning rate of the classifier model is now set to 0.0008493465599999999\n",
      "Epoch: [16/50] Batch: [1/268]\tClassifier Loss: 0.3886\tC(x): 0.4251\n",
      "Epoch: [16/50] Batch: [201/268]\tClassifier Loss: 0.3786\tC(x): 0.4249\n",
      "Epoch: [17/50] Batch: [1/268]\tClassifier Loss: 0.3769\tC(x): 0.4248\n",
      "Epoch: [17/50] Batch: [201/268]\tClassifier Loss: 0.3916\tC(x): 0.4248\n",
      "Epoch: [18/50] Batch: [1/268]\tClassifier Loss: 0.3724\tC(x): 0.4246\n",
      "Epoch: [18/50] Batch: [201/268]\tClassifier Loss: 0.3860\tC(x): 0.4243\n",
      "Epoch: [19/50] Batch: [1/268]\tClassifier Loss: 0.4115\tC(x): 0.4243\n",
      "Learning rate of the classifier model is now set to 0.0008153726975999999\n",
      "Epoch: [19/50] Batch: [201/268]\tClassifier Loss: 0.4004\tC(x): 0.4241\n",
      "Epoch: [20/50] Batch: [1/268]\tClassifier Loss: 0.3908\tC(x): 0.4241\n",
      "Epoch: [20/50] Batch: [201/268]\tClassifier Loss: 0.4103\tC(x): 0.4239\n",
      "Epoch: [21/50] Batch: [1/268]\tClassifier Loss: 0.4592\tC(x): 0.4239\n",
      "Epoch: [21/50] Batch: [201/268]\tClassifier Loss: 0.4404\tC(x): 0.4237\n",
      "Epoch: [22/50] Batch: [1/268]\tClassifier Loss: 0.4788\tC(x): 0.4237\n",
      "Epoch: [22/50] Batch: [201/268]\tClassifier Loss: 0.4375\tC(x): 0.4236\n",
      "Epoch: [23/50] Batch: [1/268]\tClassifier Loss: 0.4137\tC(x): 0.4235\n",
      "Learning rate of the classifier model is now set to 0.0007827577896959999\n",
      "Epoch: [23/50] Batch: [201/268]\tClassifier Loss: 0.3707\tC(x): 0.4234\n",
      "Epoch: [24/50] Batch: [1/268]\tClassifier Loss: 0.4038\tC(x): 0.4234\n",
      "Epoch: [24/50] Batch: [201/268]\tClassifier Loss: 0.4250\tC(x): 0.4233\n",
      "Epoch: [25/50] Batch: [1/268]\tClassifier Loss: 0.3746\tC(x): 0.4232\n",
      "Epoch: [25/50] Batch: [201/268]\tClassifier Loss: 0.4178\tC(x): 0.4231\n",
      "Epoch: [26/50] Batch: [1/268]\tClassifier Loss: 0.3882\tC(x): 0.4231\n",
      "Epoch: [26/50] Batch: [201/268]\tClassifier Loss: 0.4277\tC(x): 0.4230\n",
      "Epoch: [27/50] Batch: [1/268]\tClassifier Loss: 0.3718\tC(x): 0.4229\n",
      "Learning rate of the classifier model is now set to 0.0007514474781081599\n",
      "Epoch: [27/50] Batch: [201/268]\tClassifier Loss: 0.3505\tC(x): 0.4229\n",
      "Epoch: [28/50] Batch: [1/268]\tClassifier Loss: 0.4280\tC(x): 0.4228\n",
      "Epoch: [28/50] Batch: [201/268]\tClassifier Loss: 0.4870\tC(x): 0.4227\n",
      "Epoch: [29/50] Batch: [1/268]\tClassifier Loss: 0.4768\tC(x): 0.4227\n",
      "Epoch: [29/50] Batch: [201/268]\tClassifier Loss: 0.4875\tC(x): 0.4226\n",
      "Epoch: [30/50] Batch: [1/268]\tClassifier Loss: 0.4683\tC(x): 0.4226\n",
      "Epoch: [30/50] Batch: [201/268]\tClassifier Loss: 0.4136\tC(x): 0.4225\n",
      "Learning rate of the classifier model is now set to 0.0007213895789838334\n",
      "Epoch: [31/50] Batch: [1/268]\tClassifier Loss: 0.3713\tC(x): 0.4225\n",
      "Epoch: [31/50] Batch: [201/268]\tClassifier Loss: 0.4568\tC(x): 0.4224\n",
      "Epoch: [32/50] Batch: [1/268]\tClassifier Loss: 0.4203\tC(x): 0.4224\n",
      "Epoch: [32/50] Batch: [201/268]\tClassifier Loss: 0.4250\tC(x): 0.4223\n",
      "Epoch: [33/50] Batch: [1/268]\tClassifier Loss: 0.4036\tC(x): 0.4223\n",
      "Epoch: [33/50] Batch: [201/268]\tClassifier Loss: 0.4753\tC(x): 0.4222\n",
      "Epoch: [34/50] Batch: [1/268]\tClassifier Loss: 0.4330\tC(x): 0.4222\n",
      "Learning rate of the classifier model is now set to 0.0006925339958244801\n",
      "Epoch: [34/50] Batch: [201/268]\tClassifier Loss: 0.3698\tC(x): 0.4222\n",
      "Epoch: [35/50] Batch: [1/268]\tClassifier Loss: 0.4313\tC(x): 0.4221\n",
      "Epoch: [35/50] Batch: [201/268]\tClassifier Loss: 0.4460\tC(x): 0.4220\n",
      "Epoch: [36/50] Batch: [1/268]\tClassifier Loss: 0.4378\tC(x): 0.4221\n",
      "Epoch: [36/50] Batch: [201/268]\tClassifier Loss: 0.3476\tC(x): 0.4220\n",
      "Epoch: [37/50] Batch: [1/268]\tClassifier Loss: 0.4092\tC(x): 0.4220\n",
      "Epoch: [37/50] Batch: [201/268]\tClassifier Loss: 0.5900\tC(x): 0.4220\n",
      "Epoch: [38/50] Batch: [1/268]\tClassifier Loss: 0.4004\tC(x): 0.4219\n",
      "Learning rate of the classifier model is now set to 0.0006648326359915007\n",
      "Epoch: [38/50] Batch: [201/268]\tClassifier Loss: 0.3345\tC(x): 0.4219\n",
      "Epoch: [39/50] Batch: [1/268]\tClassifier Loss: 0.4086\tC(x): 0.4219\n",
      "Epoch: [39/50] Batch: [201/268]\tClassifier Loss: 0.4787\tC(x): 0.4218\n",
      "Epoch: [40/50] Batch: [1/268]\tClassifier Loss: 0.3662\tC(x): 0.4218\n",
      "Epoch: [40/50] Batch: [201/268]\tClassifier Loss: 0.3386\tC(x): 0.4217\n",
      "Epoch: [41/50] Batch: [1/268]\tClassifier Loss: 0.4007\tC(x): 0.4218\n",
      "Epoch: [41/50] Batch: [201/268]\tClassifier Loss: 0.4460\tC(x): 0.4217\n",
      "Epoch: [42/50] Batch: [1/268]\tClassifier Loss: 0.3990\tC(x): 0.4217\n",
      "Learning rate of the classifier model is now set to 0.0006382393305518408\n",
      "Epoch: [42/50] Batch: [201/268]\tClassifier Loss: 0.4318\tC(x): 0.4216\n",
      "Epoch: [43/50] Batch: [1/268]\tClassifier Loss: 0.4456\tC(x): 0.4216\n",
      "Epoch: [43/50] Batch: [201/268]\tClassifier Loss: 0.4548\tC(x): 0.4216\n",
      "Epoch: [44/50] Batch: [1/268]\tClassifier Loss: 0.3536\tC(x): 0.4215\n",
      "Epoch: [44/50] Batch: [201/268]\tClassifier Loss: 0.4937\tC(x): 0.4215\n",
      "Epoch: [45/50] Batch: [1/268]\tClassifier Loss: 0.4104\tC(x): 0.4215\n",
      "Epoch: [45/50] Batch: [201/268]\tClassifier Loss: 0.3698\tC(x): 0.4215\n",
      "Learning rate of the classifier model is now set to 0.0006127097573297671\n",
      "Epoch: [46/50] Batch: [1/268]\tClassifier Loss: 0.4522\tC(x): 0.4215\n",
      "Epoch: [46/50] Batch: [201/268]\tClassifier Loss: 0.5043\tC(x): 0.4214\n",
      "Epoch: [47/50] Batch: [1/268]\tClassifier Loss: 0.4208\tC(x): 0.4214\n",
      "Epoch: [47/50] Batch: [201/268]\tClassifier Loss: 0.3617\tC(x): 0.4213\n",
      "Epoch: [48/50] Batch: [1/268]\tClassifier Loss: 0.4197\tC(x): 0.4213\n",
      "Epoch: [48/50] Batch: [201/268]\tClassifier Loss: 0.4581\tC(x): 0.4213\n",
      "Epoch: [49/50] Batch: [1/268]\tClassifier Loss: 0.3836\tC(x): 0.4213\n",
      "Learning rate of the classifier model is now set to 0.0005882013670365765\n",
      "Epoch: [49/50] Batch: [201/268]\tClassifier Loss: 0.4146\tC(x): 0.4213\n",
      "Epoch: [50/50] Batch: [1/268]\tClassifier Loss: 0.4174\tC(x): 0.4213\n",
      "Epoch: [50/50] Batch: [201/268]\tClassifier Loss: 0.4546\tC(x): 0.4212\n"
     ]
    },
    {
     "data": {
      "text/plain": [
       "<aif360.pytorch.inprocessing.adversarial_debiasing_v2.AdversarialDebiasing at 0x22c362f4048>"
      ]
     },
     "execution_count": 8,
     "metadata": {},
     "output_type": "execute_result"
    }
   ],
   "source": [
    "plain_model.fit(dataset_orig_train)"
   ]
  },
  {
   "cell_type": "code",
   "execution_count": 9,
   "metadata": {},
   "outputs": [],
   "source": [
    "# Apply the plain model to test data\n",
    "dataset_nodebiasing_train = plain_model.predict(dataset_orig_train)\n",
    "dataset_nodebiasing_test = plain_model.predict(dataset_orig_test)"
   ]
  },
  {
   "cell_type": "code",
   "execution_count": 10,
   "metadata": {
    "colab": {},
    "colab_type": "code",
    "id": "U9Ij08GhOUWS",
    "outputId": "c62e42f8-4b79-485e-b5a5-41dd17b3edec"
   },
   "outputs": [
    {
     "data": {
      "text/markdown": [
       "#### Plain model - without debiasing - dataset metrics"
      ],
      "text/plain": [
       "<IPython.core.display.Markdown object>"
      ]
     },
     "metadata": {},
     "output_type": "display_data"
    },
    {
     "name": "stdout",
     "output_type": "stream",
     "text": [
      "Train set: Difference in mean outcomes between unprivileged and privileged groups = -0.219610\n",
      "Test set: Difference in mean outcomes between unprivileged and privileged groups = -0.218455\n"
     ]
    },
    {
     "data": {
      "text/markdown": [
       "#### Plain model - without debiasing - classification metrics"
      ],
      "text/plain": [
       "<IPython.core.display.Markdown object>"
      ]
     },
     "metadata": {},
     "output_type": "display_data"
    },
    {
     "name": "stdout",
     "output_type": "stream",
     "text": [
      "Test set: Classification accuracy = 0.800723\n",
      "Test set: Balanced classification accuracy = 0.662403\n",
      "Test set: Disparate impact = 0.001901\n",
      "Test set: Equal opportunity difference = -0.463140\n",
      "Test set: Average odds difference = -0.286606\n",
      "Test set: Theil_index = 0.180152\n"
     ]
    }
   ],
   "source": [
    "# Metrics for the dataset from plain model (without debiasing)\n",
    "display(Markdown(\"#### Plain model - without debiasing - dataset metrics\"))\n",
    "metric_dataset_nodebiasing_train = BinaryLabelDatasetMetric(dataset_nodebiasing_train, \n",
    "                                             unprivileged_groups=unprivileged_groups,\n",
    "                                             privileged_groups=privileged_groups)\n",
    "\n",
    "print(\"Train set: Difference in mean outcomes between unprivileged and privileged groups = %f\" % metric_dataset_nodebiasing_train.mean_difference())\n",
    "\n",
    "metric_dataset_nodebiasing_test = BinaryLabelDatasetMetric(dataset_nodebiasing_test, \n",
    "                                             unprivileged_groups=unprivileged_groups,\n",
    "                                             privileged_groups=privileged_groups)\n",
    "\n",
    "print(\"Test set: Difference in mean outcomes between unprivileged and privileged groups = %f\" % metric_dataset_nodebiasing_test.mean_difference())\n",
    "\n",
    "display(Markdown(\"#### Plain model - without debiasing - classification metrics\"))\n",
    "classified_metric_nodebiasing_test = ClassificationMetric(dataset_orig_test, \n",
    "                                                 dataset_nodebiasing_test,\n",
    "                                                 unprivileged_groups=unprivileged_groups,\n",
    "                                                 privileged_groups=privileged_groups)\n",
    "print(\"Test set: Classification accuracy = %f\" % classified_metric_nodebiasing_test.accuracy())\n",
    "TPR = classified_metric_nodebiasing_test.true_positive_rate()\n",
    "TNR = classified_metric_nodebiasing_test.true_negative_rate()\n",
    "bal_acc_nodebiasing_test = 0.5*(TPR+TNR)\n",
    "print(\"Test set: Balanced classification accuracy = %f\" % bal_acc_nodebiasing_test)\n",
    "print(\"Test set: Disparate impact = %f\" % classified_metric_nodebiasing_test.disparate_impact())\n",
    "print(\"Test set: Equal opportunity difference = %f\" % classified_metric_nodebiasing_test.equal_opportunity_difference())\n",
    "print(\"Test set: Average odds difference = %f\" % classified_metric_nodebiasing_test.average_odds_difference())\n",
    "print(\"Test set: Theil_index = %f\" % classified_metric_nodebiasing_test.theil_index())"
   ]
  },
  {
   "cell_type": "markdown",
   "metadata": {
    "colab_type": "text",
    "id": "lzvuFHvOOUWX"
   },
   "source": [
    "### Apply in-processing algorithm based on adversarial learning"
   ]
  },
  {
   "cell_type": "code",
   "execution_count": 11,
   "metadata": {
    "colab": {},
    "colab_type": "code",
    "id": "N4D6YRyZOUWd"
   },
   "outputs": [],
   "source": [
    "# Learn parameters with debias set to True\n",
    "debiased_model = AdversarialDebiasing(privileged_groups = privileged_groups,\n",
    "                                      unprivileged_groups = unprivileged_groups,\n",
    "                                      input_size = 18, debias = True,\n",
    "                                      verbose = True, seed = 360)"
   ]
  },
  {
   "cell_type": "code",
   "execution_count": 12,
   "metadata": {
    "colab": {},
    "colab_type": "code",
    "id": "neS5Ouj5OUWn",
    "outputId": "1f9a5eb1-61a6-4f04-ed18-339007cd285b",
    "scrolled": true
   },
   "outputs": [
    {
     "name": "stdout",
     "output_type": "stream",
     "text": [
      "Starting to train model(s) on cpu:\n",
      "Learning rate of the classifier model is now set to 0.001\n",
      "Learning rate of the adversary model is now set to 0.001\n",
      "Epoch: [1/50] Batch: [1/268]\tClassifier_Loss: 0.6958\tAdversary Loss: 0.5915\tC(x): 0.6958\tA(x, y): 0.5915\n",
      "Epoch: [1/50] Batch: [201/268]\tClassifier_Loss: 0.5955\tAdversary Loss: 0.6519\tC(x): 0.6142\tA(x, y): 0.6366\n",
      "Epoch: [2/50] Batch: [1/268]\tClassifier_Loss: 0.5898\tAdversary Loss: 0.6633\tC(x): 0.6072\tA(x, y): 0.6375\n",
      "Epoch: [2/50] Batch: [201/268]\tClassifier_Loss: 0.5806\tAdversary Loss: 0.5911\tC(x): 0.5872\tA(x, y): 0.6379\n",
      "Epoch: [3/50] Batch: [1/268]\tClassifier_Loss: 0.5694\tAdversary Loss: 0.6211\tC(x): 0.5813\tA(x, y): 0.6378\n",
      "Epoch: [3/50] Batch: [201/268]\tClassifier_Loss: 0.5447\tAdversary Loss: 0.6723\tC(x): 0.5730\tA(x, y): 0.6384\n",
      "Epoch: [4/50] Batch: [1/268]\tClassifier_Loss: 0.4813\tAdversary Loss: 0.6469\tC(x): 0.5695\tA(x, y): 0.6384\n",
      "Learning rate of the classifier model is now set to 0.00096\n",
      "Learning rate of the adversary model is now set to 0.00096\n",
      "Epoch: [4/50] Batch: [201/268]\tClassifier_Loss: 0.5447\tAdversary Loss: 0.6232\tC(x): 0.5578\tA(x, y): 0.6383\n",
      "Epoch: [5/50] Batch: [1/268]\tClassifier_Loss: 0.5578\tAdversary Loss: 0.6270\tC(x): 0.5553\tA(x, y): 0.6381\n",
      "Epoch: [5/50] Batch: [201/268]\tClassifier_Loss: 0.4730\tAdversary Loss: 0.6510\tC(x): 0.5486\tA(x, y): 0.6381\n",
      "Epoch: [6/50] Batch: [1/268]\tClassifier_Loss: 0.6865\tAdversary Loss: 0.6439\tC(x): 0.5472\tA(x, y): 0.6379\n",
      "Epoch: [6/50] Batch: [201/268]\tClassifier_Loss: 0.4875\tAdversary Loss: 0.6636\tC(x): 0.5443\tA(x, y): 0.6378\n",
      "Epoch: [7/50] Batch: [1/268]\tClassifier_Loss: 0.6341\tAdversary Loss: 0.6125\tC(x): 0.5439\tA(x, y): 0.6378\n",
      "Epoch: [7/50] Batch: [201/268]\tClassifier_Loss: 0.4749\tAdversary Loss: 0.6541\tC(x): 0.5429\tA(x, y): 0.6378\n",
      "Epoch: [8/50] Batch: [1/268]\tClassifier_Loss: 0.4092\tAdversary Loss: 0.6577\tC(x): 0.5427\tA(x, y): 0.6377\n",
      "Learning rate of the classifier model is now set to 0.0009216\n",
      "Learning rate of the adversary model is now set to 0.0009216\n",
      "Epoch: [8/50] Batch: [201/268]\tClassifier_Loss: 0.4697\tAdversary Loss: 0.6315\tC(x): 0.5413\tA(x, y): 0.6377\n",
      "Epoch: [9/50] Batch: [1/268]\tClassifier_Loss: 0.5444\tAdversary Loss: 0.6071\tC(x): 0.5413\tA(x, y): 0.6376\n",
      "Epoch: [9/50] Batch: [201/268]\tClassifier_Loss: 0.5109\tAdversary Loss: 0.6493\tC(x): 0.5412\tA(x, y): 0.6376\n",
      "Epoch: [10/50] Batch: [1/268]\tClassifier_Loss: 0.5325\tAdversary Loss: 0.6192\tC(x): 0.5412\tA(x, y): 0.6376\n",
      "Epoch: [10/50] Batch: [201/268]\tClassifier_Loss: 0.6083\tAdversary Loss: 0.6264\tC(x): 0.5411\tA(x, y): 0.6376\n",
      "Epoch: [11/50] Batch: [1/268]\tClassifier_Loss: 0.5905\tAdversary Loss: 0.6276\tC(x): 0.5413\tA(x, y): 0.6376\n",
      "Epoch: [11/50] Batch: [201/268]\tClassifier_Loss: 0.5433\tAdversary Loss: 0.6294\tC(x): 0.5416\tA(x, y): 0.6375\n",
      "Epoch: [12/50] Batch: [1/268]\tClassifier_Loss: 0.5358\tAdversary Loss: 0.6102\tC(x): 0.5414\tA(x, y): 0.6375\n",
      "Learning rate of the classifier model is now set to 0.0008847359999999999\n",
      "Learning rate of the adversary model is now set to 0.0008847359999999999\n",
      "Epoch: [12/50] Batch: [201/268]\tClassifier_Loss: 0.5549\tAdversary Loss: 0.6242\tC(x): 0.5409\tA(x, y): 0.6375\n",
      "Epoch: [13/50] Batch: [1/268]\tClassifier_Loss: 0.5289\tAdversary Loss: 0.6481\tC(x): 0.5407\tA(x, y): 0.6375\n",
      "Epoch: [13/50] Batch: [201/268]\tClassifier_Loss: 0.6485\tAdversary Loss: 0.6447\tC(x): 0.5404\tA(x, y): 0.6375\n",
      "Epoch: [14/50] Batch: [1/268]\tClassifier_Loss: 0.5377\tAdversary Loss: 0.6128\tC(x): 0.5402\tA(x, y): 0.6375\n",
      "Epoch: [14/50] Batch: [201/268]\tClassifier_Loss: 0.4735\tAdversary Loss: 0.6497\tC(x): 0.5398\tA(x, y): 0.6374\n",
      "Epoch: [15/50] Batch: [1/268]\tClassifier_Loss: 0.5366\tAdversary Loss: 0.6184\tC(x): 0.5395\tA(x, y): 0.6374\n",
      "Epoch: [15/50] Batch: [201/268]\tClassifier_Loss: 0.5569\tAdversary Loss: 0.6239\tC(x): 0.5391\tA(x, y): 0.6374\n",
      "Learning rate of the classifier model is now set to 0.0008493465599999999\n",
      "Learning rate of the adversary model is now set to 0.0008493465599999999\n",
      "Epoch: [16/50] Batch: [1/268]\tClassifier_Loss: 0.4978\tAdversary Loss: 0.6430\tC(x): 0.5389\tA(x, y): 0.6374\n",
      "Epoch: [16/50] Batch: [201/268]\tClassifier_Loss: 0.5416\tAdversary Loss: 0.6350\tC(x): 0.5380\tA(x, y): 0.6374\n",
      "Epoch: [17/50] Batch: [1/268]\tClassifier_Loss: 0.6186\tAdversary Loss: 0.6642\tC(x): 0.5380\tA(x, y): 0.6374\n",
      "Epoch: [17/50] Batch: [201/268]\tClassifier_Loss: 0.4671\tAdversary Loss: 0.6776\tC(x): 0.5376\tA(x, y): 0.6374\n",
      "Epoch: [18/50] Batch: [1/268]\tClassifier_Loss: 0.4613\tAdversary Loss: 0.6371\tC(x): 0.5373\tA(x, y): 0.6374\n",
      "Epoch: [18/50] Batch: [201/268]\tClassifier_Loss: 0.4732\tAdversary Loss: 0.6139\tC(x): 0.5370\tA(x, y): 0.6374\n",
      "Epoch: [19/50] Batch: [1/268]\tClassifier_Loss: 0.4800\tAdversary Loss: 0.6398\tC(x): 0.5367\tA(x, y): 0.6374\n",
      "Learning rate of the classifier model is now set to 0.0008153726975999999\n",
      "Learning rate of the adversary model is now set to 0.0008153726975999999\n",
      "Epoch: [19/50] Batch: [201/268]\tClassifier_Loss: 0.5577\tAdversary Loss: 0.6357\tC(x): 0.5363\tA(x, y): 0.6374\n",
      "Epoch: [20/50] Batch: [1/268]\tClassifier_Loss: 0.5134\tAdversary Loss: 0.6538\tC(x): 0.5361\tA(x, y): 0.6373\n",
      "Epoch: [20/50] Batch: [201/268]\tClassifier_Loss: 0.5544\tAdversary Loss: 0.6522\tC(x): 0.5354\tA(x, y): 0.6373\n",
      "Epoch: [21/50] Batch: [1/268]\tClassifier_Loss: 0.5028\tAdversary Loss: 0.6281\tC(x): 0.5353\tA(x, y): 0.6373\n",
      "Epoch: [21/50] Batch: [201/268]\tClassifier_Loss: 0.4368\tAdversary Loss: 0.5976\tC(x): 0.5349\tA(x, y): 0.6373\n",
      "Epoch: [22/50] Batch: [1/268]\tClassifier_Loss: 0.5827\tAdversary Loss: 0.6130\tC(x): 0.5346\tA(x, y): 0.6373\n",
      "Epoch: [22/50] Batch: [201/268]\tClassifier_Loss: 0.5200\tAdversary Loss: 0.6120\tC(x): 0.5342\tA(x, y): 0.6373\n",
      "Epoch: [23/50] Batch: [1/268]\tClassifier_Loss: 0.5121\tAdversary Loss: 0.6450\tC(x): 0.5339\tA(x, y): 0.6373\n",
      "Learning rate of the classifier model is now set to 0.0007827577896959999\n",
      "Learning rate of the adversary model is now set to 0.0007827577896959999\n",
      "Epoch: [23/50] Batch: [201/268]\tClassifier_Loss: 0.5499\tAdversary Loss: 0.6520\tC(x): 0.5337\tA(x, y): 0.6372\n",
      "Epoch: [24/50] Batch: [1/268]\tClassifier_Loss: 0.4709\tAdversary Loss: 0.6440\tC(x): 0.5335\tA(x, y): 0.6372\n",
      "Epoch: [24/50] Batch: [201/268]\tClassifier_Loss: 0.4778\tAdversary Loss: 0.6514\tC(x): 0.5333\tA(x, y): 0.6372\n",
      "Epoch: [25/50] Batch: [1/268]\tClassifier_Loss: 0.5811\tAdversary Loss: 0.6014\tC(x): 0.5332\tA(x, y): 0.6372\n",
      "Epoch: [25/50] Batch: [201/268]\tClassifier_Loss: 0.4132\tAdversary Loss: 0.6363\tC(x): 0.5329\tA(x, y): 0.6371\n",
      "Epoch: [26/50] Batch: [1/268]\tClassifier_Loss: 0.4725\tAdversary Loss: 0.6502\tC(x): 0.5327\tA(x, y): 0.6372\n",
      "Epoch: [26/50] Batch: [201/268]\tClassifier_Loss: 0.6863\tAdversary Loss: 0.6494\tC(x): 0.5327\tA(x, y): 0.6371\n",
      "Epoch: [27/50] Batch: [1/268]\tClassifier_Loss: 0.5323\tAdversary Loss: 0.6529\tC(x): 0.5326\tA(x, y): 0.6372\n",
      "Learning rate of the classifier model is now set to 0.0007514474781081599\n",
      "Learning rate of the adversary model is now set to 0.0007514474781081599\n",
      "Epoch: [27/50] Batch: [201/268]\tClassifier_Loss: 0.4866\tAdversary Loss: 0.6173\tC(x): 0.5324\tA(x, y): 0.6371\n",
      "Epoch: [28/50] Batch: [1/268]\tClassifier_Loss: 0.6272\tAdversary Loss: 0.5972\tC(x): 0.5323\tA(x, y): 0.6371\n",
      "Epoch: [28/50] Batch: [201/268]\tClassifier_Loss: 0.4796\tAdversary Loss: 0.6656\tC(x): 0.5321\tA(x, y): 0.6371\n",
      "Epoch: [29/50] Batch: [1/268]\tClassifier_Loss: 0.4978\tAdversary Loss: 0.6279\tC(x): 0.5320\tA(x, y): 0.6371\n",
      "Epoch: [29/50] Batch: [201/268]\tClassifier_Loss: 0.5211\tAdversary Loss: 0.6406\tC(x): 0.5317\tA(x, y): 0.6370\n",
      "Epoch: [30/50] Batch: [1/268]\tClassifier_Loss: 0.4959\tAdversary Loss: 0.6428\tC(x): 0.5316\tA(x, y): 0.6370\n",
      "Epoch: [30/50] Batch: [201/268]\tClassifier_Loss: 0.4389\tAdversary Loss: 0.6655\tC(x): 0.5314\tA(x, y): 0.6370\n",
      "Learning rate of the classifier model is now set to 0.0007213895789838334\n",
      "Learning rate of the adversary model is now set to 0.0007213895789838334\n",
      "Epoch: [31/50] Batch: [1/268]\tClassifier_Loss: 0.5008\tAdversary Loss: 0.6381\tC(x): 0.5314\tA(x, y): 0.6370\n",
      "Epoch: [31/50] Batch: [201/268]\tClassifier_Loss: 0.4866\tAdversary Loss: 0.6526\tC(x): 0.5312\tA(x, y): 0.6370\n",
      "Epoch: [32/50] Batch: [1/268]\tClassifier_Loss: 0.5663\tAdversary Loss: 0.6366\tC(x): 0.5312\tA(x, y): 0.6370\n",
      "Epoch: [32/50] Batch: [201/268]\tClassifier_Loss: 0.6865\tAdversary Loss: 0.6323\tC(x): 0.5310\tA(x, y): 0.6370\n",
      "Epoch: [33/50] Batch: [1/268]\tClassifier_Loss: 0.4773\tAdversary Loss: 0.6417\tC(x): 0.5309\tA(x, y): 0.6370\n",
      "Epoch: [33/50] Batch: [201/268]\tClassifier_Loss: 0.4650\tAdversary Loss: 0.6337\tC(x): 0.5308\tA(x, y): 0.6370\n",
      "Epoch: [34/50] Batch: [1/268]\tClassifier_Loss: 0.6443\tAdversary Loss: 0.6431\tC(x): 0.5308\tA(x, y): 0.6370\n",
      "Learning rate of the classifier model is now set to 0.0006925339958244801\n",
      "Learning rate of the adversary model is now set to 0.0006925339958244801\n",
      "Epoch: [34/50] Batch: [201/268]\tClassifier_Loss: 0.4527\tAdversary Loss: 0.6287\tC(x): 0.5304\tA(x, y): 0.6369\n",
      "Epoch: [35/50] Batch: [1/268]\tClassifier_Loss: 0.4334\tAdversary Loss: 0.6639\tC(x): 0.5304\tA(x, y): 0.6369\n",
      "Epoch: [35/50] Batch: [201/268]\tClassifier_Loss: 0.4888\tAdversary Loss: 0.6752\tC(x): 0.5303\tA(x, y): 0.6369\n",
      "Epoch: [36/50] Batch: [1/268]\tClassifier_Loss: 0.5897\tAdversary Loss: 0.6369\tC(x): 0.5304\tA(x, y): 0.6369\n",
      "Epoch: [36/50] Batch: [201/268]\tClassifier_Loss: 0.4955\tAdversary Loss: 0.6307\tC(x): 0.5303\tA(x, y): 0.6369\n",
      "Epoch: [37/50] Batch: [1/268]\tClassifier_Loss: 0.4806\tAdversary Loss: 0.6223\tC(x): 0.5303\tA(x, y): 0.6369\n",
      "Epoch: [37/50] Batch: [201/268]\tClassifier_Loss: 0.5546\tAdversary Loss: 0.6227\tC(x): 0.5300\tA(x, y): 0.6368\n",
      "Epoch: [38/50] Batch: [1/268]\tClassifier_Loss: 0.6140\tAdversary Loss: 0.6094\tC(x): 0.5300\tA(x, y): 0.6369\n",
      "Learning rate of the classifier model is now set to 0.0006648326359915007\n",
      "Learning rate of the adversary model is now set to 0.0006648326359915007\n",
      "Epoch: [38/50] Batch: [201/268]\tClassifier_Loss: 0.5479\tAdversary Loss: 0.6206\tC(x): 0.5300\tA(x, y): 0.6368\n",
      "Epoch: [39/50] Batch: [1/268]\tClassifier_Loss: 0.5930\tAdversary Loss: 0.6290\tC(x): 0.5300\tA(x, y): 0.6368\n",
      "Epoch: [39/50] Batch: [201/268]\tClassifier_Loss: 0.5744\tAdversary Loss: 0.6492\tC(x): 0.5299\tA(x, y): 0.6368\n",
      "Epoch: [40/50] Batch: [1/268]\tClassifier_Loss: 0.5199\tAdversary Loss: 0.6662\tC(x): 0.5299\tA(x, y): 0.6368\n",
      "Epoch: [40/50] Batch: [201/268]\tClassifier_Loss: 0.5994\tAdversary Loss: 0.6148\tC(x): 0.5298\tA(x, y): 0.6368\n",
      "Epoch: [41/50] Batch: [1/268]\tClassifier_Loss: 0.5304\tAdversary Loss: 0.6347\tC(x): 0.5297\tA(x, y): 0.6368\n",
      "Epoch: [41/50] Batch: [201/268]\tClassifier_Loss: 0.5791\tAdversary Loss: 0.6216\tC(x): 0.5299\tA(x, y): 0.6368\n",
      "Epoch: [42/50] Batch: [1/268]\tClassifier_Loss: 0.6260\tAdversary Loss: 0.5918\tC(x): 0.5299\tA(x, y): 0.6368\n",
      "Learning rate of the classifier model is now set to 0.0006382393305518408\n",
      "Learning rate of the adversary model is now set to 0.0006382393305518408\n",
      "Epoch: [42/50] Batch: [201/268]\tClassifier_Loss: 0.6112\tAdversary Loss: 0.6490\tC(x): 0.5297\tA(x, y): 0.6368\n",
      "Epoch: [43/50] Batch: [1/268]\tClassifier_Loss: 0.5741\tAdversary Loss: 0.6211\tC(x): 0.5297\tA(x, y): 0.6368\n",
      "Epoch: [43/50] Batch: [201/268]\tClassifier_Loss: 0.5066\tAdversary Loss: 0.6448\tC(x): 0.5297\tA(x, y): 0.6367\n",
      "Epoch: [44/50] Batch: [1/268]\tClassifier_Loss: 0.5493\tAdversary Loss: 0.5919\tC(x): 0.5297\tA(x, y): 0.6367\n",
      "Epoch: [44/50] Batch: [201/268]\tClassifier_Loss: 0.5390\tAdversary Loss: 0.6345\tC(x): 0.5296\tA(x, y): 0.6367\n",
      "Epoch: [45/50] Batch: [1/268]\tClassifier_Loss: 0.4028\tAdversary Loss: 0.6505\tC(x): 0.5295\tA(x, y): 0.6367\n",
      "Epoch: [45/50] Batch: [201/268]\tClassifier_Loss: 0.6394\tAdversary Loss: 0.6085\tC(x): 0.5295\tA(x, y): 0.6367\n",
      "Learning rate of the classifier model is now set to 0.0006127097573297671\n",
      "Learning rate of the adversary model is now set to 0.0006127097573297671\n",
      "Epoch: [46/50] Batch: [1/268]\tClassifier_Loss: 0.4441\tAdversary Loss: 0.6317\tC(x): 0.5296\tA(x, y): 0.6367\n",
      "Epoch: [46/50] Batch: [201/268]\tClassifier_Loss: 0.4715\tAdversary Loss: 0.6216\tC(x): 0.5297\tA(x, y): 0.6367\n",
      "Epoch: [47/50] Batch: [1/268]\tClassifier_Loss: 0.5550\tAdversary Loss: 0.6408\tC(x): 0.5297\tA(x, y): 0.6367\n",
      "Epoch: [47/50] Batch: [201/268]\tClassifier_Loss: 0.3778\tAdversary Loss: 0.6514\tC(x): 0.5296\tA(x, y): 0.6367\n",
      "Epoch: [48/50] Batch: [1/268]\tClassifier_Loss: 0.5592\tAdversary Loss: 0.6411\tC(x): 0.5298\tA(x, y): 0.6367\n",
      "Epoch: [48/50] Batch: [201/268]\tClassifier_Loss: 0.5466\tAdversary Loss: 0.6531\tC(x): 0.5298\tA(x, y): 0.6367\n",
      "Epoch: [49/50] Batch: [1/268]\tClassifier_Loss: 0.5293\tAdversary Loss: 0.6416\tC(x): 0.5297\tA(x, y): 0.6367\n",
      "Learning rate of the classifier model is now set to 0.0005882013670365765\n",
      "Learning rate of the adversary model is now set to 0.0005882013670365765\n",
      "Epoch: [49/50] Batch: [201/268]\tClassifier_Loss: 0.5595\tAdversary Loss: 0.6463\tC(x): 0.5297\tA(x, y): 0.6367\n",
      "Epoch: [50/50] Batch: [1/268]\tClassifier_Loss: 0.6012\tAdversary Loss: 0.6410\tC(x): 0.5296\tA(x, y): 0.6367\n",
      "Epoch: [50/50] Batch: [201/268]\tClassifier_Loss: 0.5768\tAdversary Loss: 0.6130\tC(x): 0.5296\tA(x, y): 0.6367\n"
     ]
    },
    {
     "data": {
      "text/plain": [
       "<aif360.pytorch.inprocessing.adversarial_debiasing_v2.AdversarialDebiasing at 0x22c37ebde48>"
      ]
     },
     "execution_count": 12,
     "metadata": {},
     "output_type": "execute_result"
    }
   ],
   "source": [
    "debiased_model.fit(dataset_orig_train)"
   ]
  },
  {
   "cell_type": "code",
   "execution_count": 13,
   "metadata": {
    "colab": {},
    "colab_type": "code",
    "id": "tZF-Kih6OUWp"
   },
   "outputs": [],
   "source": [
    "# Apply the plain model to test data\n",
    "dataset_debiasing_train = debiased_model.predict(dataset_orig_train)\n",
    "dataset_debiasing_test = debiased_model.predict(dataset_orig_test)"
   ]
  },
  {
   "cell_type": "code",
   "execution_count": 14,
   "metadata": {
    "colab": {},
    "colab_type": "code",
    "id": "t1vZGQm0OUWw",
    "outputId": "af8617b6-4891-4a71-8ca4-4d5ae559c311"
   },
   "outputs": [
    {
     "data": {
      "text/markdown": [
       "#### Plain model - without debiasing - dataset metrics"
      ],
      "text/plain": [
       "<IPython.core.display.Markdown object>"
      ]
     },
     "metadata": {},
     "output_type": "display_data"
    },
    {
     "name": "stdout",
     "output_type": "stream",
     "text": [
      "Train set: Difference in mean outcomes between unprivileged and privileged groups = -0.219610\n",
      "Test set: Difference in mean outcomes between unprivileged and privileged groups = -0.218455\n"
     ]
    },
    {
     "data": {
      "text/markdown": [
       "#### Model - with debiasing - dataset metrics"
      ],
      "text/plain": [
       "<IPython.core.display.Markdown object>"
      ]
     },
     "metadata": {},
     "output_type": "display_data"
    },
    {
     "name": "stdout",
     "output_type": "stream",
     "text": [
      "Train set: Difference in mean outcomes between unprivileged and privileged groups = -0.144798\n",
      "Test set: Difference in mean outcomes between unprivileged and privileged groups = -0.149193\n"
     ]
    },
    {
     "data": {
      "text/markdown": [
       "#### Plain model - without debiasing - classification metrics"
      ],
      "text/plain": [
       "<IPython.core.display.Markdown object>"
      ]
     },
     "metadata": {},
     "output_type": "display_data"
    },
    {
     "name": "stdout",
     "output_type": "stream",
     "text": [
      "Test set: Classification accuracy = 0.800723\n",
      "Test set: Balanced classification accuracy = 0.662403\n",
      "Test set: Disparate impact = 0.001901\n",
      "Test set: Equal opportunity difference = -0.463140\n",
      "Test set: Average odds difference = -0.286606\n",
      "Test set: Theil_index = 0.180152\n"
     ]
    },
    {
     "data": {
      "text/markdown": [
       "#### Model - with debiasing - classification metrics"
      ],
      "text/plain": [
       "<IPython.core.display.Markdown object>"
      ]
     },
     "metadata": {},
     "output_type": "display_data"
    },
    {
     "name": "stdout",
     "output_type": "stream",
     "text": [
      "Test set: Classification accuracy = 0.742510\n",
      "Test set: Balanced classification accuracy = 0.550761\n",
      "Test set: Disparate impact = 0.001392\n",
      "Test set: Equal opportunity difference = -0.206743\n",
      "Test set: Average odds difference = -0.164946\n",
      "Test set: Theil_index = 0.246842\n"
     ]
    }
   ],
   "source": [
    "# Metrics for the dataset from plain model (without debiasing)\n",
    "display(Markdown(\"#### Plain model - without debiasing - dataset metrics\"))\n",
    "print(\"Train set: Difference in mean outcomes between unprivileged and privileged groups = %f\" % metric_dataset_nodebiasing_train.mean_difference())\n",
    "print(\"Test set: Difference in mean outcomes between unprivileged and privileged groups = %f\" % metric_dataset_nodebiasing_test.mean_difference())\n",
    "\n",
    "# Metrics for the dataset from model with debiasing\n",
    "display(Markdown(\"#### Model - with debiasing - dataset metrics\"))\n",
    "metric_dataset_debiasing_train = BinaryLabelDatasetMetric(dataset_debiasing_train, \n",
    "                                             unprivileged_groups=unprivileged_groups,\n",
    "                                             privileged_groups=privileged_groups)\n",
    "\n",
    "print(\"Train set: Difference in mean outcomes between unprivileged and privileged groups = %f\" % metric_dataset_debiasing_train.mean_difference())\n",
    "\n",
    "metric_dataset_debiasing_test = BinaryLabelDatasetMetric(dataset_debiasing_test, \n",
    "                                             unprivileged_groups=unprivileged_groups,\n",
    "                                             privileged_groups=privileged_groups)\n",
    "\n",
    "print(\"Test set: Difference in mean outcomes between unprivileged and privileged groups = %f\" % metric_dataset_debiasing_test.mean_difference())\n",
    "\n",
    "\n",
    "\n",
    "display(Markdown(\"#### Plain model - without debiasing - classification metrics\"))\n",
    "print(\"Test set: Classification accuracy = %f\" % classified_metric_nodebiasing_test.accuracy())\n",
    "TPR = classified_metric_nodebiasing_test.true_positive_rate()\n",
    "TNR = classified_metric_nodebiasing_test.true_negative_rate()\n",
    "bal_acc_nodebiasing_test = 0.5*(TPR+TNR)\n",
    "print(\"Test set: Balanced classification accuracy = %f\" % bal_acc_nodebiasing_test)\n",
    "print(\"Test set: Disparate impact = %f\" % classified_metric_nodebiasing_test.disparate_impact())\n",
    "print(\"Test set: Equal opportunity difference = %f\" % classified_metric_nodebiasing_test.equal_opportunity_difference())\n",
    "print(\"Test set: Average odds difference = %f\" % classified_metric_nodebiasing_test.average_odds_difference())\n",
    "print(\"Test set: Theil_index = %f\" % classified_metric_nodebiasing_test.theil_index())\n",
    "\n",
    "\n",
    "\n",
    "display(Markdown(\"#### Model - with debiasing - classification metrics\"))\n",
    "classified_metric_debiasing_test = ClassificationMetric(dataset_orig_test, \n",
    "                                                 dataset_debiasing_test,\n",
    "                                                 unprivileged_groups=unprivileged_groups,\n",
    "                                                 privileged_groups=privileged_groups)\n",
    "print(\"Test set: Classification accuracy = %f\" % classified_metric_debiasing_test.accuracy())\n",
    "TPR = classified_metric_debiasing_test.true_positive_rate()\n",
    "TNR = classified_metric_debiasing_test.true_negative_rate()\n",
    "bal_acc_debiasing_test = 0.5*(TPR+TNR)\n",
    "print(\"Test set: Balanced classification accuracy = %f\" % bal_acc_debiasing_test)\n",
    "print(\"Test set: Disparate impact = %f\" % classified_metric_debiasing_test.disparate_impact())\n",
    "print(\"Test set: Equal opportunity difference = %f\" % classified_metric_debiasing_test.equal_opportunity_difference())\n",
    "print(\"Test set: Average odds difference = %f\" % classified_metric_debiasing_test.average_odds_difference())\n",
    "print(\"Test set: Theil_index = %f\" % classified_metric_debiasing_test.theil_index())"
   ]
  },
  {
   "cell_type": "markdown",
   "metadata": {},
   "source": [
    "### Demonstration of AdversialDebiasing model fitting"
   ]
  },
  {
   "cell_type": "code",
   "execution_count": 15,
   "metadata": {},
   "outputs": [],
   "source": [
    "def init_weights(layer):\n",
    "    r\"\"\"Initialize layer weights and biases if it has any and the chosen initializer\n",
    "    is valid. Can be applied on any layer and will only initialize parametric layers.\n",
    "    \"\"\"\n",
    "\n",
    "    try:\n",
    "        layer.__getattr__('weight')\n",
    "        _has_weight = True\n",
    "    except:\n",
    "        _has_weight = False\n",
    "\n",
    "    try:\n",
    "        layer.__getattr__('bias')\n",
    "        _has_bias = True\n",
    "    except:\n",
    "        _has_bias = False\n",
    "\n",
    "    if _has_weight:\n",
    "        nn.init.xavier_uniform_(layer.weight.data)\n",
    "    if _has_bias:\n",
    "        try:\n",
    "            nn.init.xavier_uniform_(layer.bias.data)\n",
    "        except:\n",
    "            layer.bias.data.fill_(0.01)\n",
    "    else:\n",
    "        pass"
   ]
  },
  {
   "cell_type": "code",
   "execution_count": 16,
   "metadata": {},
   "outputs": [],
   "source": [
    "seed = 360\n",
    "num_epochs = 50"
   ]
  },
  {
   "cell_type": "code",
   "execution_count": 17,
   "metadata": {},
   "outputs": [
    {
     "data": {
      "text/plain": [
       "ClassifierModel(\n",
       "  (ann): Sequential(\n",
       "    (0): Linear(in_features=18, out_features=200, bias=True)\n",
       "    (1): ReLU()\n",
       "    (2): Dropout(p=0.5, inplace=False)\n",
       "    (3): Linear(in_features=200, out_features=1, bias=True)\n",
       "  )\n",
       ")"
      ]
     },
     "execution_count": 17,
     "metadata": {},
     "output_type": "execute_result"
    }
   ],
   "source": [
    "torch.manual_seed(seed)\n",
    "classifier = ClassifierModel(default_classifier_ann(18,[200],[0.5]), torch.sigmoid)\n",
    "classifier.apply(init_weights)"
   ]
  },
  {
   "cell_type": "code",
   "execution_count": 18,
   "metadata": {},
   "outputs": [
    {
     "data": {
      "text/plain": [
       "AdversaryModel(\n",
       "  (ann): Sequential(\n",
       "    (0): Linear(in_features=18, out_features=200, bias=True)\n",
       "    (1): ReLU()\n",
       "    (2): Dropout(p=0.5, inplace=False)\n",
       "    (3): Linear(in_features=200, out_features=1, bias=True)\n",
       "  )\n",
       "  (s): Sigmoid()\n",
       "  (encoder): Linear(in_features=3, out_features=1, bias=True)\n",
       ")"
      ]
     },
     "execution_count": 18,
     "metadata": {},
     "output_type": "execute_result"
    }
   ],
   "source": [
    "torch.manual_seed(seed)\n",
    "adversary = AdversaryModel(default_classifier_ann(18,[200],[0.5]))\n",
    "adversary.apply(init_weights)"
   ]
  },
  {
   "cell_type": "code",
   "execution_count": 19,
   "metadata": {},
   "outputs": [],
   "source": [
    "torch.manual_seed(seed)\n",
    "protected_attribute_index = dataset_orig_train.protected_attribute_names.index('sex')\n",
    "train_dataset = torch.utils.data.TensorDataset(\n",
    "    torch.from_numpy(dataset_orig_train.features).float(),\n",
    "    torch.from_numpy(dataset_orig_train.labels).float(),\n",
    "    torch.from_numpy(dataset_orig_train.protected_attributes[:, protected_attribute_index].\\\n",
    "    reshape(dataset_orig_train.protected_attributes.shape[0], -1)).float()\n",
    ")\n",
    "train_loader = torch.utils.data.DataLoader(train_dataset, batch_size=128, shuffle=True)"
   ]
  },
  {
   "cell_type": "code",
   "execution_count": 20,
   "metadata": {},
   "outputs": [],
   "source": [
    "import numpy as np\n",
    "from math import ceil\n",
    "num_train_samples, features_dim = np.shape(dataset_orig_train.features)\n",
    "global_steps = num_epochs * ceil(num_train_samples / 128)"
   ]
  },
  {
   "cell_type": "code",
   "execution_count": 21,
   "metadata": {},
   "outputs": [],
   "source": [
    "torch.manual_seed(seed)\n",
    "classifier_optim = torch.optim.Adam([p for p in classifier.parameters() if p.requires_grad], lr=0.001)\n",
    "classifier_lr_scheduler = StaircaseExponentialLR(classifier_optim, global_steps, 0.001, 100, 0.96, None, True, True)\n",
    "adversary_optim = torch.optim.Adam([p for p in adversary.parameters() if p.requires_grad], lr=0.001)\n",
    "adversary_lr_scheduler = StaircaseExponentialLR(adversary_optim, global_steps, 0.001, 100, 0.96, None, True, True)"
   ]
  },
  {
   "cell_type": "code",
   "execution_count": 22,
   "metadata": {},
   "outputs": [],
   "source": [
    "normalize = lambda x: x / (torch.norm(x) + np.finfo(np.float32).tiny)\n",
    "classifier_criterion = nn.BCELoss(reduction=\"mean\")\n",
    "adversary_criterion = nn.BCELoss(reduction=\"mean\")"
   ]
  },
  {
   "cell_type": "code",
   "execution_count": 23,
   "metadata": {
    "scrolled": true
   },
   "outputs": [
    {
     "name": "stdout",
     "output_type": "stream",
     "text": [
      "Learning rate of the classifier model is now set to 0.001\n",
      "Learning rate of the adversary model is now set to 0.001\n",
      "Epoch: [1/50] Batch: [1/268]\tClassifier_Loss: 0.7639\tAdversary Loss: 1.0491\tC(x): 0.7639\tA(x, y): 1.0491\n",
      "Learning rate of the classifier model is now set to 0.00096\n",
      "Learning rate of the adversary model is now set to 0.00096\n",
      "Learning rate of the classifier model is now set to 0.0009216\n",
      "Learning rate of the adversary model is now set to 0.0009216\n",
      "Epoch: [1/50] Batch: [201/268]\tClassifier_Loss: 5.4478\tAdversary Loss: 0.9519\tC(x): 4.9362\tA(x, y): 1.0934\n",
      "Epoch: [2/50] Batch: [1/268]\tClassifier_Loss: 4.5787\tAdversary Loss: 0.9509\tC(x): 4.9010\tA(x, y): 1.0597\n",
      "Learning rate of the classifier model is now set to 0.0008847359999999999\n",
      "Learning rate of the adversary model is now set to 0.0008847359999999999\n",
      "Learning rate of the classifier model is now set to 0.0008493465599999999\n",
      "Learning rate of the adversary model is now set to 0.0008493465599999999\n",
      "Epoch: [2/50] Batch: [201/268]\tClassifier_Loss: 3.2177\tAdversary Loss: 0.7828\tC(x): 4.3949\tA(x, y): 0.9679\n",
      "Learning rate of the classifier model is now set to 0.0008153726975999999\n",
      "Learning rate of the adversary model is now set to 0.0008153726975999999\n",
      "Epoch: [3/50] Batch: [1/268]\tClassifier_Loss: 2.4576\tAdversary Loss: 0.7164\tC(x): 4.1831\tA(x, y): 0.9420\n",
      "Learning rate of the classifier model is now set to 0.0007827577896959999\n",
      "Learning rate of the adversary model is now set to 0.0007827577896959999\n",
      "Learning rate of the classifier model is now set to 0.0007514474781081599\n",
      "Learning rate of the adversary model is now set to 0.0007514474781081599\n",
      "Epoch: [3/50] Batch: [201/268]\tClassifier_Loss: 1.6170\tAdversary Loss: 0.6764\tC(x): 3.5923\tA(x, y): 0.8811\n",
      "Learning rate of the classifier model is now set to 0.0007213895789838334\n",
      "Learning rate of the adversary model is now set to 0.0007213895789838334\n",
      "Epoch: [4/50] Batch: [1/268]\tClassifier_Loss: 1.5498\tAdversary Loss: 0.6954\tC(x): 3.4165\tA(x, y): 0.8645\n",
      "Learning rate of the classifier model is now set to 0.0006925339958244801\n",
      "Learning rate of the adversary model is now set to 0.0006925339958244801\n",
      "Learning rate of the classifier model is now set to 0.0006648326359915007\n",
      "Learning rate of the adversary model is now set to 0.0006648326359915007\n",
      "Epoch: [4/50] Batch: [201/268]\tClassifier_Loss: 1.2448\tAdversary Loss: 0.6541\tC(x): 2.9920\tA(x, y): 0.8249\n",
      "Epoch: [5/50] Batch: [1/268]\tClassifier_Loss: 1.0913\tAdversary Loss: 0.6616\tC(x): 2.8698\tA(x, y): 0.8140\n",
      "Learning rate of the classifier model is now set to 0.0006382393305518408\n",
      "Learning rate of the adversary model is now set to 0.0006382393305518408\n",
      "Learning rate of the classifier model is now set to 0.0006127097573297671\n",
      "Learning rate of the adversary model is now set to 0.0006127097573297671\n",
      "Epoch: [5/50] Batch: [201/268]\tClassifier_Loss: 0.9108\tAdversary Loss: 0.6395\tC(x): 2.5719\tA(x, y): 0.7871\n",
      "Learning rate of the classifier model is now set to 0.0005882013670365765\n",
      "Learning rate of the adversary model is now set to 0.0005882013670365765\n",
      "Epoch: [6/50] Batch: [1/268]\tClassifier_Loss: 0.7880\tAdversary Loss: 0.6070\tC(x): 2.4862\tA(x, y): 0.7796\n",
      "Learning rate of the classifier model is now set to 0.0005646733123551134\n",
      "Learning rate of the adversary model is now set to 0.0005646733123551134\n",
      "Learning rate of the classifier model is now set to 0.0005420863798609088\n",
      "Learning rate of the adversary model is now set to 0.0005420863798609088\n",
      "Epoch: [6/50] Batch: [201/268]\tClassifier_Loss: 0.6485\tAdversary Loss: 0.6662\tC(x): 2.2655\tA(x, y): 0.7606\n",
      "Learning rate of the classifier model is now set to 0.0005204029246664724\n",
      "Learning rate of the adversary model is now set to 0.0005204029246664724\n",
      "Epoch: [7/50] Batch: [1/268]\tClassifier_Loss: 0.6945\tAdversary Loss: 0.6630\tC(x): 2.2005\tA(x, y): 0.7550\n",
      "Learning rate of the classifier model is now set to 0.0004995868076798134\n",
      "Learning rate of the adversary model is now set to 0.0004995868076798134\n",
      "Learning rate of the classifier model is now set to 0.0004796033353726209\n",
      "Learning rate of the adversary model is now set to 0.0004796033353726209\n",
      "Epoch: [7/50] Batch: [201/268]\tClassifier_Loss: 0.6518\tAdversary Loss: 0.5990\tC(x): 2.0275\tA(x, y): 0.7409\n",
      "Epoch: [8/50] Batch: [1/268]\tClassifier_Loss: 0.5131\tAdversary Loss: 0.6220\tC(x): 1.9759\tA(x, y): 0.7366\n",
      "Learning rate of the classifier model is now set to 0.00046041920195771606\n",
      "Learning rate of the adversary model is now set to 0.00046041920195771606\n",
      "Learning rate of the classifier model is now set to 0.00044200243387940743\n",
      "Learning rate of the adversary model is now set to 0.00044200243387940743\n",
      "Epoch: [8/50] Batch: [201/268]\tClassifier_Loss: 0.5682\tAdversary Loss: 0.6590\tC(x): 1.8429\tA(x, y): 0.7256\n",
      "Learning rate of the classifier model is now set to 0.0004243223365242311\n",
      "Learning rate of the adversary model is now set to 0.0004243223365242311\n",
      "Epoch: [9/50] Batch: [1/268]\tClassifier_Loss: 0.6517\tAdversary Loss: 0.5939\tC(x): 1.8032\tA(x, y): 0.7225\n",
      "Learning rate of the classifier model is now set to 0.00040734944306326185\n",
      "Learning rate of the adversary model is now set to 0.00040734944306326185\n",
      "Learning rate of the classifier model is now set to 0.00039105546534073135\n",
      "Learning rate of the adversary model is now set to 0.00039105546534073135\n",
      "Epoch: [9/50] Batch: [201/268]\tClassifier_Loss: 0.5680\tAdversary Loss: 0.5754\tC(x): 1.7007\tA(x, y): 0.7138\n",
      "Learning rate of the classifier model is now set to 0.0003754132467271021\n",
      "Learning rate of the adversary model is now set to 0.0003754132467271021\n",
      "Epoch: [10/50] Batch: [1/268]\tClassifier_Loss: 0.5402\tAdversary Loss: 0.6863\tC(x): 1.6697\tA(x, y): 0.7113\n",
      "Learning rate of the classifier model is now set to 0.000360396716858018\n",
      "Learning rate of the adversary model is now set to 0.000360396716858018\n",
      "Learning rate of the classifier model is now set to 0.00034598084818369723\n",
      "Learning rate of the adversary model is now set to 0.00034598084818369723\n",
      "Epoch: [10/50] Batch: [201/268]\tClassifier_Loss: 0.6614\tAdversary Loss: 0.6041\tC(x): 1.5867\tA(x, y): 0.7042\n",
      "Epoch: [11/50] Batch: [1/268]\tClassifier_Loss: 0.6508\tAdversary Loss: 0.5831\tC(x): 1.5616\tA(x, y): 0.7021\n",
      "Learning rate of the classifier model is now set to 0.0003321416142563494\n",
      "Learning rate of the adversary model is now set to 0.0003321416142563494\n",
      "Learning rate of the classifier model is now set to 0.0003188559496860954\n",
      "Learning rate of the adversary model is now set to 0.0003188559496860954\n",
      "Epoch: [11/50] Batch: [201/268]\tClassifier_Loss: 0.5765\tAdversary Loss: 0.5718\tC(x): 1.4935\tA(x, y): 0.6962\n",
      "Learning rate of the classifier model is now set to 0.00030610171169865154\n",
      "Learning rate of the adversary model is now set to 0.00030610171169865154\n",
      "Epoch: [12/50] Batch: [1/268]\tClassifier_Loss: 0.5440\tAdversary Loss: 0.6399\tC(x): 1.4727\tA(x, y): 0.6944\n",
      "Learning rate of the classifier model is now set to 0.0002938576432307055\n",
      "Learning rate of the adversary model is now set to 0.0002938576432307055\n",
      "Learning rate of the classifier model is now set to 0.00028210333750147725\n",
      "Learning rate of the adversary model is now set to 0.00028210333750147725\n",
      "Epoch: [12/50] Batch: [201/268]\tClassifier_Loss: 0.5542\tAdversary Loss: 0.6527\tC(x): 1.4155\tA(x, y): 0.6894\n",
      "Learning rate of the classifier model is now set to 0.00027081920400141813\n",
      "Learning rate of the adversary model is now set to 0.00027081920400141813\n",
      "Epoch: [13/50] Batch: [1/268]\tClassifier_Loss: 0.6200\tAdversary Loss: 0.5578\tC(x): 1.3979\tA(x, y): 0.6878\n",
      "Learning rate of the classifier model is now set to 0.0002599864358413614\n",
      "Learning rate of the adversary model is now set to 0.0002599864358413614\n",
      "Learning rate of the classifier model is now set to 0.00024958697840770695\n",
      "Learning rate of the adversary model is now set to 0.00024958697840770695\n",
      "Epoch: [13/50] Batch: [201/268]\tClassifier_Loss: 0.6426\tAdversary Loss: 0.5776\tC(x): 1.3496\tA(x, y): 0.6835\n",
      "Epoch: [14/50] Batch: [1/268]\tClassifier_Loss: 0.5945\tAdversary Loss: 0.5888\tC(x): 1.3344\tA(x, y): 0.6821\n",
      "Learning rate of the classifier model is now set to 0.00023960349927139865\n",
      "Learning rate of the adversary model is now set to 0.00023960349927139865\n",
      "Learning rate of the classifier model is now set to 0.0002300193593005427\n",
      "Learning rate of the adversary model is now set to 0.0002300193593005427\n",
      "Epoch: [14/50] Batch: [201/268]\tClassifier_Loss: 0.5959\tAdversary Loss: 0.6390\tC(x): 1.2929\tA(x, y): 0.6783\n",
      "Learning rate of the classifier model is now set to 0.00022081858492852097\n",
      "Learning rate of the adversary model is now set to 0.00022081858492852097\n",
      "Epoch: [15/50] Batch: [1/268]\tClassifier_Loss: 0.5295\tAdversary Loss: 0.6118\tC(x): 1.2797\tA(x, y): 0.6771\n",
      "Learning rate of the classifier model is now set to 0.00021198584153138015\n",
      "Learning rate of the adversary model is now set to 0.00021198584153138015\n",
      "Learning rate of the classifier model is now set to 0.0002035064078701249\n",
      "Learning rate of the adversary model is now set to 0.0002035064078701249\n",
      "Epoch: [15/50] Batch: [201/268]\tClassifier_Loss: 0.6003\tAdversary Loss: 0.5425\tC(x): 1.2433\tA(x, y): 0.6737\n",
      "Learning rate of the classifier model is now set to 0.00019536615155531993\n",
      "Learning rate of the adversary model is now set to 0.00019536615155531993\n",
      "Epoch: [16/50] Batch: [1/268]\tClassifier_Loss: 0.4528\tAdversary Loss: 0.5878\tC(x): 1.2317\tA(x, y): 0.6726\n",
      "Learning rate of the classifier model is now set to 0.0001875515054931071\n",
      "Learning rate of the adversary model is now set to 0.0001875515054931071\n",
      "Learning rate of the classifier model is now set to 0.00018004944527338283\n",
      "Learning rate of the adversary model is now set to 0.00018004944527338283\n",
      "Epoch: [16/50] Batch: [201/268]\tClassifier_Loss: 0.5012\tAdversary Loss: 0.6075\tC(x): 1.1995\tA(x, y): 0.6695\n",
      "Epoch: [17/50] Batch: [1/268]\tClassifier_Loss: 0.5162\tAdversary Loss: 0.5729\tC(x): 1.1890\tA(x, y): 0.6685\n",
      "Learning rate of the classifier model is now set to 0.0001728474674624475\n",
      "Learning rate of the adversary model is now set to 0.0001728474674624475\n",
      "Learning rate of the classifier model is now set to 0.0001659335687639496\n",
      "Learning rate of the adversary model is now set to 0.0001659335687639496\n",
      "Epoch: [17/50] Batch: [201/268]\tClassifier_Loss: 0.5840\tAdversary Loss: 0.5536\tC(x): 1.1605\tA(x, y): 0.6658\n",
      "Learning rate of the classifier model is now set to 0.0001592962260133916\n",
      "Learning rate of the adversary model is now set to 0.0001592962260133916\n",
      "Epoch: [18/50] Batch: [1/268]\tClassifier_Loss: 0.4940\tAdversary Loss: 0.6400\tC(x): 1.1512\tA(x, y): 0.6649\n",
      "Learning rate of the classifier model is now set to 0.00015292437697285593\n",
      "Learning rate of the adversary model is now set to 0.00015292437697285593\n",
      "Learning rate of the classifier model is now set to 0.0001468074018939417\n",
      "Learning rate of the adversary model is now set to 0.0001468074018939417\n",
      "Epoch: [18/50] Batch: [201/268]\tClassifier_Loss: 0.6710\tAdversary Loss: 0.5716\tC(x): 1.1257\tA(x, y): 0.6624\n",
      "Learning rate of the classifier model is now set to 0.00014093510581818404\n",
      "Learning rate of the adversary model is now set to 0.00014093510581818404\n",
      "Epoch: [19/50] Batch: [1/268]\tClassifier_Loss: 0.5204\tAdversary Loss: 0.6357\tC(x): 1.1176\tA(x, y): 0.6616\n",
      "Learning rate of the classifier model is now set to 0.00013529770158545666\n",
      "Learning rate of the adversary model is now set to 0.00013529770158545666\n",
      "Learning rate of the classifier model is now set to 0.00012988579352203838\n",
      "Learning rate of the adversary model is now set to 0.00012988579352203838\n",
      "Epoch: [19/50] Batch: [201/268]\tClassifier_Loss: 0.4915\tAdversary Loss: 0.5436\tC(x): 1.0945\tA(x, y): 0.6594\n",
      "Epoch: [20/50] Batch: [1/268]\tClassifier_Loss: 0.3916\tAdversary Loss: 0.6219\tC(x): 1.0871\tA(x, y): 0.6586\n",
      "Learning rate of the classifier model is now set to 0.00012469036178115684\n",
      "Learning rate of the adversary model is now set to 0.00012469036178115684\n",
      "Learning rate of the classifier model is now set to 0.00011970274730991057\n",
      "Learning rate of the adversary model is now set to 0.00011970274730991057\n",
      "Epoch: [20/50] Batch: [201/268]\tClassifier_Loss: 0.6314\tAdversary Loss: 0.5888\tC(x): 1.0662\tA(x, y): 0.6565\n",
      "Learning rate of the classifier model is now set to 0.00011491463741751413\n",
      "Learning rate of the adversary model is now set to 0.00011491463741751413\n",
      "Epoch: [21/50] Batch: [1/268]\tClassifier_Loss: 0.4534\tAdversary Loss: 0.5592\tC(x): 1.0595\tA(x, y): 0.6558\n",
      "Learning rate of the classifier model is now set to 0.00011031805192081357\n",
      "Learning rate of the adversary model is now set to 0.00011031805192081357\n",
      "Learning rate of the classifier model is now set to 0.00010590532984398102\n",
      "Learning rate of the adversary model is now set to 0.00010590532984398102\n",
      "Epoch: [21/50] Batch: [201/268]\tClassifier_Loss: 0.5278\tAdversary Loss: 0.5524\tC(x): 1.0405\tA(x, y): 0.6538\n",
      "Learning rate of the classifier model is now set to 0.00010166911665022178\n",
      "Learning rate of the adversary model is now set to 0.00010166911665022178\n",
      "Epoch: [22/50] Batch: [1/268]\tClassifier_Loss: 0.4889\tAdversary Loss: 0.6044\tC(x): 1.0343\tA(x, y): 0.6532\n",
      "Learning rate of the classifier model is now set to 9.76023519842129e-05\n",
      "Learning rate of the adversary model is now set to 9.76023519842129e-05\n",
      "Learning rate of the classifier model is now set to 9.36982579048444e-05\n",
      "Learning rate of the adversary model is now set to 9.36982579048444e-05\n",
      "Epoch: [22/50] Batch: [201/268]\tClassifier_Loss: 0.5959\tAdversary Loss: 0.5769\tC(x): 1.0169\tA(x, y): 0.6514\n",
      "Epoch: [23/50] Batch: [1/268]\tClassifier_Loss: 0.5399\tAdversary Loss: 0.6207\tC(x): 1.0113\tA(x, y): 0.6508\n",
      "Learning rate of the classifier model is now set to 8.99503275886506e-05\n",
      "Learning rate of the adversary model is now set to 8.99503275886506e-05\n",
      "Learning rate of the classifier model is now set to 8.635231448510459e-05\n",
      "Learning rate of the adversary model is now set to 8.635231448510459e-05\n",
      "Epoch: [23/50] Batch: [201/268]\tClassifier_Loss: 0.4971\tAdversary Loss: 0.5939\tC(x): 0.9954\tA(x, y): 0.6492\n",
      "Learning rate of the classifier model is now set to 8.289822190570039e-05\n",
      "Learning rate of the adversary model is now set to 8.289822190570039e-05\n",
      "Epoch: [24/50] Batch: [1/268]\tClassifier_Loss: 0.5433\tAdversary Loss: 0.5558\tC(x): 0.9903\tA(x, y): 0.6486\n",
      "Learning rate of the classifier model is now set to 7.958229302947238e-05\n",
      "Learning rate of the adversary model is now set to 7.958229302947238e-05\n",
      "Learning rate of the classifier model is now set to 7.639900130829346e-05\n",
      "Learning rate of the adversary model is now set to 7.639900130829346e-05\n",
      "Epoch: [24/50] Batch: [201/268]\tClassifier_Loss: 0.6408\tAdversary Loss: 0.5562\tC(x): 0.9756\tA(x, y): 0.6470\n",
      "Learning rate of the classifier model is now set to 7.334304125596173e-05\n",
      "Learning rate of the adversary model is now set to 7.334304125596173e-05\n",
      "Epoch: [25/50] Batch: [1/268]\tClassifier_Loss: 0.6001\tAdversary Loss: 0.6133\tC(x): 0.9708\tA(x, y): 0.6465\n",
      "Learning rate of the classifier model is now set to 7.040931960572326e-05\n",
      "Learning rate of the adversary model is now set to 7.040931960572326e-05\n",
      "Learning rate of the classifier model is now set to 6.759294682149434e-05\n",
      "Learning rate of the adversary model is now set to 6.759294682149434e-05\n",
      "Epoch: [25/50] Batch: [201/268]\tClassifier_Loss: 0.4537\tAdversary Loss: 0.6270\tC(x): 0.9572\tA(x, y): 0.6450\n",
      "Learning rate of the classifier model is now set to 6.488922894863455e-05\n",
      "Learning rate of the adversary model is now set to 6.488922894863455e-05\n",
      "Epoch: [26/50] Batch: [1/268]\tClassifier_Loss: 0.5852\tAdversary Loss: 0.5843\tC(x): 0.9527\tA(x, y): 0.6445\n",
      "Learning rate of the classifier model is now set to 6.229365979068917e-05\n",
      "Learning rate of the adversary model is now set to 6.229365979068917e-05\n",
      "Learning rate of the classifier model is now set to 5.9801913399061606e-05\n",
      "Learning rate of the adversary model is now set to 5.9801913399061606e-05\n",
      "Epoch: [26/50] Batch: [201/268]\tClassifier_Loss: 0.5886\tAdversary Loss: 0.5377\tC(x): 0.9402\tA(x, y): 0.6431\n",
      "Epoch: [27/50] Batch: [1/268]\tClassifier_Loss: 0.5089\tAdversary Loss: 0.5775\tC(x): 0.9362\tA(x, y): 0.6427\n",
      "Learning rate of the classifier model is now set to 5.7409836863099135e-05\n",
      "Learning rate of the adversary model is now set to 5.7409836863099135e-05\n",
      "Learning rate of the classifier model is now set to 5.511344338857516e-05\n",
      "Learning rate of the adversary model is now set to 5.511344338857516e-05\n",
      "Epoch: [27/50] Batch: [201/268]\tClassifier_Loss: 0.4394\tAdversary Loss: 0.6076\tC(x): 0.9244\tA(x, y): 0.6414\n",
      "Learning rate of the classifier model is now set to 5.290890565303216e-05\n",
      "Learning rate of the adversary model is now set to 5.290890565303216e-05\n",
      "Epoch: [28/50] Batch: [1/268]\tClassifier_Loss: 0.5243\tAdversary Loss: 0.5610\tC(x): 0.9206\tA(x, y): 0.6410\n",
      "Learning rate of the classifier model is now set to 5.0792549426910866e-05\n",
      "Learning rate of the adversary model is now set to 5.0792549426910866e-05\n",
      "Learning rate of the classifier model is now set to 4.876084744983443e-05\n",
      "Learning rate of the adversary model is now set to 4.876084744983443e-05\n",
      "Epoch: [28/50] Batch: [201/268]\tClassifier_Loss: 0.6235\tAdversary Loss: 0.5597\tC(x): 0.9098\tA(x, y): 0.6398\n",
      "Learning rate of the classifier model is now set to 4.6810413551841054e-05\n",
      "Learning rate of the adversary model is now set to 4.6810413551841054e-05\n",
      "Epoch: [29/50] Batch: [1/268]\tClassifier_Loss: 0.5385\tAdversary Loss: 0.5578\tC(x): 0.9062\tA(x, y): 0.6394\n",
      "Learning rate of the classifier model is now set to 4.493799700976741e-05\n",
      "Learning rate of the adversary model is now set to 4.493799700976741e-05\n",
      "Learning rate of the classifier model is now set to 4.3140477129376715e-05\n",
      "Learning rate of the adversary model is now set to 4.3140477129376715e-05\n",
      "Epoch: [29/50] Batch: [201/268]\tClassifier_Loss: 0.5120\tAdversary Loss: 0.5733\tC(x): 0.8961\tA(x, y): 0.6382\n",
      "Epoch: [30/50] Batch: [1/268]\tClassifier_Loss: 0.5943\tAdversary Loss: 0.5126\tC(x): 0.8927\tA(x, y): 0.6378\n",
      "Learning rate of the classifier model is now set to 4.141485804420164e-05\n",
      "Learning rate of the adversary model is now set to 4.141485804420164e-05\n",
      "Learning rate of the classifier model is now set to 3.9758263722433575e-05\n",
      "Learning rate of the adversary model is now set to 3.9758263722433575e-05\n",
      "Epoch: [30/50] Batch: [201/268]\tClassifier_Loss: 0.4502\tAdversary Loss: 0.6323\tC(x): 0.8832\tA(x, y): 0.6368\n",
      "Learning rate of the classifier model is now set to 3.816793317353623e-05\n",
      "Learning rate of the adversary model is now set to 3.816793317353623e-05\n",
      "Epoch: [31/50] Batch: [1/268]\tClassifier_Loss: 0.5051\tAdversary Loss: 0.5678\tC(x): 0.8801\tA(x, y): 0.6364\n",
      "Learning rate of the classifier model is now set to 3.664121584659478e-05\n",
      "Learning rate of the adversary model is now set to 3.664121584659478e-05\n",
      "Learning rate of the classifier model is now set to 3.517556721273098e-05\n",
      "Learning rate of the adversary model is now set to 3.517556721273098e-05\n",
      "Epoch: [31/50] Batch: [201/268]\tClassifier_Loss: 0.4357\tAdversary Loss: 0.6350\tC(x): 0.8712\tA(x, y): 0.6354\n",
      "Learning rate of the classifier model is now set to 3.3768544524221746e-05\n",
      "Learning rate of the adversary model is now set to 3.3768544524221746e-05\n",
      "Epoch: [32/50] Batch: [1/268]\tClassifier_Loss: 0.4818\tAdversary Loss: 0.6030\tC(x): 0.8683\tA(x, y): 0.6351\n",
      "Learning rate of the classifier model is now set to 3.241780274325288e-05\n",
      "Learning rate of the adversary model is now set to 3.241780274325288e-05\n",
      "Learning rate of the classifier model is now set to 3.112109063352276e-05\n",
      "Learning rate of the adversary model is now set to 3.112109063352276e-05\n",
      "Epoch: [32/50] Batch: [201/268]\tClassifier_Loss: 0.5641\tAdversary Loss: 0.6321\tC(x): 0.8600\tA(x, y): 0.6340\n",
      "Epoch: [33/50] Batch: [1/268]\tClassifier_Loss: 0.4815\tAdversary Loss: 0.5790\tC(x): 0.8572\tA(x, y): 0.6338\n",
      "Learning rate of the classifier model is now set to 2.987624700818185e-05\n",
      "Learning rate of the adversary model is now set to 2.987624700818185e-05\n",
      "Learning rate of the classifier model is now set to 2.8681197127854573e-05\n",
      "Learning rate of the adversary model is now set to 2.8681197127854573e-05\n",
      "Epoch: [33/50] Batch: [201/268]\tClassifier_Loss: 0.4699\tAdversary Loss: 0.6206\tC(x): 0.8492\tA(x, y): 0.6329\n",
      "Learning rate of the classifier model is now set to 2.753394924274039e-05\n",
      "Learning rate of the adversary model is now set to 2.753394924274039e-05\n",
      "Epoch: [34/50] Batch: [1/268]\tClassifier_Loss: 0.3951\tAdversary Loss: 0.6300\tC(x): 0.8466\tA(x, y): 0.6326\n",
      "Learning rate of the classifier model is now set to 2.6432591273030774e-05\n",
      "Learning rate of the adversary model is now set to 2.6432591273030774e-05\n",
      "Learning rate of the classifier model is now set to 2.537528762210954e-05\n",
      "Learning rate of the adversary model is now set to 2.537528762210954e-05\n",
      "Epoch: [34/50] Batch: [201/268]\tClassifier_Loss: 0.5093\tAdversary Loss: 0.6199\tC(x): 0.8392\tA(x, y): 0.6317\n",
      "Learning rate of the classifier model is now set to 2.4360276117225157e-05\n",
      "Learning rate of the adversary model is now set to 2.4360276117225157e-05\n",
      "Epoch: [35/50] Batch: [1/268]\tClassifier_Loss: 0.5155\tAdversary Loss: 0.5755\tC(x): 0.8367\tA(x, y): 0.6314\n",
      "Learning rate of the classifier model is now set to 2.338586507253615e-05\n",
      "Learning rate of the adversary model is now set to 2.338586507253615e-05\n",
      "Learning rate of the classifier model is now set to 2.2450430469634704e-05\n",
      "Learning rate of the adversary model is now set to 2.2450430469634704e-05\n",
      "Epoch: [35/50] Batch: [201/268]\tClassifier_Loss: 0.4287\tAdversary Loss: 0.5878\tC(x): 0.8297\tA(x, y): 0.6306\n",
      "Epoch: [36/50] Batch: [1/268]\tClassifier_Loss: 0.5562\tAdversary Loss: 0.5982\tC(x): 0.8275\tA(x, y): 0.6303\n",
      "Learning rate of the classifier model is now set to 2.155241325084932e-05\n",
      "Learning rate of the adversary model is now set to 2.155241325084932e-05\n",
      "Learning rate of the classifier model is now set to 2.0690316720815342e-05\n",
      "Learning rate of the adversary model is now set to 2.0690316720815342e-05\n",
      "Epoch: [36/50] Batch: [201/268]\tClassifier_Loss: 0.4512\tAdversary Loss: 0.5700\tC(x): 0.8208\tA(x, y): 0.6295\n",
      "Learning rate of the classifier model is now set to 1.9862704051982727e-05\n",
      "Learning rate of the adversary model is now set to 1.9862704051982727e-05\n",
      "Epoch: [37/50] Batch: [1/268]\tClassifier_Loss: 0.5482\tAdversary Loss: 0.6098\tC(x): 0.8187\tA(x, y): 0.6293\n",
      "Learning rate of the classifier model is now set to 1.9068195889903417e-05\n",
      "Learning rate of the adversary model is now set to 1.9068195889903417e-05\n",
      "Learning rate of the classifier model is now set to 1.830546805430728e-05\n",
      "Learning rate of the adversary model is now set to 1.830546805430728e-05\n",
      "Epoch: [37/50] Batch: [201/268]\tClassifier_Loss: 0.4606\tAdversary Loss: 0.5867\tC(x): 0.8124\tA(x, y): 0.6285\n",
      "Learning rate of the classifier model is now set to 1.757324933213499e-05\n",
      "Learning rate of the adversary model is now set to 1.757324933213499e-05\n",
      "Epoch: [38/50] Batch: [1/268]\tClassifier_Loss: 0.4843\tAdversary Loss: 0.6033\tC(x): 0.8104\tA(x, y): 0.6282\n",
      "Learning rate of the classifier model is now set to 1.6870319358849586e-05\n",
      "Learning rate of the adversary model is now set to 1.6870319358849586e-05\n",
      "Learning rate of the classifier model is now set to 1.6195506584495604e-05\n",
      "Learning rate of the adversary model is now set to 1.6195506584495604e-05\n",
      "Epoch: [38/50] Batch: [201/268]\tClassifier_Loss: 0.4739\tAdversary Loss: 0.5771\tC(x): 0.8045\tA(x, y): 0.6275\n",
      "Epoch: [39/50] Batch: [1/268]\tClassifier_Loss: 0.4843\tAdversary Loss: 0.5413\tC(x): 0.8025\tA(x, y): 0.6273\n",
      "Learning rate of the classifier model is now set to 1.554768632111578e-05\n",
      "Learning rate of the adversary model is now set to 1.554768632111578e-05\n",
      "Learning rate of the classifier model is now set to 1.4925778868271147e-05\n",
      "Learning rate of the adversary model is now set to 1.4925778868271147e-05\n",
      "Epoch: [39/50] Batch: [201/268]\tClassifier_Loss: 0.5586\tAdversary Loss: 0.5791\tC(x): 0.7968\tA(x, y): 0.6266\n",
      "Learning rate of the classifier model is now set to 1.4328747713540301e-05\n",
      "Learning rate of the adversary model is now set to 1.4328747713540301e-05\n",
      "Epoch: [40/50] Batch: [1/268]\tClassifier_Loss: 0.5745\tAdversary Loss: 0.6232\tC(x): 0.7948\tA(x, y): 0.6264\n",
      "Learning rate of the classifier model is now set to 1.375559780499869e-05\n",
      "Learning rate of the adversary model is now set to 1.375559780499869e-05\n",
      "Learning rate of the classifier model is now set to 1.320537389279874e-05\n",
      "Learning rate of the adversary model is now set to 1.320537389279874e-05\n",
      "Epoch: [40/50] Batch: [201/268]\tClassifier_Loss: 0.4801\tAdversary Loss: 0.5905\tC(x): 0.7895\tA(x, y): 0.6258\n",
      "Learning rate of the classifier model is now set to 1.2677158937086791e-05\n",
      "Learning rate of the adversary model is now set to 1.2677158937086791e-05\n",
      "Epoch: [41/50] Batch: [1/268]\tClassifier_Loss: 0.4807\tAdversary Loss: 0.5748\tC(x): 0.7877\tA(x, y): 0.6255\n",
      "Learning rate of the classifier model is now set to 1.217007257960332e-05\n",
      "Learning rate of the adversary model is now set to 1.217007257960332e-05\n",
      "Learning rate of the classifier model is now set to 1.1683269676419186e-05\n",
      "Learning rate of the adversary model is now set to 1.1683269676419186e-05\n",
      "Epoch: [41/50] Batch: [201/268]\tClassifier_Loss: 0.5521\tAdversary Loss: 0.5980\tC(x): 0.7826\tA(x, y): 0.6249\n",
      "Epoch: [42/50] Batch: [1/268]\tClassifier_Loss: 0.5104\tAdversary Loss: 0.6053\tC(x): 0.7809\tA(x, y): 0.6247\n",
      "Learning rate of the classifier model is now set to 1.1215938889362417e-05\n",
      "Learning rate of the adversary model is now set to 1.1215938889362417e-05\n",
      "Learning rate of the classifier model is now set to 1.0767301333787921e-05\n",
      "Learning rate of the adversary model is now set to 1.0767301333787921e-05\n",
      "Epoch: [42/50] Batch: [201/268]\tClassifier_Loss: 0.4606\tAdversary Loss: 0.6486\tC(x): 0.7760\tA(x, y): 0.6241\n",
      "Learning rate of the classifier model is now set to 1.0336609280436403e-05\n",
      "Learning rate of the adversary model is now set to 1.0336609280436403e-05\n",
      "Epoch: [43/50] Batch: [1/268]\tClassifier_Loss: 0.4966\tAdversary Loss: 0.6128\tC(x): 0.7744\tA(x, y): 0.6239\n",
      "Learning rate of the classifier model is now set to 9.923144909218947e-06\n",
      "Learning rate of the adversary model is now set to 9.923144909218947e-06\n",
      "Learning rate of the classifier model is now set to 9.526219112850188e-06\n",
      "Learning rate of the adversary model is now set to 9.526219112850188e-06\n",
      "Epoch: [43/50] Batch: [201/268]\tClassifier_Loss: 0.4942\tAdversary Loss: 0.5619\tC(x): 0.7697\tA(x, y): 0.6234\n",
      "Learning rate of the classifier model is now set to 9.14517034833618e-06\n",
      "Learning rate of the adversary model is now set to 9.14517034833618e-06\n",
      "Epoch: [44/50] Batch: [1/268]\tClassifier_Loss: 0.5791\tAdversary Loss: 0.5491\tC(x): 0.7683\tA(x, y): 0.6231\n",
      "Learning rate of the classifier model is now set to 8.779363534402732e-06\n",
      "Learning rate of the adversary model is now set to 8.779363534402732e-06\n",
      "Learning rate of the classifier model is now set to 8.428188993026623e-06\n",
      "Learning rate of the adversary model is now set to 8.428188993026623e-06\n",
      "Epoch: [44/50] Batch: [201/268]\tClassifier_Loss: 0.4777\tAdversary Loss: 0.6364\tC(x): 0.7637\tA(x, y): 0.6226\n",
      "Epoch: [45/50] Batch: [1/268]\tClassifier_Loss: 0.5505\tAdversary Loss: 0.5187\tC(x): 0.7623\tA(x, y): 0.6224\n",
      "Learning rate of the classifier model is now set to 8.091061433305558e-06\n",
      "Learning rate of the adversary model is now set to 8.091061433305558e-06\n",
      "Learning rate of the classifier model is now set to 7.767418975973336e-06\n",
      "Learning rate of the adversary model is now set to 7.767418975973336e-06\n",
      "Epoch: [45/50] Batch: [201/268]\tClassifier_Loss: 0.5197\tAdversary Loss: 0.6611\tC(x): 0.7581\tA(x, y): 0.6219\n",
      "Learning rate of the classifier model is now set to 7.456722216934402e-06\n",
      "Learning rate of the adversary model is now set to 7.456722216934402e-06\n",
      "Epoch: [46/50] Batch: [1/268]\tClassifier_Loss: 0.5915\tAdversary Loss: 0.5787\tC(x): 0.7566\tA(x, y): 0.6217\n",
      "Learning rate of the classifier model is now set to 7.158453328257026e-06\n",
      "Learning rate of the adversary model is now set to 7.158453328257026e-06\n",
      "Learning rate of the classifier model is now set to 6.872115195126745e-06\n",
      "Learning rate of the adversary model is now set to 6.872115195126745e-06\n",
      "Epoch: [46/50] Batch: [201/268]\tClassifier_Loss: 0.5906\tAdversary Loss: 0.5645\tC(x): 0.7525\tA(x, y): 0.6212\n",
      "Learning rate of the classifier model is now set to 6.597230587321674e-06\n",
      "Learning rate of the adversary model is now set to 6.597230587321674e-06\n",
      "Epoch: [47/50] Batch: [1/268]\tClassifier_Loss: 0.4692\tAdversary Loss: 0.5837\tC(x): 0.7512\tA(x, y): 0.6211\n",
      "Learning rate of the classifier model is now set to 6.333341363828807e-06\n",
      "Learning rate of the adversary model is now set to 6.333341363828807e-06\n",
      "Learning rate of the classifier model is now set to 6.080007709275654e-06\n",
      "Learning rate of the adversary model is now set to 6.080007709275654e-06\n",
      "Epoch: [47/50] Batch: [201/268]\tClassifier_Loss: 0.5690\tAdversary Loss: 0.6055\tC(x): 0.7473\tA(x, y): 0.6206\n",
      "Epoch: [48/50] Batch: [1/268]\tClassifier_Loss: 0.5072\tAdversary Loss: 0.6049\tC(x): 0.7460\tA(x, y): 0.6204\n",
      "Learning rate of the classifier model is now set to 5.836807400904628e-06\n",
      "Learning rate of the adversary model is now set to 5.836807400904628e-06\n",
      "Learning rate of the classifier model is now set to 5.603335104868443e-06\n",
      "Learning rate of the adversary model is now set to 5.603335104868443e-06\n",
      "Epoch: [48/50] Batch: [201/268]\tClassifier_Loss: 0.4998\tAdversary Loss: 0.6346\tC(x): 0.7423\tA(x, y): 0.6200\n",
      "Learning rate of the classifier model is now set to 5.379201700673705e-06\n",
      "Learning rate of the adversary model is now set to 5.379201700673705e-06\n",
      "Epoch: [49/50] Batch: [1/268]\tClassifier_Loss: 0.5371\tAdversary Loss: 0.6196\tC(x): 0.7411\tA(x, y): 0.6198\n",
      "Learning rate of the classifier model is now set to 5.164033632646756e-06\n",
      "Learning rate of the adversary model is now set to 5.164033632646756e-06\n",
      "Learning rate of the classifier model is now set to 4.957472287340885e-06\n",
      "Learning rate of the adversary model is now set to 4.957472287340885e-06\n",
      "Epoch: [49/50] Batch: [201/268]\tClassifier_Loss: 0.4204\tAdversary Loss: 0.6449\tC(x): 0.7375\tA(x, y): 0.6194\n",
      "Learning rate of the classifier model is now set to 4.75917339584725e-06\n",
      "Learning rate of the adversary model is now set to 4.75917339584725e-06\n",
      "Epoch: [50/50] Batch: [1/268]\tClassifier_Loss: 0.4704\tAdversary Loss: 0.6075\tC(x): 0.7363\tA(x, y): 0.6192\n",
      "Learning rate of the classifier model is now set to 4.56880646001336e-06\n",
      "Learning rate of the adversary model is now set to 4.56880646001336e-06\n",
      "Learning rate of the classifier model is now set to 4.386054201612826e-06\n",
      "Learning rate of the adversary model is now set to 4.386054201612826e-06\n",
      "Epoch: [50/50] Batch: [201/268]\tClassifier_Loss: 0.5662\tAdversary Loss: 0.5984\tC(x): 0.7328\tA(x, y): 0.6188\n"
     ]
    }
   ],
   "source": [
    "from copy import deepcopy\n",
    "global_step, classifier_losses, adversary_losses = 0, [], []\n",
    "torch.manual_seed(seed)\n",
    "adversary_loss_weight = 0.1\n",
    "for epoch in range(num_epochs):\n",
    "    for i, data in enumerate(train_loader, 0):\n",
    "        # Update learning rate(s)\n",
    "        classifier_lr_scheduler.step(global_step, classifier.__class__.__name__)\n",
    "        adversary_lr_scheduler.step(global_step, adversary.__class__.__name__)\n",
    "        # Train the classifier model\n",
    "        classifier.zero_grad()\n",
    "        batch_features = data[:][0]\n",
    "        batch_labels = data[:][1]\n",
    "        pred_labels, pred_logits = classifier(batch_features)\n",
    "        classifier_error = classifier_criterion(pred_labels, batch_labels)\n",
    "        classifier_losses.append(classifier_error.item())\n",
    "        classifier_mean_error = np.mean(classifier_losses)\n",
    "        # Adversary training\n",
    "        classifier_error.backward()#retain_graph=True)\n",
    "        # Update the parameters for the classifier layers within the adversary model\n",
    "        c_params, a_params = dict(classifier.named_parameters()), dict(adversary.named_parameters())\n",
    "        for (c_p, a_p) in zip(c_params.values(), a_params.values()):\n",
    "            a_p.data = deepcopy(c_p.data)\n",
    "        adversary.zero_grad()\n",
    "        batch_protected_attributes = data[:][2]\n",
    "        pred_protected_attributes_labels, pred_protected_attributes_logits = adversary(\n",
    "        batch_features, batch_labels)\n",
    "        adversary_error = adversary_criterion(pred_protected_attributes_labels, batch_protected_attributes)\n",
    "        adversary_error.backward()#retain_graph=True)\n",
    "        adversary_losses.append(adversary_error.item())\n",
    "        adversary_mean_error = np.mean(adversary_losses)\n",
    "        # Adjust the classifier's gradients according to the normnalized adversary gradients\n",
    "        c_params, a_params = dict(classifier.named_parameters()), dict(adversary.named_parameters())\n",
    "        for p in c_params:\n",
    "            unit_adversary_grad = normalize(a_params[p].grad)\n",
    "            c_params[p].grad -= torch.sum((c_params[p].grad * unit_adversary_grad))\n",
    "            c_params[p].grad -= adversary_loss_weight * a_params[p].grad\n",
    "        adversary_optim.step() # Update adversary model parameters\n",
    "        classifier_optim.step() # Update classifier model parameters\n",
    "        if i % 200 == 0:\n",
    "            print(\"Epoch: [%d/%d] Batch: [%d/%d]\\tClassifier_Loss: %.4f\\tAdversary Loss: %.4f\\tC(x): %.4f\\tA(x, y): %.4f\" % \\\n",
    "            (epoch + 1, num_epochs, i + 1, len(train_loader), classifier_error.item(),\n",
    "             adversary_error.item(), classifier_mean_error, adversary_mean_error))\n",
    "        global_step += 1\n",
    "    classifier.training = False\n",
    "    adversary.training = False"
   ]
  },
  {
   "cell_type": "code",
   "execution_count": 24,
   "metadata": {},
   "outputs": [],
   "source": [
    "dataset_debiasing_train = dataset_orig_train.copy(deepcopy = True)\n",
    "dataset_debiasing_test = dataset_orig_test.copy(deepcopy = True)\n",
    "train_pred_labels = classifier(torch.from_numpy(dataset_debiasing_train.features).float())[0].cpu().detach().numpy().tolist()\n",
    "test_pred_labels = classifier(torch.from_numpy(dataset_debiasing_test.features).float())[0].cpu().detach().numpy().tolist()\n",
    "# Mutated, fairer dataset with new labels\n",
    "dataset_debiasing_train.scores = np.array(train_pred_labels, dtype=np.float64).reshape(-1, 1)\n",
    "dataset_debiasing_train.labels = (np.array(train_pred_labels)>0.5).astype(np.float64).reshape(-1,1)\n",
    "dataset_debiasing_test.scores = np.array(test_pred_labels, dtype=np.float64).reshape(-1, 1)\n",
    "dataset_debiasing_test.labels = (np.array(test_pred_labels)>0.5).astype(np.float64).reshape(-1,1)\n",
    "# Map the dataset labels to back to their original values.\n",
    "train_temp_labels = dataset_debiasing_train.labels.copy()\n",
    "train_temp_labels[(dataset_debiasing_train.labels == 1.0).ravel(), 0] = dataset_orig_train.favorable_label\n",
    "train_temp_labels[(dataset_debiasing_train.labels == 0.0).ravel(), 0] = dataset_orig_train.unfavorable_label\n",
    "dataset_debiasing_train.labels = train_temp_labels.copy()\n",
    "test_temp_labels = dataset_debiasing_test.labels.copy()\n",
    "test_temp_labels[(dataset_debiasing_test.labels == 1.0).ravel(), 0] = dataset_orig_test.favorable_label\n",
    "test_temp_labels[(dataset_debiasing_test.labels == 0.0).ravel(), 0] = dataset_orig_test.unfavorable_label\n",
    "dataset_debiasing_test.labels = test_temp_labels.copy()"
   ]
  },
  {
   "cell_type": "code",
   "execution_count": 25,
   "metadata": {},
   "outputs": [
    {
     "data": {
      "text/markdown": [
       "#### Plain model - without debiasing - dataset metrics"
      ],
      "text/plain": [
       "<IPython.core.display.Markdown object>"
      ]
     },
     "metadata": {},
     "output_type": "display_data"
    },
    {
     "name": "stdout",
     "output_type": "stream",
     "text": [
      "Train set: Difference in mean outcomes between unprivileged and privileged groups = -0.217147\n",
      "Test set: Difference in mean outcomes between unprivileged and privileged groups = -0.218900\n"
     ]
    },
    {
     "data": {
      "text/markdown": [
       "#### Model - with debiasing - dataset metrics"
      ],
      "text/plain": [
       "<IPython.core.display.Markdown object>"
      ]
     },
     "metadata": {},
     "output_type": "display_data"
    },
    {
     "name": "stdout",
     "output_type": "stream",
     "text": [
      "Train set: Difference in mean outcomes between unprivileged and privileged groups = -0.090566\n",
      "Test set: Difference in mean outcomes between unprivileged and privileged groups = -0.087194\n"
     ]
    },
    {
     "data": {
      "text/markdown": [
       "#### Plain model - without debiasing - classification metrics"
      ],
      "text/plain": [
       "<IPython.core.display.Markdown object>"
      ]
     },
     "metadata": {},
     "output_type": "display_data"
    },
    {
     "name": "stdout",
     "output_type": "stream",
     "text": [
      "Test set: Classification accuracy = 0.805159\n",
      "Test set: Balanced classification accuracy = 0.664945\n",
      "Test set: Disparate impact = 0.000000\n",
      "Test set: Equal opportunity difference = -0.468560\n",
      "Test set: Average odds difference = -0.289501\n",
      "Test set: Theil_index = 0.175102\n"
     ]
    },
    {
     "data": {
      "text/markdown": [
       "#### Model - with debiasing - classification metrics"
      ],
      "text/plain": [
       "<IPython.core.display.Markdown object>"
      ]
     },
     "metadata": {},
     "output_type": "display_data"
    },
    {
     "name": "stdout",
     "output_type": "stream",
     "text": [
      "Test set: Classification accuracy = 0.701768\n",
      "Test set: Balanced classification accuracy = 0.549507\n",
      "Test set: Disparate impact = 0.589578\n",
      "Test set: Equal opportunity difference = -0.060930\n",
      "Test set: Average odds difference = -0.066970\n",
      "Test set: Theil_index = 0.234841\n"
     ]
    }
   ],
   "source": [
    "# Metrics for the dataset from plain model (without debiasing)\n",
    "display(Markdown(\"#### Plain model - without debiasing - dataset metrics\"))\n",
    "print(\"Train set: Difference in mean outcomes between unprivileged and privileged groups = %f\" % metric_dataset_nodebiasing_train.mean_difference())\n",
    "print(\"Test set: Difference in mean outcomes between unprivileged and privileged groups = %f\" % metric_dataset_nodebiasing_test.mean_difference())\n",
    "\n",
    "# Metrics for the dataset from model with debiasing\n",
    "display(Markdown(\"#### Model - with debiasing - dataset metrics\"))\n",
    "metric_dataset_debiasing_train = BinaryLabelDatasetMetric(dataset_debiasing_train, \n",
    "                                             unprivileged_groups=unprivileged_groups,\n",
    "                                             privileged_groups=privileged_groups)\n",
    "\n",
    "print(\"Train set: Difference in mean outcomes between unprivileged and privileged groups = %f\" % metric_dataset_debiasing_train.mean_difference())\n",
    "\n",
    "metric_dataset_debiasing_test = BinaryLabelDatasetMetric(dataset_debiasing_test, \n",
    "                                             unprivileged_groups=unprivileged_groups,\n",
    "                                             privileged_groups=privileged_groups)\n",
    "\n",
    "print(\"Test set: Difference in mean outcomes between unprivileged and privileged groups = %f\" % metric_dataset_debiasing_test.mean_difference())\n",
    "\n",
    "\n",
    "\n",
    "display(Markdown(\"#### Plain model - without debiasing - classification metrics\"))\n",
    "print(\"Test set: Classification accuracy = %f\" % classified_metric_nodebiasing_test.accuracy())\n",
    "TPR = classified_metric_nodebiasing_test.true_positive_rate()\n",
    "TNR = classified_metric_nodebiasing_test.true_negative_rate()\n",
    "bal_acc_nodebiasing_test = 0.5*(TPR+TNR)\n",
    "print(\"Test set: Balanced classification accuracy = %f\" % bal_acc_nodebiasing_test)\n",
    "print(\"Test set: Disparate impact = %f\" % classified_metric_nodebiasing_test.disparate_impact())\n",
    "print(\"Test set: Equal opportunity difference = %f\" % classified_metric_nodebiasing_test.equal_opportunity_difference())\n",
    "print(\"Test set: Average odds difference = %f\" % classified_metric_nodebiasing_test.average_odds_difference())\n",
    "print(\"Test set: Theil_index = %f\" % classified_metric_nodebiasing_test.theil_index())\n",
    "\n",
    "\n",
    "\n",
    "display(Markdown(\"#### Model - with debiasing - classification metrics\"))\n",
    "classified_metric_debiasing_test = ClassificationMetric(dataset_orig_test, \n",
    "                                                 dataset_debiasing_test,\n",
    "                                                 unprivileged_groups=unprivileged_groups,\n",
    "                                                 privileged_groups=privileged_groups)\n",
    "print(\"Test set: Classification accuracy = %f\" % classified_metric_debiasing_test.accuracy())\n",
    "TPR = classified_metric_debiasing_test.true_positive_rate()\n",
    "TNR = classified_metric_debiasing_test.true_negative_rate()\n",
    "bal_acc_debiasing_test = 0.5*(TPR+TNR)\n",
    "print(\"Test set: Balanced classification accuracy = %f\" % bal_acc_debiasing_test)\n",
    "print(\"Test set: Disparate impact = %f\" % classified_metric_debiasing_test.disparate_impact())\n",
    "print(\"Test set: Equal opportunity difference = %f\" % classified_metric_debiasing_test.equal_opportunity_difference())\n",
    "print(\"Test set: Average odds difference = %f\" % classified_metric_debiasing_test.average_odds_difference())\n",
    "print(\"Test set: Theil_index = %f\" % classified_metric_debiasing_test.theil_index())"
   ]
  },
  {
   "cell_type": "markdown",
   "metadata": {
    "colab_type": "text",
    "id": "qdhvSP-nOUWz"
   },
   "source": [
    "\n",
    "    References:\n",
    "    [1] B. H. Zhang, B. Lemoine, and M. Mitchell, \"Mitigating Unwanted Biases with Adversarial Learning,\" \n",
    "    AAAI/ACM Conference on Artificial Intelligence, Ethics, and Society, 2018."
   ]
  }
 ],
 "metadata": {
  "colab": {
   "include_colab_link": true,
   "name": "demo_adversarial_debiasing.ipynb",
   "provenance": []
  },
  "kernelspec": {
   "display_name": "Python 3",
   "language": "python",
   "name": "python3"
  },
  "language_info": {
   "codemirror_mode": {
    "name": "ipython",
    "version": 3
   },
   "file_extension": ".py",
   "mimetype": "text/x-python",
   "name": "python",
   "nbconvert_exporter": "python",
   "pygments_lexer": "ipython3",
   "version": "3.7.5"
  }
 },
 "nbformat": 4,
 "nbformat_minor": 4
}
