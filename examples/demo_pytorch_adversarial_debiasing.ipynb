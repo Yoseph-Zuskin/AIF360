{
 "cells": [
  {
   "cell_type": "markdown",
   "metadata": {
    "colab_type": "text",
    "id": "view-in-github"
   },
   "source": [
    "<a href=\"https://colab.research.google.com/github/arezzy17/AIF360/blob/master/examples/demo_pytorch_adversarial_debiasing.ipynb\" target=\"_parent\"><img src=\"https://colab.research.google.com/assets/colab-badge.svg\" alt=\"Open In Colab\"/></a>"
   ]
  },
  {
   "cell_type": "markdown",
   "metadata": {
    "colab_type": "text",
    "id": "05jtdvK4OUVZ"
   },
   "source": [
    "#### This notebook demonstrates the use of adversarial debiasing algorithm to learn a fair classifier.\n",
    "Adversarial debiasing [1] is an in-processing technique that learns a classifier to maximize prediction accuracy and simultaneously reduce an adversary's ability to determine the protected attribute from the predictions. This approach leads to a fair classifier as the predictions cannot carry any group discrimination information that the adversary can exploit. We will see how to use this algorithm for learning models with and without fairness constraints and apply them on the Adult dataset."
   ]
  },
  {
   "cell_type": "code",
   "execution_count": 1,
   "metadata": {
    "colab": {},
    "colab_type": "code",
    "id": "5rccV9sUOUVc",
    "outputId": "a536dc16-15bc-40a2-b445-b7dc183a9bef"
   },
   "outputs": [
    {
     "name": "stderr",
     "output_type": "stream",
     "text": [
      "WARNING:root:No module named 'tensorflow': AdversarialDebiasing will be unavailable. To install, run:\n",
      "pip install 'aif360[AdversarialDebiasing]'\n"
     ]
    }
   ],
   "source": [
    "%matplotlib inline\n",
    "# Load all necessary packages\n",
    "import sys\n",
    "sys.path.append(\"../\")\n",
    "from aif360.datasets import BinaryLabelDataset\n",
    "from aif360.datasets import AdultDataset, GermanDataset, CompasDataset\n",
    "from aif360.metrics import BinaryLabelDatasetMetric\n",
    "from aif360.metrics import ClassificationMetric\n",
    "from aif360.metrics.utils import compute_boolean_conditioning_vector\n",
    "\n",
    "from aif360.algorithms.preprocessing.optim_preproc_helpers.data_preproc_functions import load_preproc_data_adult, load_preproc_data_compas, load_preproc_data_german\n",
    "\n",
    "from aif360.pytorch.inprocessing.adversarial_debiasing import AdversarialDebiasing, ClassifierModel, AdversaryModel, default_classifier_ann, StaircaseExponentialLR\n",
    "from aif360.algorithms import Transformer\n",
    "\n",
    "#sys.path.remove(\"../\")\n",
    "\n",
    "from sklearn.linear_model import LogisticRegression\n",
    "from sklearn.preprocessing import StandardScaler, MaxAbsScaler\n",
    "from sklearn.metrics import accuracy_score\n",
    "\n",
    "from IPython.display import Markdown, display\n",
    "import matplotlib.pyplot as plt\n",
    "\n",
    "import torch\n",
    "import torch.nn as nn\n",
    "import torch.nn.functional as F"
   ]
  },
  {
   "cell_type": "markdown",
   "metadata": {
    "colab_type": "text",
    "id": "jVWm54jkOUVm"
   },
   "source": [
    "#### Load dataset and set options"
   ]
  },
  {
   "cell_type": "code",
   "execution_count": 2,
   "metadata": {
    "colab": {},
    "colab_type": "code",
    "id": "b3VphoFfOUVm"
   },
   "outputs": [],
   "source": [
    "# Get the dataset and split into train and test\n",
    "dataset_orig = load_preproc_data_adult()\n",
    "\n",
    "privileged_groups = [{'sex': 1}]\n",
    "unprivileged_groups = [{'sex': 0}]\n",
    "\n",
    "dataset_orig_train, dataset_orig_test = dataset_orig.split([0.7], shuffle=True)"
   ]
  },
  {
   "cell_type": "code",
   "execution_count": 3,
   "metadata": {},
   "outputs": [
    {
     "data": {
      "text/plain": [
       "(34189, 18)"
      ]
     },
     "execution_count": 3,
     "metadata": {},
     "output_type": "execute_result"
    }
   ],
   "source": [
    "dataset_orig_train.features.shape"
   ]
  },
  {
   "cell_type": "code",
   "execution_count": 4,
   "metadata": {
    "colab": {},
    "colab_type": "code",
    "id": "b0Fs80vmOUVy",
    "outputId": "60b77184-86e2-44a6-a82c-effb393eb188"
   },
   "outputs": [
    {
     "data": {
      "text/markdown": [
       "#### Training Dataset shape"
      ],
      "text/plain": [
       "<IPython.core.display.Markdown object>"
      ]
     },
     "metadata": {},
     "output_type": "display_data"
    },
    {
     "name": "stdout",
     "output_type": "stream",
     "text": [
      "(34189, 18)\n"
     ]
    },
    {
     "data": {
      "text/markdown": [
       "#### Favorable and unfavorable labels"
      ],
      "text/plain": [
       "<IPython.core.display.Markdown object>"
      ]
     },
     "metadata": {},
     "output_type": "display_data"
    },
    {
     "name": "stdout",
     "output_type": "stream",
     "text": [
      "1.0 0.0\n"
     ]
    },
    {
     "data": {
      "text/markdown": [
       "#### Protected attribute names"
      ],
      "text/plain": [
       "<IPython.core.display.Markdown object>"
      ]
     },
     "metadata": {},
     "output_type": "display_data"
    },
    {
     "name": "stdout",
     "output_type": "stream",
     "text": [
      "['sex', 'race']\n"
     ]
    },
    {
     "data": {
      "text/markdown": [
       "#### Privileged and unprivileged protected attribute values"
      ],
      "text/plain": [
       "<IPython.core.display.Markdown object>"
      ]
     },
     "metadata": {},
     "output_type": "display_data"
    },
    {
     "name": "stdout",
     "output_type": "stream",
     "text": [
      "[array([1.]), array([1.])] [array([0.]), array([0.])]\n"
     ]
    },
    {
     "data": {
      "text/markdown": [
       "#### Dataset feature names"
      ],
      "text/plain": [
       "<IPython.core.display.Markdown object>"
      ]
     },
     "metadata": {},
     "output_type": "display_data"
    },
    {
     "name": "stdout",
     "output_type": "stream",
     "text": [
      "['race', 'sex', 'Age (decade)=10', 'Age (decade)=20', 'Age (decade)=30', 'Age (decade)=40', 'Age (decade)=50', 'Age (decade)=60', 'Age (decade)=>=70', 'Education Years=6', 'Education Years=7', 'Education Years=8', 'Education Years=9', 'Education Years=10', 'Education Years=11', 'Education Years=12', 'Education Years=<6', 'Education Years=>12']\n"
     ]
    }
   ],
   "source": [
    "# print out some labels, names, etc.\n",
    "display(Markdown(\"#### Training Dataset shape\"))\n",
    "print(dataset_orig_train.features.shape)\n",
    "display(Markdown(\"#### Favorable and unfavorable labels\"))\n",
    "print(dataset_orig_train.favorable_label, dataset_orig_train.unfavorable_label)\n",
    "display(Markdown(\"#### Protected attribute names\"))\n",
    "print(dataset_orig_train.protected_attribute_names)\n",
    "display(Markdown(\"#### Privileged and unprivileged protected attribute values\"))\n",
    "print(dataset_orig_train.privileged_protected_attributes, \n",
    "      dataset_orig_train.unprivileged_protected_attributes)\n",
    "display(Markdown(\"#### Dataset feature names\"))\n",
    "print(dataset_orig_train.feature_names)"
   ]
  },
  {
   "cell_type": "markdown",
   "metadata": {
    "colab_type": "text",
    "id": "3hvQSijEOUV3"
   },
   "source": [
    "#### Metric for original training data"
   ]
  },
  {
   "cell_type": "code",
   "execution_count": 5,
   "metadata": {
    "colab": {},
    "colab_type": "code",
    "id": "gF4S2ecCOUV3",
    "outputId": "037dae18-f133-4a07-ba13-b133c3e8fba9"
   },
   "outputs": [
    {
     "data": {
      "text/markdown": [
       "#### Original training dataset"
      ],
      "text/plain": [
       "<IPython.core.display.Markdown object>"
      ]
     },
     "metadata": {},
     "output_type": "display_data"
    },
    {
     "name": "stdout",
     "output_type": "stream",
     "text": [
      "Train set: Difference in mean outcomes between unprivileged and privileged groups = -0.193004\n",
      "Test set: Difference in mean outcomes between unprivileged and privileged groups = -0.198022\n"
     ]
    }
   ],
   "source": [
    "# Metric for the original dataset\n",
    "metric_orig_train = BinaryLabelDatasetMetric(dataset_orig_train, \n",
    "                                             unprivileged_groups=unprivileged_groups,\n",
    "                                             privileged_groups=privileged_groups)\n",
    "display(Markdown(\"#### Original training dataset\"))\n",
    "print(\"Train set: Difference in mean outcomes between unprivileged and privileged groups = %f\" % metric_orig_train.mean_difference())\n",
    "metric_orig_test = BinaryLabelDatasetMetric(dataset_orig_test, \n",
    "                                             unprivileged_groups=unprivileged_groups,\n",
    "                                             privileged_groups=privileged_groups)\n",
    "print(\"Test set: Difference in mean outcomes between unprivileged and privileged groups = %f\" % metric_orig_test.mean_difference())"
   ]
  },
  {
   "cell_type": "code",
   "execution_count": 6,
   "metadata": {
    "colab": {},
    "colab_type": "code",
    "id": "1h7o7U_UOUV9",
    "outputId": "6b99f507-dfe1-42b3-cdd3-b995d7c5a758"
   },
   "outputs": [
    {
     "data": {
      "text/markdown": [
       "#### Scaled dataset - Verify that the scaling does not affect the group label statistics"
      ],
      "text/plain": [
       "<IPython.core.display.Markdown object>"
      ]
     },
     "metadata": {},
     "output_type": "display_data"
    },
    {
     "name": "stdout",
     "output_type": "stream",
     "text": [
      "Train set: Difference in mean outcomes between unprivileged and privileged groups = -0.193004\n",
      "Test set: Difference in mean outcomes between unprivileged and privileged groups = -0.198022\n"
     ]
    }
   ],
   "source": [
    "min_max_scaler = MaxAbsScaler()\n",
    "dataset_orig_train.features = min_max_scaler.fit_transform(dataset_orig_train.features)\n",
    "dataset_orig_test.features = min_max_scaler.transform(dataset_orig_test.features)\n",
    "metric_scaled_train = BinaryLabelDatasetMetric(dataset_orig_train, \n",
    "                             unprivileged_groups=unprivileged_groups,\n",
    "                             privileged_groups=privileged_groups)\n",
    "display(Markdown(\"#### Scaled dataset - Verify that the scaling does not affect the group label statistics\"))\n",
    "print(\"Train set: Difference in mean outcomes between unprivileged and privileged groups = %f\" % metric_scaled_train.mean_difference())\n",
    "metric_scaled_test = BinaryLabelDatasetMetric(dataset_orig_test, \n",
    "                             unprivileged_groups=unprivileged_groups,\n",
    "                             privileged_groups=privileged_groups)\n",
    "print(\"Test set: Difference in mean outcomes between unprivileged and privileged groups = %f\" % metric_scaled_test.mean_difference())\n"
   ]
  },
  {
   "cell_type": "markdown",
   "metadata": {
    "colab_type": "text",
    "id": "k-ISMfC3OUWB"
   },
   "source": [
    "### Learn plan classifier without debiasing"
   ]
  },
  {
   "cell_type": "code",
   "execution_count": 7,
   "metadata": {},
   "outputs": [],
   "source": [
    "# Load post-processing algorithm that equalizes the odds\n",
    "# Learn parameters with debias set to False\n",
    "plain_model = AdversarialDebiasing(privileged_groups = privileged_groups,\n",
    "                                   unprivileged_groups = unprivileged_groups,\n",
    "                                   debias=False, verbose=True, seed=360)"
   ]
  },
  {
   "cell_type": "code",
   "execution_count": 8,
   "metadata": {
    "scrolled": true
   },
   "outputs": [
    {
     "name": "stdout",
     "output_type": "stream",
     "text": [
      "Starting to train model(s) on cpu:\n",
      "Learning rate of the classifier model is now set to 0.001\n",
      "Epoch: [1/50] Batch: [1/268]\tClassifier Loss: 0.7257\tC(x): 0.7257\n",
      "Epoch: [1/50] Batch: [201/268]\tClassifier Loss: 0.5128\tC(x): 0.4786\n",
      "Epoch: [2/50] Batch: [1/268]\tClassifier Loss: 0.4918\tC(x): 0.4678\n",
      "Epoch: [2/50] Batch: [201/268]\tClassifier Loss: 0.4029\tC(x): 0.4493\n",
      "Epoch: [3/50] Batch: [1/268]\tClassifier Loss: 0.4603\tC(x): 0.4461\n",
      "Epoch: [3/50] Batch: [201/268]\tClassifier Loss: 0.4463\tC(x): 0.4397\n",
      "Epoch: [4/50] Batch: [1/268]\tClassifier Loss: 0.3519\tC(x): 0.4383\n",
      "Learning rate of the classifier model is now set to 0.00096\n",
      "Epoch: [4/50] Batch: [201/268]\tClassifier Loss: 0.4918\tC(x): 0.4346\n",
      "Epoch: [5/50] Batch: [1/268]\tClassifier Loss: 0.3501\tC(x): 0.4344\n",
      "Epoch: [5/50] Batch: [201/268]\tClassifier Loss: 0.3706\tC(x): 0.4320\n",
      "Epoch: [6/50] Batch: [1/268]\tClassifier Loss: 0.4850\tC(x): 0.4317\n",
      "Epoch: [6/50] Batch: [201/268]\tClassifier Loss: 0.4925\tC(x): 0.4302\n",
      "Epoch: [7/50] Batch: [1/268]\tClassifier Loss: 0.4188\tC(x): 0.4297\n",
      "Epoch: [7/50] Batch: [201/268]\tClassifier Loss: 0.3951\tC(x): 0.4289\n",
      "Epoch: [8/50] Batch: [1/268]\tClassifier Loss: 0.4197\tC(x): 0.4283\n",
      "Learning rate of the classifier model is now set to 0.0009216\n",
      "Epoch: [8/50] Batch: [201/268]\tClassifier Loss: 0.4737\tC(x): 0.4277\n",
      "Epoch: [9/50] Batch: [1/268]\tClassifier Loss: 0.3519\tC(x): 0.4273\n",
      "Epoch: [9/50] Batch: [201/268]\tClassifier Loss: 0.4084\tC(x): 0.4270\n",
      "Epoch: [10/50] Batch: [1/268]\tClassifier Loss: 0.4309\tC(x): 0.4264\n",
      "Epoch: [10/50] Batch: [201/268]\tClassifier Loss: 0.4217\tC(x): 0.4258\n",
      "Epoch: [11/50] Batch: [1/268]\tClassifier Loss: 0.4012\tC(x): 0.4258\n",
      "Epoch: [11/50] Batch: [201/268]\tClassifier Loss: 0.3661\tC(x): 0.4254\n",
      "Epoch: [12/50] Batch: [1/268]\tClassifier Loss: 0.3444\tC(x): 0.4252\n",
      "Learning rate of the classifier model is now set to 0.0008847359999999999\n",
      "Epoch: [12/50] Batch: [201/268]\tClassifier Loss: 0.4179\tC(x): 0.4248\n",
      "Epoch: [13/50] Batch: [1/268]\tClassifier Loss: 0.4445\tC(x): 0.4247\n",
      "Epoch: [13/50] Batch: [201/268]\tClassifier Loss: 0.3998\tC(x): 0.4246\n",
      "Epoch: [14/50] Batch: [1/268]\tClassifier Loss: 0.3689\tC(x): 0.4242\n",
      "Epoch: [14/50] Batch: [201/268]\tClassifier Loss: 0.4225\tC(x): 0.4242\n",
      "Epoch: [15/50] Batch: [1/268]\tClassifier Loss: 0.3182\tC(x): 0.4238\n",
      "Epoch: [15/50] Batch: [201/268]\tClassifier Loss: 0.4222\tC(x): 0.4236\n",
      "Learning rate of the classifier model is now set to 0.0008493465599999999\n",
      "Epoch: [16/50] Batch: [1/268]\tClassifier Loss: 0.3662\tC(x): 0.4236\n",
      "Epoch: [16/50] Batch: [201/268]\tClassifier Loss: 0.4022\tC(x): 0.4234\n",
      "Epoch: [17/50] Batch: [1/268]\tClassifier Loss: 0.3969\tC(x): 0.4233\n",
      "Epoch: [17/50] Batch: [201/268]\tClassifier Loss: 0.3843\tC(x): 0.4233\n",
      "Epoch: [18/50] Batch: [1/268]\tClassifier Loss: 0.4313\tC(x): 0.4231\n",
      "Epoch: [18/50] Batch: [201/268]\tClassifier Loss: 0.3993\tC(x): 0.4230\n",
      "Epoch: [19/50] Batch: [1/268]\tClassifier Loss: 0.4047\tC(x): 0.4229\n",
      "Learning rate of the classifier model is now set to 0.0008153726975999999\n",
      "Epoch: [19/50] Batch: [201/268]\tClassifier Loss: 0.3778\tC(x): 0.4228\n",
      "Epoch: [20/50] Batch: [1/268]\tClassifier Loss: 0.4294\tC(x): 0.4227\n",
      "Epoch: [20/50] Batch: [201/268]\tClassifier Loss: 0.4355\tC(x): 0.4225\n",
      "Epoch: [21/50] Batch: [1/268]\tClassifier Loss: 0.4556\tC(x): 0.4225\n",
      "Epoch: [21/50] Batch: [201/268]\tClassifier Loss: 0.4027\tC(x): 0.4224\n",
      "Epoch: [22/50] Batch: [1/268]\tClassifier Loss: 0.4555\tC(x): 0.4223\n",
      "Epoch: [22/50] Batch: [201/268]\tClassifier Loss: 0.4215\tC(x): 0.4221\n",
      "Epoch: [23/50] Batch: [1/268]\tClassifier Loss: 0.4524\tC(x): 0.4222\n",
      "Learning rate of the classifier model is now set to 0.0007827577896959999\n",
      "Epoch: [23/50] Batch: [201/268]\tClassifier Loss: 0.4897\tC(x): 0.4221\n",
      "Epoch: [24/50] Batch: [1/268]\tClassifier Loss: 0.4571\tC(x): 0.4221\n",
      "Epoch: [24/50] Batch: [201/268]\tClassifier Loss: 0.4026\tC(x): 0.4219\n",
      "Epoch: [25/50] Batch: [1/268]\tClassifier Loss: 0.4285\tC(x): 0.4219\n",
      "Epoch: [25/50] Batch: [201/268]\tClassifier Loss: 0.4598\tC(x): 0.4219\n",
      "Epoch: [26/50] Batch: [1/268]\tClassifier Loss: 0.3342\tC(x): 0.4218\n",
      "Epoch: [26/50] Batch: [201/268]\tClassifier Loss: 0.4984\tC(x): 0.4218\n",
      "Epoch: [27/50] Batch: [1/268]\tClassifier Loss: 0.4049\tC(x): 0.4217\n",
      "Learning rate of the classifier model is now set to 0.0007514474781081599\n",
      "Epoch: [27/50] Batch: [201/268]\tClassifier Loss: 0.4246\tC(x): 0.4216\n",
      "Epoch: [28/50] Batch: [1/268]\tClassifier Loss: 0.5122\tC(x): 0.4216\n",
      "Epoch: [28/50] Batch: [201/268]\tClassifier Loss: 0.3590\tC(x): 0.4215\n",
      "Epoch: [29/50] Batch: [1/268]\tClassifier Loss: 0.4586\tC(x): 0.4215\n",
      "Epoch: [29/50] Batch: [201/268]\tClassifier Loss: 0.3806\tC(x): 0.4214\n",
      "Epoch: [30/50] Batch: [1/268]\tClassifier Loss: 0.4212\tC(x): 0.4214\n",
      "Epoch: [30/50] Batch: [201/268]\tClassifier Loss: 0.4996\tC(x): 0.4212\n",
      "Learning rate of the classifier model is now set to 0.0007213895789838334\n",
      "Epoch: [31/50] Batch: [1/268]\tClassifier Loss: 0.4271\tC(x): 0.4213\n",
      "Epoch: [31/50] Batch: [201/268]\tClassifier Loss: 0.4032\tC(x): 0.4212\n",
      "Epoch: [32/50] Batch: [1/268]\tClassifier Loss: 0.4129\tC(x): 0.4212\n",
      "Epoch: [32/50] Batch: [201/268]\tClassifier Loss: 0.4337\tC(x): 0.4211\n",
      "Epoch: [33/50] Batch: [1/268]\tClassifier Loss: 0.3838\tC(x): 0.4211\n",
      "Epoch: [33/50] Batch: [201/268]\tClassifier Loss: 0.3586\tC(x): 0.4211\n",
      "Epoch: [34/50] Batch: [1/268]\tClassifier Loss: 0.4690\tC(x): 0.4210\n",
      "Learning rate of the classifier model is now set to 0.0006925339958244801\n",
      "Epoch: [34/50] Batch: [201/268]\tClassifier Loss: 0.4108\tC(x): 0.4210\n",
      "Epoch: [35/50] Batch: [1/268]\tClassifier Loss: 0.4707\tC(x): 0.4210\n",
      "Epoch: [35/50] Batch: [201/268]\tClassifier Loss: 0.4569\tC(x): 0.4209\n",
      "Epoch: [36/50] Batch: [1/268]\tClassifier Loss: 0.3682\tC(x): 0.4209\n",
      "Epoch: [36/50] Batch: [201/268]\tClassifier Loss: 0.3949\tC(x): 0.4208\n",
      "Epoch: [37/50] Batch: [1/268]\tClassifier Loss: 0.4216\tC(x): 0.4209\n",
      "Epoch: [37/50] Batch: [201/268]\tClassifier Loss: 0.4143\tC(x): 0.4208\n",
      "Epoch: [38/50] Batch: [1/268]\tClassifier Loss: 0.4380\tC(x): 0.4208\n",
      "Learning rate of the classifier model is now set to 0.0006648326359915007\n",
      "Epoch: [38/50] Batch: [201/268]\tClassifier Loss: 0.4235\tC(x): 0.4208\n",
      "Epoch: [39/50] Batch: [1/268]\tClassifier Loss: 0.4574\tC(x): 0.4208\n",
      "Epoch: [39/50] Batch: [201/268]\tClassifier Loss: 0.3875\tC(x): 0.4207\n",
      "Epoch: [40/50] Batch: [1/268]\tClassifier Loss: 0.4024\tC(x): 0.4207\n",
      "Epoch: [40/50] Batch: [201/268]\tClassifier Loss: 0.3991\tC(x): 0.4207\n",
      "Epoch: [41/50] Batch: [1/268]\tClassifier Loss: 0.3613\tC(x): 0.4206\n",
      "Epoch: [41/50] Batch: [201/268]\tClassifier Loss: 0.5595\tC(x): 0.4206\n",
      "Epoch: [42/50] Batch: [1/268]\tClassifier Loss: 0.4967\tC(x): 0.4206\n",
      "Learning rate of the classifier model is now set to 0.0006382393305518408\n",
      "Epoch: [42/50] Batch: [201/268]\tClassifier Loss: 0.4431\tC(x): 0.4205\n",
      "Epoch: [43/50] Batch: [1/268]\tClassifier Loss: 0.4100\tC(x): 0.4205\n",
      "Epoch: [43/50] Batch: [201/268]\tClassifier Loss: 0.3893\tC(x): 0.4205\n",
      "Epoch: [44/50] Batch: [1/268]\tClassifier Loss: 0.4446\tC(x): 0.4204\n",
      "Epoch: [44/50] Batch: [201/268]\tClassifier Loss: 0.3656\tC(x): 0.4204\n",
      "Epoch: [45/50] Batch: [1/268]\tClassifier Loss: 0.3446\tC(x): 0.4204\n",
      "Epoch: [45/50] Batch: [201/268]\tClassifier Loss: 0.3542\tC(x): 0.4203\n",
      "Learning rate of the classifier model is now set to 0.0006127097573297671\n",
      "Epoch: [46/50] Batch: [1/268]\tClassifier Loss: 0.4418\tC(x): 0.4203\n",
      "Epoch: [46/50] Batch: [201/268]\tClassifier Loss: 0.4114\tC(x): 0.4203\n",
      "Epoch: [47/50] Batch: [1/268]\tClassifier Loss: 0.4211\tC(x): 0.4203\n",
      "Epoch: [47/50] Batch: [201/268]\tClassifier Loss: 0.5052\tC(x): 0.4202\n",
      "Epoch: [48/50] Batch: [1/268]\tClassifier Loss: 0.4132\tC(x): 0.4202\n",
      "Epoch: [48/50] Batch: [201/268]\tClassifier Loss: 0.3877\tC(x): 0.4202\n",
      "Epoch: [49/50] Batch: [1/268]\tClassifier Loss: 0.4749\tC(x): 0.4202\n",
      "Learning rate of the classifier model is now set to 0.0005882013670365765\n",
      "Epoch: [49/50] Batch: [201/268]\tClassifier Loss: 0.4544\tC(x): 0.4201\n",
      "Epoch: [50/50] Batch: [1/268]\tClassifier Loss: 0.4044\tC(x): 0.4201\n",
      "Epoch: [50/50] Batch: [201/268]\tClassifier Loss: 0.3950\tC(x): 0.4201\n"
     ]
    },
    {
     "data": {
      "text/plain": [
       "<aif360.pytorch.inprocessing.adversarial_debiasing.AdversarialDebiasing at 0x1bb8f7dde88>"
      ]
     },
     "execution_count": 8,
     "metadata": {},
     "output_type": "execute_result"
    }
   ],
   "source": [
    "plain_model.fit(dataset_orig_train)"
   ]
  },
  {
   "cell_type": "code",
   "execution_count": 9,
   "metadata": {},
   "outputs": [],
   "source": [
    "# Apply the plain model to test data\n",
    "dataset_nodebiasing_train = plain_model.predict(dataset_orig_train)\n",
    "dataset_nodebiasing_test = plain_model.predict(dataset_orig_test)"
   ]
  },
  {
   "cell_type": "code",
   "execution_count": 10,
   "metadata": {
    "colab": {},
    "colab_type": "code",
    "id": "U9Ij08GhOUWS",
    "outputId": "c62e42f8-4b79-485e-b5a5-41dd17b3edec"
   },
   "outputs": [
    {
     "data": {
      "text/markdown": [
       "#### Plain model - without debiasing - dataset metrics"
      ],
      "text/plain": [
       "<IPython.core.display.Markdown object>"
      ]
     },
     "metadata": {},
     "output_type": "display_data"
    },
    {
     "name": "stdout",
     "output_type": "stream",
     "text": [
      "Train set: Difference in mean outcomes between unprivileged and privileged groups = -0.219438\n",
      "Test set: Difference in mean outcomes between unprivileged and privileged groups = -0.223037\n"
     ]
    },
    {
     "data": {
      "text/markdown": [
       "#### Plain model - without debiasing - classification metrics"
      ],
      "text/plain": [
       "<IPython.core.display.Markdown object>"
      ]
     },
     "metadata": {},
     "output_type": "display_data"
    },
    {
     "name": "stdout",
     "output_type": "stream",
     "text": [
      "Test set: Classification accuracy = 0.798744\n",
      "Test set: Balanced classification accuracy = 0.661011\n",
      "Test set: Disparate impact = 0.000000\n",
      "Test set: Equal opportunity difference = -0.462479\n",
      "Test set: Average odds difference = -0.289453\n",
      "Test set: Theil_index = 0.180469\n"
     ]
    }
   ],
   "source": [
    "# Metrics for the dataset from plain model (without debiasing)\n",
    "display(Markdown(\"#### Plain model - without debiasing - dataset metrics\"))\n",
    "metric_dataset_nodebiasing_train = BinaryLabelDatasetMetric(dataset_nodebiasing_train, \n",
    "                                             unprivileged_groups=unprivileged_groups,\n",
    "                                             privileged_groups=privileged_groups)\n",
    "\n",
    "print(\"Train set: Difference in mean outcomes between unprivileged and privileged groups = %f\" % metric_dataset_nodebiasing_train.mean_difference())\n",
    "\n",
    "metric_dataset_nodebiasing_test = BinaryLabelDatasetMetric(dataset_nodebiasing_test, \n",
    "                                             unprivileged_groups=unprivileged_groups,\n",
    "                                             privileged_groups=privileged_groups)\n",
    "\n",
    "print(\"Test set: Difference in mean outcomes between unprivileged and privileged groups = %f\" % metric_dataset_nodebiasing_test.mean_difference())\n",
    "\n",
    "display(Markdown(\"#### Plain model - without debiasing - classification metrics\"))\n",
    "classified_metric_nodebiasing_test = ClassificationMetric(dataset_orig_test, \n",
    "                                                 dataset_nodebiasing_test,\n",
    "                                                 unprivileged_groups=unprivileged_groups,\n",
    "                                                 privileged_groups=privileged_groups)\n",
    "print(\"Test set: Classification accuracy = %f\" % classified_metric_nodebiasing_test.accuracy())\n",
    "TPR = classified_metric_nodebiasing_test.true_positive_rate()\n",
    "TNR = classified_metric_nodebiasing_test.true_negative_rate()\n",
    "bal_acc_nodebiasing_test = 0.5*(TPR+TNR)\n",
    "print(\"Test set: Balanced classification accuracy = %f\" % bal_acc_nodebiasing_test)\n",
    "print(\"Test set: Disparate impact = %f\" % classified_metric_nodebiasing_test.disparate_impact())\n",
    "print(\"Test set: Equal opportunity difference = %f\" % classified_metric_nodebiasing_test.equal_opportunity_difference())\n",
    "print(\"Test set: Average odds difference = %f\" % classified_metric_nodebiasing_test.average_odds_difference())\n",
    "print(\"Test set: Theil_index = %f\" % classified_metric_nodebiasing_test.theil_index())"
   ]
  },
  {
   "cell_type": "markdown",
   "metadata": {
    "colab_type": "text",
    "id": "lzvuFHvOOUWX"
   },
   "source": [
    "### Apply in-processing algorithm based on adversarial learning"
   ]
  },
  {
   "cell_type": "code",
   "execution_count": 11,
   "metadata": {
    "colab": {},
    "colab_type": "code",
    "id": "N4D6YRyZOUWd"
   },
   "outputs": [],
   "source": [
    "# Learn parameters with debias set to True\n",
    "debiased_model = AdversarialDebiasing(privileged_groups = privileged_groups,\n",
    "                                      unprivileged_groups = unprivileged_groups,\n",
    "                                      debias=True, verbose=True, seed=360)"
   ]
  },
  {
   "cell_type": "code",
   "execution_count": 12,
   "metadata": {
    "colab": {},
    "colab_type": "code",
    "id": "neS5Ouj5OUWn",
    "outputId": "1f9a5eb1-61a6-4f04-ed18-339007cd285b",
    "scrolled": true
   },
   "outputs": [
    {
     "name": "stdout",
     "output_type": "stream",
     "text": [
      "Starting to train model(s) on cpu:\n",
      "Learning rate of the classifier model is now set to 0.001\n",
      "Learning rate of the adversary model is now set to 0.001\n",
      "Epoch: [1/50] Batch: [1/268]\tClassifier_Loss: 0.6840\tAdversary Loss: 0.6395\tC(x): 0.6840\tA(x, y): 0.6395\n",
      "Epoch: [1/50] Batch: [201/268]\tClassifier_Loss: 0.6269\tAdversary Loss: 0.6589\tC(x): 0.6485\tA(x, y): 0.6224\n",
      "Epoch: [2/50] Batch: [1/268]\tClassifier_Loss: 0.6097\tAdversary Loss: 0.6491\tC(x): 0.6438\tA(x, y): 0.6208\n",
      "Epoch: [2/50] Batch: [201/268]\tClassifier_Loss: 0.5658\tAdversary Loss: 0.6252\tC(x): 0.6283\tA(x, y): 0.6179\n",
      "Epoch: [3/50] Batch: [1/268]\tClassifier_Loss: 0.5379\tAdversary Loss: 0.6266\tC(x): 0.6215\tA(x, y): 0.6180\n",
      "Epoch: [3/50] Batch: [201/268]\tClassifier_Loss: 0.4897\tAdversary Loss: 0.6622\tC(x): 0.6022\tA(x, y): 0.6170\n",
      "Epoch: [4/50] Batch: [1/268]\tClassifier_Loss: 0.5642\tAdversary Loss: 0.6440\tC(x): 0.5973\tA(x, y): 0.6172\n",
      "Learning rate of the classifier model is now set to 0.00096\n",
      "Learning rate of the adversary model is now set to 0.00096\n",
      "Epoch: [4/50] Batch: [201/268]\tClassifier_Loss: 0.5385\tAdversary Loss: 0.6347\tC(x): 0.5915\tA(x, y): 0.6182\n",
      "Epoch: [5/50] Batch: [1/268]\tClassifier_Loss: 0.5282\tAdversary Loss: 0.6142\tC(x): 0.5894\tA(x, y): 0.6175\n",
      "Epoch: [5/50] Batch: [201/268]\tClassifier_Loss: 0.5172\tAdversary Loss: 0.5866\tC(x): 0.5811\tA(x, y): 0.6160\n",
      "Epoch: [6/50] Batch: [1/268]\tClassifier_Loss: 0.4251\tAdversary Loss: 0.6303\tC(x): 0.5784\tA(x, y): 0.6154\n",
      "Epoch: [6/50] Batch: [201/268]\tClassifier_Loss: 0.5335\tAdversary Loss: 0.6619\tC(x): 0.5728\tA(x, y): 0.6139\n",
      "Epoch: [7/50] Batch: [1/268]\tClassifier_Loss: 0.5409\tAdversary Loss: 0.5638\tC(x): 0.5719\tA(x, y): 0.6136\n",
      "Epoch: [7/50] Batch: [201/268]\tClassifier_Loss: 0.4744\tAdversary Loss: 0.5736\tC(x): 0.5711\tA(x, y): 0.6124\n",
      "Epoch: [8/50] Batch: [1/268]\tClassifier_Loss: 0.5483\tAdversary Loss: 0.5801\tC(x): 0.5712\tA(x, y): 0.6123\n",
      "Learning rate of the classifier model is now set to 0.0009216\n",
      "Learning rate of the adversary model is now set to 0.0009216\n",
      "Epoch: [8/50] Batch: [201/268]\tClassifier_Loss: 0.5708\tAdversary Loss: 0.5810\tC(x): 0.5722\tA(x, y): 0.6117\n",
      "Epoch: [9/50] Batch: [1/268]\tClassifier_Loss: 0.4669\tAdversary Loss: 0.6150\tC(x): 0.5727\tA(x, y): 0.6115\n",
      "Epoch: [9/50] Batch: [201/268]\tClassifier_Loss: 0.5728\tAdversary Loss: 0.6465\tC(x): 0.5745\tA(x, y): 0.6111\n",
      "Epoch: [10/50] Batch: [1/268]\tClassifier_Loss: 0.5999\tAdversary Loss: 0.6222\tC(x): 0.5751\tA(x, y): 0.6111\n",
      "Epoch: [10/50] Batch: [201/268]\tClassifier_Loss: 0.7451\tAdversary Loss: 0.6191\tC(x): 0.5783\tA(x, y): 0.6110\n",
      "Epoch: [11/50] Batch: [1/268]\tClassifier_Loss: 0.5987\tAdversary Loss: 0.5967\tC(x): 0.5795\tA(x, y): 0.6107\n",
      "Epoch: [11/50] Batch: [201/268]\tClassifier_Loss: 75.0000\tAdversary Loss: 0.5729\tC(x): 3.5915\tA(x, y): 0.6114\n",
      "Epoch: [12/50] Batch: [1/268]\tClassifier_Loss: 75.0000\tAdversary Loss: 0.6186\tC(x): 5.2695\tA(x, y): 0.6114\n",
      "Learning rate of the classifier model is now set to 0.0008847359999999999\n",
      "Learning rate of the adversary model is now set to 0.0008847359999999999\n",
      "Epoch: [12/50] Batch: [201/268]\tClassifier_Loss: 78.1250\tAdversary Loss: 0.6247\tC(x): 9.7915\tA(x, y): 0.6115\n",
      "Epoch: [13/50] Batch: [1/268]\tClassifier_Loss: 82.8125\tAdversary Loss: 0.6699\tC(x): 11.1807\tA(x, y): 0.6114\n",
      "Epoch: [13/50] Batch: [201/268]\tClassifier_Loss: 77.3438\tAdversary Loss: 0.6026\tC(x): 14.9886\tA(x, y): 0.6114\n",
      "Epoch: [14/50] Batch: [1/268]\tClassifier_Loss: 82.0312\tAdversary Loss: 0.5985\tC(x): 16.1724\tA(x, y): 0.6114\n",
      "Epoch: [14/50] Batch: [201/268]\tClassifier_Loss: 79.6875\tAdversary Loss: 0.6210\tC(x): 19.4188\tA(x, y): 0.6113\n",
      "Epoch: [15/50] Batch: [1/268]\tClassifier_Loss: 72.6562\tAdversary Loss: 0.5798\tC(x): 20.4580\tA(x, y): 0.6113\n",
      "Epoch: [15/50] Batch: [201/268]\tClassifier_Loss: 75.0000\tAdversary Loss: 0.6154\tC(x): 23.2931\tA(x, y): 0.6112\n",
      "Learning rate of the classifier model is now set to 0.0008493465599999999\n",
      "Learning rate of the adversary model is now set to 0.0008493465599999999\n",
      "Epoch: [16/50] Batch: [1/268]\tClassifier_Loss: 74.2188\tAdversary Loss: 0.6364\tC(x): 24.1751\tA(x, y): 0.6113\n",
      "Epoch: [16/50] Batch: [201/268]\tClassifier_Loss: 82.8125\tAdversary Loss: 0.6353\tC(x): 26.6420\tA(x, y): 0.6112\n",
      "Epoch: [17/50] Batch: [1/268]\tClassifier_Loss: 81.2500\tAdversary Loss: 0.5614\tC(x): 27.4258\tA(x, y): 0.6112\n",
      "Epoch: [17/50] Batch: [201/268]\tClassifier_Loss: 74.2188\tAdversary Loss: 0.6649\tC(x): 29.6033\tA(x, y): 0.6112\n",
      "Epoch: [18/50] Batch: [1/268]\tClassifier_Loss: 82.0312\tAdversary Loss: 0.6052\tC(x): 30.2973\tA(x, y): 0.6112\n",
      "Epoch: [18/50] Batch: [201/268]\tClassifier_Loss: 74.2188\tAdversary Loss: 0.6032\tC(x): 32.2370\tA(x, y): 0.6111\n",
      "Epoch: [19/50] Batch: [1/268]\tClassifier_Loss: 78.9062\tAdversary Loss: 0.5742\tC(x): 32.8489\tA(x, y): 0.6111\n",
      "Learning rate of the classifier model is now set to 0.0008153726975999999\n",
      "Learning rate of the adversary model is now set to 0.0008153726975999999\n",
      "Epoch: [19/50] Batch: [201/268]\tClassifier_Loss: 80.4688\tAdversary Loss: 0.6402\tC(x): 34.5829\tA(x, y): 0.6112\n",
      "Epoch: [20/50] Batch: [1/268]\tClassifier_Loss: 82.0312\tAdversary Loss: 0.6258\tC(x): 35.1319\tA(x, y): 0.6111\n",
      "Epoch: [20/50] Batch: [201/268]\tClassifier_Loss: 78.1250\tAdversary Loss: 0.6221\tC(x): 36.6806\tA(x, y): 0.6111\n",
      "Epoch: [21/50] Batch: [1/268]\tClassifier_Loss: 78.1250\tAdversary Loss: 0.5959\tC(x): 37.1841\tA(x, y): 0.6111\n",
      "Epoch: [21/50] Batch: [201/268]\tClassifier_Loss: 74.2188\tAdversary Loss: 0.6193\tC(x): 38.5799\tA(x, y): 0.6110\n",
      "Epoch: [22/50] Batch: [1/268]\tClassifier_Loss: 75.7812\tAdversary Loss: 0.6117\tC(x): 39.0411\tA(x, y): 0.6110\n",
      "Epoch: [22/50] Batch: [201/268]\tClassifier_Loss: 76.5625\tAdversary Loss: 0.6257\tC(x): 40.3199\tA(x, y): 0.6110\n",
      "Epoch: [23/50] Batch: [1/268]\tClassifier_Loss: 79.6875\tAdversary Loss: 0.6452\tC(x): 40.7315\tA(x, y): 0.6110\n",
      "Learning rate of the classifier model is now set to 0.0007827577896959999\n",
      "Learning rate of the adversary model is now set to 0.0007827577896959999\n",
      "Epoch: [23/50] Batch: [201/268]\tClassifier_Loss: 82.0312\tAdversary Loss: 0.6498\tC(x): 41.9041\tA(x, y): 0.6111\n",
      "Epoch: [24/50] Batch: [1/268]\tClassifier_Loss: 80.4688\tAdversary Loss: 0.6206\tC(x): 42.2767\tA(x, y): 0.6110\n",
      "Epoch: [24/50] Batch: [201/268]\tClassifier_Loss: 79.6875\tAdversary Loss: 0.6424\tC(x): 43.3390\tA(x, y): 0.6110\n",
      "Epoch: [25/50] Batch: [1/268]\tClassifier_Loss: 72.6562\tAdversary Loss: 0.5963\tC(x): 43.6897\tA(x, y): 0.6110\n",
      "Epoch: [25/50] Batch: [201/268]\tClassifier_Loss: 78.1250\tAdversary Loss: 0.6192\tC(x): 44.6697\tA(x, y): 0.6110\n",
      "Epoch: [26/50] Batch: [1/268]\tClassifier_Loss: 78.1250\tAdversary Loss: 0.6133\tC(x): 44.9917\tA(x, y): 0.6109\n",
      "Epoch: [26/50] Batch: [201/268]\tClassifier_Loss: 82.8125\tAdversary Loss: 0.6030\tC(x): 45.8955\tA(x, y): 0.6109\n",
      "Epoch: [27/50] Batch: [1/268]\tClassifier_Loss: 85.1562\tAdversary Loss: 0.6562\tC(x): 46.1947\tA(x, y): 0.6109\n",
      "Learning rate of the classifier model is now set to 0.0007514474781081599\n",
      "Learning rate of the adversary model is now set to 0.0007514474781081599\n",
      "Epoch: [27/50] Batch: [201/268]\tClassifier_Loss: 65.6250\tAdversary Loss: 0.5382\tC(x): 47.0349\tA(x, y): 0.6109\n",
      "Epoch: [28/50] Batch: [1/268]\tClassifier_Loss: 73.4375\tAdversary Loss: 0.5997\tC(x): 47.3051\tA(x, y): 0.6109\n",
      "Epoch: [28/50] Batch: [201/268]\tClassifier_Loss: 78.9062\tAdversary Loss: 0.6247\tC(x): 48.0841\tA(x, y): 0.6109\n",
      "Epoch: [29/50] Batch: [1/268]\tClassifier_Loss: 76.5625\tAdversary Loss: 0.6522\tC(x): 48.3391\tA(x, y): 0.6109\n",
      "Epoch: [29/50] Batch: [201/268]\tClassifier_Loss: 78.9062\tAdversary Loss: 0.5875\tC(x): 49.0543\tA(x, y): 0.6109\n",
      "Epoch: [30/50] Batch: [1/268]\tClassifier_Loss: 75.0000\tAdversary Loss: 0.6224\tC(x): 49.3011\tA(x, y): 0.6109\n",
      "Epoch: [30/50] Batch: [201/268]\tClassifier_Loss: 71.0938\tAdversary Loss: 0.5984\tC(x): 49.9763\tA(x, y): 0.6109\n",
      "Learning rate of the classifier model is now set to 0.0007213895789838334\n",
      "Learning rate of the adversary model is now set to 0.0007213895789838334\n",
      "Epoch: [31/50] Batch: [1/268]\tClassifier_Loss: 71.8750\tAdversary Loss: 0.6222\tC(x): 50.1954\tA(x, y): 0.6109\n",
      "Epoch: [31/50] Batch: [201/268]\tClassifier_Loss: 82.0312\tAdversary Loss: 0.5911\tC(x): 50.8275\tA(x, y): 0.6109\n",
      "Epoch: [32/50] Batch: [1/268]\tClassifier_Loss: 76.5625\tAdversary Loss: 0.6001\tC(x): 51.0347\tA(x, y): 0.6109\n",
      "Epoch: [32/50] Batch: [201/268]\tClassifier_Loss: 78.1250\tAdversary Loss: 0.6015\tC(x): 51.6219\tA(x, y): 0.6108\n",
      "Epoch: [33/50] Batch: [1/268]\tClassifier_Loss: 78.9062\tAdversary Loss: 0.6300\tC(x): 51.8228\tA(x, y): 0.6109\n",
      "Epoch: [33/50] Batch: [201/268]\tClassifier_Loss: 78.9062\tAdversary Loss: 0.6107\tC(x): 52.3781\tA(x, y): 0.6109\n",
      "Epoch: [34/50] Batch: [1/268]\tClassifier_Loss: 71.8750\tAdversary Loss: 0.5498\tC(x): 52.5629\tA(x, y): 0.6109\n",
      "Learning rate of the classifier model is now set to 0.0006925339958244801\n",
      "Learning rate of the adversary model is now set to 0.0006925339958244801\n",
      "Epoch: [34/50] Batch: [201/268]\tClassifier_Loss: 79.6875\tAdversary Loss: 0.6406\tC(x): 53.0895\tA(x, y): 0.6108\n",
      "Epoch: [35/50] Batch: [1/268]\tClassifier_Loss: 73.4375\tAdversary Loss: 0.6243\tC(x): 53.2566\tA(x, y): 0.6108\n",
      "Epoch: [35/50] Batch: [201/268]\tClassifier_Loss: 76.5625\tAdversary Loss: 0.6176\tC(x): 53.7536\tA(x, y): 0.6108\n",
      "Epoch: [36/50] Batch: [1/268]\tClassifier_Loss: 81.2500\tAdversary Loss: 0.5892\tC(x): 53.9142\tA(x, y): 0.6108\n",
      "Epoch: [36/50] Batch: [201/268]\tClassifier_Loss: 75.7812\tAdversary Loss: 0.6316\tC(x): 54.3767\tA(x, y): 0.6108\n",
      "Epoch: [37/50] Batch: [1/268]\tClassifier_Loss: 74.2188\tAdversary Loss: 0.6543\tC(x): 54.5316\tA(x, y): 0.6108\n",
      "Epoch: [37/50] Batch: [201/268]\tClassifier_Loss: 72.6562\tAdversary Loss: 0.6075\tC(x): 54.9697\tA(x, y): 0.6108\n",
      "Epoch: [38/50] Batch: [1/268]\tClassifier_Loss: 78.9062\tAdversary Loss: 0.5795\tC(x): 55.1183\tA(x, y): 0.6108\n",
      "Learning rate of the classifier model is now set to 0.0006648326359915007\n",
      "Learning rate of the adversary model is now set to 0.0006648326359915007\n",
      "Epoch: [38/50] Batch: [201/268]\tClassifier_Loss: 84.3750\tAdversary Loss: 0.6971\tC(x): 55.5325\tA(x, y): 0.6108\n",
      "Epoch: [39/50] Batch: [1/268]\tClassifier_Loss: 80.4688\tAdversary Loss: 0.6227\tC(x): 55.6731\tA(x, y): 0.6108\n",
      "Epoch: [39/50] Batch: [201/268]\tClassifier_Loss: 78.1250\tAdversary Loss: 0.6186\tC(x): 56.0691\tA(x, y): 0.6108\n",
      "Epoch: [40/50] Batch: [1/268]\tClassifier_Loss: 78.1250\tAdversary Loss: 0.6140\tC(x): 56.2004\tA(x, y): 0.6108\n",
      "Epoch: [40/50] Batch: [201/268]\tClassifier_Loss: 75.0000\tAdversary Loss: 0.6147\tC(x): 56.5752\tA(x, y): 0.6107\n",
      "Epoch: [41/50] Batch: [1/268]\tClassifier_Loss: 73.4375\tAdversary Loss: 0.5969\tC(x): 56.6998\tA(x, y): 0.6108\n",
      "Epoch: [41/50] Batch: [201/268]\tClassifier_Loss: 83.5938\tAdversary Loss: 0.6444\tC(x): 57.0613\tA(x, y): 0.6108\n",
      "Epoch: [42/50] Batch: [1/268]\tClassifier_Loss: 79.6875\tAdversary Loss: 0.6180\tC(x): 57.1759\tA(x, y): 0.6108\n",
      "Learning rate of the classifier model is now set to 0.0006382393305518408\n",
      "Learning rate of the adversary model is now set to 0.0006382393305518408\n",
      "Epoch: [42/50] Batch: [201/268]\tClassifier_Loss: 78.1250\tAdversary Loss: 0.6130\tC(x): 57.5136\tA(x, y): 0.6107\n",
      "Epoch: [43/50] Batch: [1/268]\tClassifier_Loss: 76.5625\tAdversary Loss: 0.6008\tC(x): 57.6303\tA(x, y): 0.6108\n",
      "Epoch: [43/50] Batch: [201/268]\tClassifier_Loss: 67.1875\tAdversary Loss: 0.6125\tC(x): 57.9578\tA(x, y): 0.6108\n",
      "Epoch: [44/50] Batch: [1/268]\tClassifier_Loss: 75.7812\tAdversary Loss: 0.6074\tC(x): 58.0638\tA(x, y): 0.6108\n",
      "Epoch: [44/50] Batch: [201/268]\tClassifier_Loss: 67.9688\tAdversary Loss: 0.6172\tC(x): 58.3759\tA(x, y): 0.6107\n",
      "Epoch: [45/50] Batch: [1/268]\tClassifier_Loss: 75.7812\tAdversary Loss: 0.6747\tC(x): 58.4764\tA(x, y): 0.6108\n",
      "Epoch: [45/50] Batch: [201/268]\tClassifier_Loss: 75.7812\tAdversary Loss: 0.6189\tC(x): 58.7744\tA(x, y): 0.6108\n",
      "Learning rate of the classifier model is now set to 0.0006127097573297671\n",
      "Learning rate of the adversary model is now set to 0.0006127097573297671\n",
      "Epoch: [46/50] Batch: [1/268]\tClassifier_Loss: 76.5625\tAdversary Loss: 0.6003\tC(x): 58.8703\tA(x, y): 0.6108\n",
      "Epoch: [46/50] Batch: [201/268]\tClassifier_Loss: 78.9062\tAdversary Loss: 0.6078\tC(x): 59.1529\tA(x, y): 0.6108\n",
      "Epoch: [47/50] Batch: [1/268]\tClassifier_Loss: 73.4375\tAdversary Loss: 0.6688\tC(x): 59.2472\tA(x, y): 0.6108\n",
      "Epoch: [47/50] Batch: [201/268]\tClassifier_Loss: 77.3438\tAdversary Loss: 0.5890\tC(x): 59.5179\tA(x, y): 0.6108\n",
      "Epoch: [48/50] Batch: [1/268]\tClassifier_Loss: 76.5625\tAdversary Loss: 0.6170\tC(x): 59.6081\tA(x, y): 0.6108\n",
      "Epoch: [48/50] Batch: [201/268]\tClassifier_Loss: 78.9062\tAdversary Loss: 0.6168\tC(x): 59.8683\tA(x, y): 0.6108\n",
      "Epoch: [49/50] Batch: [1/268]\tClassifier_Loss: 78.9062\tAdversary Loss: 0.6255\tC(x): 59.9549\tA(x, y): 0.6108\n",
      "Learning rate of the classifier model is now set to 0.0005882013670365765\n",
      "Learning rate of the adversary model is now set to 0.0005882013670365765\n",
      "Epoch: [49/50] Batch: [201/268]\tClassifier_Loss: 71.0938\tAdversary Loss: 0.5713\tC(x): 60.2028\tA(x, y): 0.6107\n",
      "Epoch: [50/50] Batch: [1/268]\tClassifier_Loss: 71.8750\tAdversary Loss: 0.6250\tC(x): 60.2874\tA(x, y): 0.6108\n",
      "Epoch: [50/50] Batch: [201/268]\tClassifier_Loss: 73.4375\tAdversary Loss: 0.6044\tC(x): 60.5278\tA(x, y): 0.6107\n"
     ]
    },
    {
     "data": {
      "text/plain": [
       "<aif360.pytorch.inprocessing.adversarial_debiasing.AdversarialDebiasing at 0x1bb984a1c48>"
      ]
     },
     "execution_count": 12,
     "metadata": {},
     "output_type": "execute_result"
    }
   ],
   "source": [
    "debiased_model.fit(dataset_orig_train)"
   ]
  },
  {
   "cell_type": "code",
   "execution_count": 13,
   "metadata": {
    "colab": {},
    "colab_type": "code",
    "id": "tZF-Kih6OUWp"
   },
   "outputs": [],
   "source": [
    "# Apply the plain model to test data\n",
    "dataset_debiasing_train = debiased_model.predict(dataset_orig_train)\n",
    "dataset_debiasing_test = debiased_model.predict(dataset_orig_test)"
   ]
  },
  {
   "cell_type": "code",
   "execution_count": 14,
   "metadata": {
    "colab": {},
    "colab_type": "code",
    "id": "t1vZGQm0OUWw",
    "outputId": "af8617b6-4891-4a71-8ca4-4d5ae559c311"
   },
   "outputs": [
    {
     "data": {
      "text/markdown": [
       "#### Plain model - without debiasing - dataset metrics"
      ],
      "text/plain": [
       "<IPython.core.display.Markdown object>"
      ]
     },
     "metadata": {},
     "output_type": "display_data"
    },
    {
     "name": "stdout",
     "output_type": "stream",
     "text": [
      "Train set: Difference in mean outcomes between unprivileged and privileged groups = -0.219438\n",
      "Test set: Difference in mean outcomes between unprivileged and privileged groups = -0.223037\n"
     ]
    },
    {
     "data": {
      "text/markdown": [
       "#### Model - with debiasing - dataset metrics"
      ],
      "text/plain": [
       "<IPython.core.display.Markdown object>"
      ]
     },
     "metadata": {},
     "output_type": "display_data"
    },
    {
     "name": "stdout",
     "output_type": "stream",
     "text": [
      "Train set: Difference in mean outcomes between unprivileged and privileged groups = 0.000000\n",
      "Test set: Difference in mean outcomes between unprivileged and privileged groups = 0.000000\n"
     ]
    },
    {
     "data": {
      "text/markdown": [
       "#### Plain model - without debiasing - classification metrics"
      ],
      "text/plain": [
       "<IPython.core.display.Markdown object>"
      ]
     },
     "metadata": {},
     "output_type": "display_data"
    },
    {
     "name": "stdout",
     "output_type": "stream",
     "text": [
      "Test set: Classification accuracy = 0.798744\n",
      "Test set: Balanced classification accuracy = 0.661011\n",
      "Test set: Disparate impact = 0.000000\n",
      "Test set: Equal opportunity difference = -0.462479\n",
      "Test set: Average odds difference = -0.289453\n",
      "Test set: Theil_index = 0.180469\n"
     ]
    },
    {
     "data": {
      "text/markdown": [
       "#### Model - with debiasing - classification metrics"
      ],
      "text/plain": [
       "<IPython.core.display.Markdown object>"
      ]
     },
     "metadata": {},
     "output_type": "display_data"
    },
    {
     "name": "stdout",
     "output_type": "stream",
     "text": [
      "Test set: Classification accuracy = 0.242749\n",
      "Test set: Balanced classification accuracy = 0.500000\n",
      "Test set: Disparate impact = 1.000000\n",
      "Test set: Equal opportunity difference = 0.000000\n",
      "Test set: Average odds difference = 0.000000\n",
      "Test set: Theil_index = 0.033644\n"
     ]
    }
   ],
   "source": [
    "# Metrics for the dataset from plain model (without debiasing)\n",
    "display(Markdown(\"#### Plain model - without debiasing - dataset metrics\"))\n",
    "print(\"Train set: Difference in mean outcomes between unprivileged and privileged groups = %f\" % metric_dataset_nodebiasing_train.mean_difference())\n",
    "print(\"Test set: Difference in mean outcomes between unprivileged and privileged groups = %f\" % metric_dataset_nodebiasing_test.mean_difference())\n",
    "\n",
    "# Metrics for the dataset from model with debiasing\n",
    "display(Markdown(\"#### Model - with debiasing - dataset metrics\"))\n",
    "metric_dataset_debiasing_train = BinaryLabelDatasetMetric(dataset_debiasing_train, \n",
    "                                             unprivileged_groups=unprivileged_groups,\n",
    "                                             privileged_groups=privileged_groups)\n",
    "\n",
    "print(\"Train set: Difference in mean outcomes between unprivileged and privileged groups = %f\" % metric_dataset_debiasing_train.mean_difference())\n",
    "\n",
    "metric_dataset_debiasing_test = BinaryLabelDatasetMetric(dataset_debiasing_test, \n",
    "                                             unprivileged_groups=unprivileged_groups,\n",
    "                                             privileged_groups=privileged_groups)\n",
    "\n",
    "print(\"Test set: Difference in mean outcomes between unprivileged and privileged groups = %f\" % metric_dataset_debiasing_test.mean_difference())\n",
    "\n",
    "\n",
    "\n",
    "display(Markdown(\"#### Plain model - without debiasing - classification metrics\"))\n",
    "print(\"Test set: Classification accuracy = %f\" % classified_metric_nodebiasing_test.accuracy())\n",
    "TPR = classified_metric_nodebiasing_test.true_positive_rate()\n",
    "TNR = classified_metric_nodebiasing_test.true_negative_rate()\n",
    "bal_acc_nodebiasing_test = 0.5*(TPR+TNR)\n",
    "print(\"Test set: Balanced classification accuracy = %f\" % bal_acc_nodebiasing_test)\n",
    "print(\"Test set: Disparate impact = %f\" % classified_metric_nodebiasing_test.disparate_impact())\n",
    "print(\"Test set: Equal opportunity difference = %f\" % classified_metric_nodebiasing_test.equal_opportunity_difference())\n",
    "print(\"Test set: Average odds difference = %f\" % classified_metric_nodebiasing_test.average_odds_difference())\n",
    "print(\"Test set: Theil_index = %f\" % classified_metric_nodebiasing_test.theil_index())\n",
    "\n",
    "\n",
    "\n",
    "display(Markdown(\"#### Model - with debiasing - classification metrics\"))\n",
    "classified_metric_debiasing_test = ClassificationMetric(dataset_orig_test, \n",
    "                                                 dataset_debiasing_test,\n",
    "                                                 unprivileged_groups=unprivileged_groups,\n",
    "                                                 privileged_groups=privileged_groups)\n",
    "print(\"Test set: Classification accuracy = %f\" % classified_metric_debiasing_test.accuracy())\n",
    "TPR = classified_metric_debiasing_test.true_positive_rate()\n",
    "TNR = classified_metric_debiasing_test.true_negative_rate()\n",
    "bal_acc_debiasing_test = 0.5*(TPR+TNR)\n",
    "print(\"Test set: Balanced classification accuracy = %f\" % bal_acc_debiasing_test)\n",
    "print(\"Test set: Disparate impact = %f\" % classified_metric_debiasing_test.disparate_impact())\n",
    "print(\"Test set: Equal opportunity difference = %f\" % classified_metric_debiasing_test.equal_opportunity_difference())\n",
    "print(\"Test set: Average odds difference = %f\" % classified_metric_debiasing_test.average_odds_difference())\n",
    "print(\"Test set: Theil_index = %f\" % classified_metric_debiasing_test.theil_index())"
   ]
  },
  {
   "cell_type": "markdown",
   "metadata": {},
   "source": [
    "### Experimenting"
   ]
  },
  {
   "cell_type": "code",
   "execution_count": 15,
   "metadata": {},
   "outputs": [],
   "source": [
    "def init_weights(layer):\n",
    "    r\"\"\"Initialize layer weights and biases if it has any and the chosen initializer\n",
    "    is valid. Can be applied on any layer and will only initialize parametric layers.\n",
    "    \"\"\"\n",
    "\n",
    "    try:\n",
    "        layer.__getattr__('weight')\n",
    "        _has_weight = True\n",
    "    except:\n",
    "        _has_weight = False\n",
    "\n",
    "    try:\n",
    "        layer.__getattr__('bias')\n",
    "        _has_bias = True\n",
    "    except:\n",
    "        _has_bias = False\n",
    "\n",
    "    if _has_weight:\n",
    "        nn.init.xavier_uniform_(layer.weight.data)\n",
    "    if _has_bias:\n",
    "        try:\n",
    "            nn.init.xavier_uniform_(layer.bias.data)\n",
    "        except:\n",
    "            layer.bias.data.fill_(0.01)\n",
    "    else:\n",
    "        pass"
   ]
  },
  {
   "cell_type": "code",
   "execution_count": 16,
   "metadata": {},
   "outputs": [],
   "source": [
    "num_epochs = 50"
   ]
  },
  {
   "cell_type": "code",
   "execution_count": 17,
   "metadata": {},
   "outputs": [
    {
     "data": {
      "text/plain": [
       "ClassifierModel(\n",
       "  (ann): Sequential(\n",
       "    (0): Linear(in_features=18, out_features=200, bias=True)\n",
       "    (1): ReLU()\n",
       "    (2): Dropout(p=0.5, inplace=False)\n",
       "    (3): Linear(in_features=200, out_features=1, bias=True)\n",
       "  )\n",
       ")"
      ]
     },
     "execution_count": 17,
     "metadata": {},
     "output_type": "execute_result"
    }
   ],
   "source": [
    "classifier = ClassifierModel(default_classifier_ann(18,[200],[0.5]), torch.sigmoid)\n",
    "classifier.apply(init_weights)"
   ]
  },
  {
   "cell_type": "code",
   "execution_count": 18,
   "metadata": {},
   "outputs": [
    {
     "data": {
      "text/plain": [
       "AdversaryModel(\n",
       "  (ann): Sequential(\n",
       "    (0): Linear(in_features=18, out_features=200, bias=True)\n",
       "    (1): ReLU()\n",
       "    (2): Dropout(p=0.5, inplace=False)\n",
       "    (3): Linear(in_features=200, out_features=1, bias=True)\n",
       "  )\n",
       "  (s): Sigmoid()\n",
       "  (encoder): Linear(in_features=3, out_features=1, bias=True)\n",
       ")"
      ]
     },
     "execution_count": 18,
     "metadata": {},
     "output_type": "execute_result"
    }
   ],
   "source": [
    "adversary = AdversaryModel(default_classifier_ann(18,[200],[0.5]))\n",
    "adversary.apply(init_weights)"
   ]
  },
  {
   "cell_type": "code",
   "execution_count": 19,
   "metadata": {},
   "outputs": [],
   "source": [
    "protected_attribute_index = dataset_orig_train.protected_attribute_names.index('sex')\n",
    "train_dataset = torch.utils.data.TensorDataset(\n",
    "    torch.from_numpy(dataset_orig_train.features).float(),\n",
    "    torch.from_numpy(dataset_orig_train.labels).float(),\n",
    "    torch.from_numpy(dataset_orig_train.protected_attributes[:, protected_attribute_index].\\\n",
    "    reshape(dataset_orig_train.protected_attributes.shape[0], -1)).float()\n",
    ")\n",
    "train_loader = torch.utils.data.DataLoader(train_dataset, batch_size=128, shuffle=True)"
   ]
  },
  {
   "cell_type": "code",
   "execution_count": 20,
   "metadata": {},
   "outputs": [],
   "source": [
    "import numpy as np\n",
    "from math import ceil\n",
    "num_train_samples, features_dim = np.shape(dataset_orig_train.features)\n",
    "global_steps = num_epochs * ceil(num_train_samples / 128)"
   ]
  },
  {
   "cell_type": "code",
   "execution_count": 21,
   "metadata": {},
   "outputs": [],
   "source": [
    "classifier_optim = torch.optim.Adam([p for p in classifier.parameters() if p.requires_grad], lr=0.001)\n",
    "classifier_lr_scheduler = StaircaseExponentialLR(classifier_optim, global_steps, 0.001, 100, 0.96, None, True, True)\n",
    "adversary_optim = torch.optim.Adam([p for p in adversary.parameters() if p.requires_grad], lr=0.001)\n",
    "adversary_lr_scheduler = StaircaseExponentialLR(adversary_optim, global_steps, 0.001, 100, 0.96, None, True, True)"
   ]
  },
  {
   "cell_type": "code",
   "execution_count": 22,
   "metadata": {},
   "outputs": [],
   "source": [
    "normalize = lambda x: x / (torch.norm(x) + np.finfo(np.float32).tiny)\n",
    "classifier_criterion = nn.BCELoss(reduction=\"mean\")\n",
    "adversary_criterion = nn.BCELoss(reduction=\"mean\")"
   ]
  },
  {
   "cell_type": "code",
   "execution_count": 23,
   "metadata": {
    "scrolled": true
   },
   "outputs": [
    {
     "name": "stdout",
     "output_type": "stream",
     "text": [
      "Learning rate of the classifier model is now set to 0.001\n",
      "Learning rate of the adversary model is now set to 0.001\n",
      "Epoch: [1/50] Batch: [1/268]\tClassifier_Loss: 0.6964\tAdversary Loss: 0.7403\tC(x): 0.6964\tA(x, y): 0.7403\n",
      "Learning rate of the classifier model is now set to 0.00096\n",
      "Learning rate of the adversary model is now set to 0.00096\n",
      "Learning rate of the classifier model is now set to 0.0009216\n",
      "Learning rate of the adversary model is now set to 0.0009216\n",
      "Epoch: [1/50] Batch: [201/268]\tClassifier_Loss: 0.5945\tAdversary Loss: 0.6805\tC(x): 0.7010\tA(x, y): 0.6942\n",
      "Epoch: [2/50] Batch: [1/268]\tClassifier_Loss: 0.5238\tAdversary Loss: 0.6873\tC(x): 0.6703\tA(x, y): 0.6921\n",
      "Learning rate of the classifier model is now set to 0.0008847359999999999\n",
      "Learning rate of the adversary model is now set to 0.0008847359999999999\n",
      "Learning rate of the classifier model is now set to 0.0008493465599999999\n",
      "Learning rate of the adversary model is now set to 0.0008493465599999999\n",
      "Epoch: [2/50] Batch: [201/268]\tClassifier_Loss: 0.5379\tAdversary Loss: 0.6432\tC(x): 0.6378\tA(x, y): 0.6859\n",
      "Learning rate of the classifier model is now set to 0.0008153726975999999\n",
      "Learning rate of the adversary model is now set to 0.0008153726975999999\n",
      "Epoch: [3/50] Batch: [1/268]\tClassifier_Loss: 0.5820\tAdversary Loss: 0.6768\tC(x): 0.6359\tA(x, y): 0.6838\n",
      "Learning rate of the classifier model is now set to 0.0007827577896959999\n",
      "Learning rate of the adversary model is now set to 0.0007827577896959999\n",
      "Learning rate of the classifier model is now set to 0.0007514474781081599\n",
      "Learning rate of the adversary model is now set to 0.0007514474781081599\n",
      "Epoch: [3/50] Batch: [201/268]\tClassifier_Loss: 0.7567\tAdversary Loss: 0.6424\tC(x): 0.6421\tA(x, y): 0.6768\n",
      "Learning rate of the classifier model is now set to 0.0007213895789838334\n",
      "Learning rate of the adversary model is now set to 0.0007213895789838334\n",
      "Epoch: [4/50] Batch: [1/268]\tClassifier_Loss: 0.6009\tAdversary Loss: 0.6430\tC(x): 0.6492\tA(x, y): 0.6749\n",
      "Learning rate of the classifier model is now set to 0.0006925339958244801\n",
      "Learning rate of the adversary model is now set to 0.0006925339958244801\n",
      "Learning rate of the classifier model is now set to 0.0006648326359915007\n",
      "Learning rate of the adversary model is now set to 0.0006648326359915007\n",
      "Epoch: [4/50] Batch: [201/268]\tClassifier_Loss: 0.7559\tAdversary Loss: 0.6253\tC(x): 0.6699\tA(x, y): 0.6693\n",
      "Epoch: [5/50] Batch: [1/268]\tClassifier_Loss: 0.7878\tAdversary Loss: 0.6147\tC(x): 0.6767\tA(x, y): 0.6679\n",
      "Learning rate of the classifier model is now set to 0.0006382393305518408\n",
      "Learning rate of the adversary model is now set to 0.0006382393305518408\n",
      "Learning rate of the classifier model is now set to 0.0006127097573297671\n",
      "Learning rate of the adversary model is now set to 0.0006127097573297671\n",
      "Epoch: [5/50] Batch: [201/268]\tClassifier_Loss: 0.6841\tAdversary Loss: 0.6325\tC(x): 0.6961\tA(x, y): 0.6638\n",
      "Learning rate of the classifier model is now set to 0.0005882013670365765\n",
      "Learning rate of the adversary model is now set to 0.0005882013670365765\n",
      "Epoch: [6/50] Batch: [1/268]\tClassifier_Loss: 0.8332\tAdversary Loss: 0.6061\tC(x): 0.7022\tA(x, y): 0.6623\n",
      "Learning rate of the classifier model is now set to 0.0005646733123551134\n",
      "Learning rate of the adversary model is now set to 0.0005646733123551134\n",
      "Learning rate of the classifier model is now set to 0.0005420863798609088\n",
      "Learning rate of the adversary model is now set to 0.0005420863798609088\n",
      "Epoch: [6/50] Batch: [201/268]\tClassifier_Loss: 0.6917\tAdversary Loss: 0.6144\tC(x): 0.7193\tA(x, y): 0.6589\n",
      "Learning rate of the classifier model is now set to 0.0005204029246664724\n",
      "Learning rate of the adversary model is now set to 0.0005204029246664724\n",
      "Epoch: [7/50] Batch: [1/268]\tClassifier_Loss: 0.8765\tAdversary Loss: 0.6230\tC(x): 0.7240\tA(x, y): 0.6578\n",
      "Learning rate of the classifier model is now set to 0.0004995868076798134\n",
      "Learning rate of the adversary model is now set to 0.0004995868076798134\n",
      "Learning rate of the classifier model is now set to 0.0004796033353726209\n",
      "Learning rate of the adversary model is now set to 0.0004796033353726209\n",
      "Epoch: [7/50] Batch: [201/268]\tClassifier_Loss: 1.0446\tAdversary Loss: 0.6096\tC(x): 0.7384\tA(x, y): 0.6548\n",
      "Epoch: [8/50] Batch: [1/268]\tClassifier_Loss: 0.7316\tAdversary Loss: 0.6173\tC(x): 0.7421\tA(x, y): 0.6541\n",
      "Learning rate of the classifier model is now set to 0.00046041920195771606\n",
      "Learning rate of the adversary model is now set to 0.00046041920195771606\n",
      "Learning rate of the classifier model is now set to 0.00044200243387940743\n",
      "Learning rate of the adversary model is now set to 0.00044200243387940743\n",
      "Epoch: [8/50] Batch: [201/268]\tClassifier_Loss: 1.0408\tAdversary Loss: 0.6324\tC(x): 0.7520\tA(x, y): 0.6517\n",
      "Learning rate of the classifier model is now set to 0.0004243223365242311\n",
      "Learning rate of the adversary model is now set to 0.0004243223365242311\n",
      "Epoch: [9/50] Batch: [1/268]\tClassifier_Loss: 0.9094\tAdversary Loss: 0.6117\tC(x): 0.7559\tA(x, y): 0.6508\n",
      "Learning rate of the classifier model is now set to 0.00040734944306326185\n",
      "Learning rate of the adversary model is now set to 0.00040734944306326185\n",
      "Learning rate of the classifier model is now set to 0.00039105546534073135\n",
      "Learning rate of the adversary model is now set to 0.00039105546534073135\n",
      "Epoch: [9/50] Batch: [201/268]\tClassifier_Loss: 0.9876\tAdversary Loss: 0.6174\tC(x): 0.7661\tA(x, y): 0.6487\n",
      "Learning rate of the classifier model is now set to 0.0003754132467271021\n",
      "Learning rate of the adversary model is now set to 0.0003754132467271021\n",
      "Epoch: [10/50] Batch: [1/268]\tClassifier_Loss: 0.9468\tAdversary Loss: 0.5942\tC(x): 0.7683\tA(x, y): 0.6481\n",
      "Learning rate of the classifier model is now set to 0.000360396716858018\n",
      "Learning rate of the adversary model is now set to 0.000360396716858018\n",
      "Learning rate of the classifier model is now set to 0.00034598084818369723\n",
      "Learning rate of the adversary model is now set to 0.00034598084818369723\n",
      "Epoch: [10/50] Batch: [201/268]\tClassifier_Loss: 0.9790\tAdversary Loss: 0.6190\tC(x): 0.7754\tA(x, y): 0.6464\n",
      "Epoch: [11/50] Batch: [1/268]\tClassifier_Loss: 0.8454\tAdversary Loss: 0.6510\tC(x): 0.7773\tA(x, y): 0.6458\n",
      "Learning rate of the classifier model is now set to 0.0003321416142563494\n",
      "Learning rate of the adversary model is now set to 0.0003321416142563494\n",
      "Learning rate of the classifier model is now set to 0.0003188559496860954\n",
      "Learning rate of the adversary model is now set to 0.0003188559496860954\n",
      "Epoch: [11/50] Batch: [201/268]\tClassifier_Loss: 0.7203\tAdversary Loss: 0.6416\tC(x): 0.7829\tA(x, y): 0.6443\n",
      "Learning rate of the classifier model is now set to 0.00030610171169865154\n",
      "Learning rate of the adversary model is now set to 0.00030610171169865154\n",
      "Epoch: [12/50] Batch: [1/268]\tClassifier_Loss: 0.9689\tAdversary Loss: 0.6396\tC(x): 0.7849\tA(x, y): 0.6438\n",
      "Learning rate of the classifier model is now set to 0.0002938576432307055\n",
      "Learning rate of the adversary model is now set to 0.0002938576432307055\n",
      "Learning rate of the classifier model is now set to 0.00028210333750147725\n",
      "Learning rate of the adversary model is now set to 0.00028210333750147725\n",
      "Epoch: [12/50] Batch: [201/268]\tClassifier_Loss: 0.7551\tAdversary Loss: 0.6446\tC(x): 0.7897\tA(x, y): 0.6426\n",
      "Learning rate of the classifier model is now set to 0.00027081920400141813\n",
      "Learning rate of the adversary model is now set to 0.00027081920400141813\n",
      "Epoch: [13/50] Batch: [1/268]\tClassifier_Loss: 0.9731\tAdversary Loss: 0.6284\tC(x): 0.7908\tA(x, y): 0.6422\n",
      "Learning rate of the classifier model is now set to 0.0002599864358413614\n",
      "Learning rate of the adversary model is now set to 0.0002599864358413614\n",
      "Learning rate of the classifier model is now set to 0.00024958697840770695\n",
      "Learning rate of the adversary model is now set to 0.00024958697840770695\n",
      "Epoch: [13/50] Batch: [201/268]\tClassifier_Loss: 0.8517\tAdversary Loss: 0.6259\tC(x): 0.7934\tA(x, y): 0.6413\n",
      "Epoch: [14/50] Batch: [1/268]\tClassifier_Loss: 0.7292\tAdversary Loss: 0.6178\tC(x): 0.7947\tA(x, y): 0.6407\n",
      "Learning rate of the classifier model is now set to 0.00023960349927139865\n",
      "Learning rate of the adversary model is now set to 0.00023960349927139865\n",
      "Learning rate of the classifier model is now set to 0.0002300193593005427\n",
      "Learning rate of the adversary model is now set to 0.0002300193593005427\n",
      "Epoch: [14/50] Batch: [201/268]\tClassifier_Loss: 0.7347\tAdversary Loss: 0.6005\tC(x): 0.7973\tA(x, y): 0.6397\n",
      "Learning rate of the classifier model is now set to 0.00022081858492852097\n",
      "Learning rate of the adversary model is now set to 0.00022081858492852097\n",
      "Epoch: [15/50] Batch: [1/268]\tClassifier_Loss: 0.7814\tAdversary Loss: 0.6504\tC(x): 0.7979\tA(x, y): 0.6394\n",
      "Learning rate of the classifier model is now set to 0.00021198584153138015\n",
      "Learning rate of the adversary model is now set to 0.00021198584153138015\n",
      "Learning rate of the classifier model is now set to 0.0002035064078701249\n",
      "Learning rate of the adversary model is now set to 0.0002035064078701249\n",
      "Epoch: [15/50] Batch: [201/268]\tClassifier_Loss: 1.0862\tAdversary Loss: 0.6025\tC(x): 0.7988\tA(x, y): 0.6385\n",
      "Learning rate of the classifier model is now set to 0.00019536615155531993\n",
      "Learning rate of the adversary model is now set to 0.00019536615155531993\n",
      "Epoch: [16/50] Batch: [1/268]\tClassifier_Loss: 0.8853\tAdversary Loss: 0.6627\tC(x): 0.7993\tA(x, y): 0.6382\n",
      "Learning rate of the classifier model is now set to 0.0001875515054931071\n",
      "Learning rate of the adversary model is now set to 0.0001875515054931071\n",
      "Learning rate of the classifier model is now set to 0.00018004944527338283\n",
      "Learning rate of the adversary model is now set to 0.00018004944527338283\n",
      "Epoch: [16/50] Batch: [201/268]\tClassifier_Loss: 0.8243\tAdversary Loss: 0.5702\tC(x): 0.7991\tA(x, y): 0.6374\n",
      "Epoch: [17/50] Batch: [1/268]\tClassifier_Loss: 0.9010\tAdversary Loss: 0.6218\tC(x): 0.7996\tA(x, y): 0.6371\n",
      "Learning rate of the classifier model is now set to 0.0001728474674624475\n",
      "Learning rate of the adversary model is now set to 0.0001728474674624475\n",
      "Learning rate of the classifier model is now set to 0.0001659335687639496\n",
      "Learning rate of the adversary model is now set to 0.0001659335687639496\n",
      "Epoch: [17/50] Batch: [201/268]\tClassifier_Loss: 0.8853\tAdversary Loss: 0.6249\tC(x): 0.8001\tA(x, y): 0.6365\n",
      "Learning rate of the classifier model is now set to 0.0001592962260133916\n",
      "Learning rate of the adversary model is now set to 0.0001592962260133916\n",
      "Epoch: [18/50] Batch: [1/268]\tClassifier_Loss: 0.7350\tAdversary Loss: 0.5867\tC(x): 0.8003\tA(x, y): 0.6362\n",
      "Learning rate of the classifier model is now set to 0.00015292437697285593\n",
      "Learning rate of the adversary model is now set to 0.00015292437697285593\n",
      "Learning rate of the classifier model is now set to 0.0001468074018939417\n",
      "Learning rate of the adversary model is now set to 0.0001468074018939417\n",
      "Epoch: [18/50] Batch: [201/268]\tClassifier_Loss: 0.6064\tAdversary Loss: 0.6343\tC(x): 0.8004\tA(x, y): 0.6356\n",
      "Learning rate of the classifier model is now set to 0.00014093510581818404\n",
      "Learning rate of the adversary model is now set to 0.00014093510581818404\n",
      "Epoch: [19/50] Batch: [1/268]\tClassifier_Loss: 0.8066\tAdversary Loss: 0.6369\tC(x): 0.8002\tA(x, y): 0.6354\n",
      "Learning rate of the classifier model is now set to 0.00013529770158545666\n",
      "Learning rate of the adversary model is now set to 0.00013529770158545666\n",
      "Learning rate of the classifier model is now set to 0.00012988579352203838\n",
      "Learning rate of the adversary model is now set to 0.00012988579352203838\n",
      "Epoch: [19/50] Batch: [201/268]\tClassifier_Loss: 0.7322\tAdversary Loss: 0.6319\tC(x): 0.7991\tA(x, y): 0.6348\n",
      "Epoch: [20/50] Batch: [1/268]\tClassifier_Loss: 0.7655\tAdversary Loss: 0.6118\tC(x): 0.7993\tA(x, y): 0.6346\n",
      "Learning rate of the classifier model is now set to 0.00012469036178115684\n",
      "Learning rate of the adversary model is now set to 0.00012469036178115684\n",
      "Learning rate of the classifier model is now set to 0.00011970274730991057\n",
      "Learning rate of the adversary model is now set to 0.00011970274730991057\n",
      "Epoch: [20/50] Batch: [201/268]\tClassifier_Loss: 0.7702\tAdversary Loss: 0.6206\tC(x): 0.7983\tA(x, y): 0.6341\n",
      "Learning rate of the classifier model is now set to 0.00011491463741751413\n",
      "Learning rate of the adversary model is now set to 0.00011491463741751413\n",
      "Epoch: [21/50] Batch: [1/268]\tClassifier_Loss: 0.7930\tAdversary Loss: 0.6208\tC(x): 0.7981\tA(x, y): 0.6339\n",
      "Learning rate of the classifier model is now set to 0.00011031805192081357\n",
      "Learning rate of the adversary model is now set to 0.00011031805192081357\n",
      "Learning rate of the classifier model is now set to 0.00010590532984398102\n",
      "Learning rate of the adversary model is now set to 0.00010590532984398102\n",
      "Epoch: [21/50] Batch: [201/268]\tClassifier_Loss: 0.8887\tAdversary Loss: 0.6335\tC(x): 0.7978\tA(x, y): 0.6335\n",
      "Learning rate of the classifier model is now set to 0.00010166911665022178\n",
      "Learning rate of the adversary model is now set to 0.00010166911665022178\n",
      "Epoch: [22/50] Batch: [1/268]\tClassifier_Loss: 0.8049\tAdversary Loss: 0.6091\tC(x): 0.7975\tA(x, y): 0.6334\n",
      "Learning rate of the classifier model is now set to 9.76023519842129e-05\n",
      "Learning rate of the adversary model is now set to 9.76023519842129e-05\n",
      "Learning rate of the classifier model is now set to 9.36982579048444e-05\n",
      "Learning rate of the adversary model is now set to 9.36982579048444e-05\n",
      "Epoch: [22/50] Batch: [201/268]\tClassifier_Loss: 0.7071\tAdversary Loss: 0.6677\tC(x): 0.7964\tA(x, y): 0.6329\n",
      "Epoch: [23/50] Batch: [1/268]\tClassifier_Loss: 0.7594\tAdversary Loss: 0.5850\tC(x): 0.7960\tA(x, y): 0.6328\n",
      "Learning rate of the classifier model is now set to 8.99503275886506e-05\n",
      "Learning rate of the adversary model is now set to 8.99503275886506e-05\n",
      "Learning rate of the classifier model is now set to 8.635231448510459e-05\n",
      "Learning rate of the adversary model is now set to 8.635231448510459e-05\n",
      "Epoch: [23/50] Batch: [201/268]\tClassifier_Loss: 0.9496\tAdversary Loss: 0.6235\tC(x): 0.7950\tA(x, y): 0.6323\n",
      "Learning rate of the classifier model is now set to 8.289822190570039e-05\n",
      "Learning rate of the adversary model is now set to 8.289822190570039e-05\n",
      "Epoch: [24/50] Batch: [1/268]\tClassifier_Loss: 0.9137\tAdversary Loss: 0.6387\tC(x): 0.7948\tA(x, y): 0.6322\n",
      "Learning rate of the classifier model is now set to 7.958229302947238e-05\n",
      "Learning rate of the adversary model is now set to 7.958229302947238e-05\n",
      "Learning rate of the classifier model is now set to 7.639900130829346e-05\n",
      "Learning rate of the adversary model is now set to 7.639900130829346e-05\n",
      "Epoch: [24/50] Batch: [201/268]\tClassifier_Loss: 0.6535\tAdversary Loss: 0.5879\tC(x): 0.7938\tA(x, y): 0.6318\n",
      "Learning rate of the classifier model is now set to 7.334304125596173e-05\n",
      "Learning rate of the adversary model is now set to 7.334304125596173e-05\n",
      "Epoch: [25/50] Batch: [1/268]\tClassifier_Loss: 0.8055\tAdversary Loss: 0.5571\tC(x): 0.7935\tA(x, y): 0.6317\n",
      "Learning rate of the classifier model is now set to 7.040931960572326e-05\n",
      "Learning rate of the adversary model is now set to 7.040931960572326e-05\n",
      "Learning rate of the classifier model is now set to 6.759294682149434e-05\n",
      "Learning rate of the adversary model is now set to 6.759294682149434e-05\n",
      "Epoch: [25/50] Batch: [201/268]\tClassifier_Loss: 0.6718\tAdversary Loss: 0.5909\tC(x): 0.7923\tA(x, y): 0.6314\n",
      "Learning rate of the classifier model is now set to 6.488922894863455e-05\n",
      "Learning rate of the adversary model is now set to 6.488922894863455e-05\n",
      "Epoch: [26/50] Batch: [1/268]\tClassifier_Loss: 0.7920\tAdversary Loss: 0.6824\tC(x): 0.7922\tA(x, y): 0.6313\n",
      "Learning rate of the classifier model is now set to 6.229365979068917e-05\n",
      "Learning rate of the adversary model is now set to 6.229365979068917e-05\n",
      "Learning rate of the classifier model is now set to 5.9801913399061606e-05\n",
      "Learning rate of the adversary model is now set to 5.9801913399061606e-05\n",
      "Epoch: [26/50] Batch: [201/268]\tClassifier_Loss: 0.9486\tAdversary Loss: 0.5321\tC(x): 0.7912\tA(x, y): 0.6310\n",
      "Epoch: [27/50] Batch: [1/268]\tClassifier_Loss: 0.7234\tAdversary Loss: 0.6046\tC(x): 0.7909\tA(x, y): 0.6308\n",
      "Learning rate of the classifier model is now set to 5.7409836863099135e-05\n",
      "Learning rate of the adversary model is now set to 5.7409836863099135e-05\n",
      "Learning rate of the classifier model is now set to 5.511344338857516e-05\n",
      "Learning rate of the adversary model is now set to 5.511344338857516e-05\n",
      "Epoch: [27/50] Batch: [201/268]\tClassifier_Loss: 0.8170\tAdversary Loss: 0.6104\tC(x): 0.7898\tA(x, y): 0.6305\n",
      "Learning rate of the classifier model is now set to 5.290890565303216e-05\n",
      "Learning rate of the adversary model is now set to 5.290890565303216e-05\n",
      "Epoch: [28/50] Batch: [1/268]\tClassifier_Loss: 0.8206\tAdversary Loss: 0.6117\tC(x): 0.7894\tA(x, y): 0.6305\n",
      "Learning rate of the classifier model is now set to 5.0792549426910866e-05\n",
      "Learning rate of the adversary model is now set to 5.0792549426910866e-05\n",
      "Learning rate of the classifier model is now set to 4.876084744983443e-05\n",
      "Learning rate of the adversary model is now set to 4.876084744983443e-05\n",
      "Epoch: [28/50] Batch: [201/268]\tClassifier_Loss: 0.9074\tAdversary Loss: 0.5930\tC(x): 0.7884\tA(x, y): 0.6302\n",
      "Learning rate of the classifier model is now set to 4.6810413551841054e-05\n",
      "Learning rate of the adversary model is now set to 4.6810413551841054e-05\n",
      "Epoch: [29/50] Batch: [1/268]\tClassifier_Loss: 0.8021\tAdversary Loss: 0.5899\tC(x): 0.7879\tA(x, y): 0.6301\n",
      "Learning rate of the classifier model is now set to 4.493799700976741e-05\n",
      "Learning rate of the adversary model is now set to 4.493799700976741e-05\n",
      "Learning rate of the classifier model is now set to 4.3140477129376715e-05\n",
      "Learning rate of the adversary model is now set to 4.3140477129376715e-05\n",
      "Epoch: [29/50] Batch: [201/268]\tClassifier_Loss: 0.6914\tAdversary Loss: 0.6304\tC(x): 0.7867\tA(x, y): 0.6298\n",
      "Epoch: [30/50] Batch: [1/268]\tClassifier_Loss: 0.7038\tAdversary Loss: 0.6366\tC(x): 0.7866\tA(x, y): 0.6298\n",
      "Learning rate of the classifier model is now set to 4.141485804420164e-05\n",
      "Learning rate of the adversary model is now set to 4.141485804420164e-05\n",
      "Learning rate of the classifier model is now set to 3.9758263722433575e-05\n",
      "Learning rate of the adversary model is now set to 3.9758263722433575e-05\n",
      "Epoch: [30/50] Batch: [201/268]\tClassifier_Loss: 0.8443\tAdversary Loss: 0.5983\tC(x): 0.7856\tA(x, y): 0.6295\n",
      "Learning rate of the classifier model is now set to 3.816793317353623e-05\n",
      "Learning rate of the adversary model is now set to 3.816793317353623e-05\n",
      "Epoch: [31/50] Batch: [1/268]\tClassifier_Loss: 0.5700\tAdversary Loss: 0.6577\tC(x): 0.7852\tA(x, y): 0.6294\n",
      "Learning rate of the classifier model is now set to 3.664121584659478e-05\n",
      "Learning rate of the adversary model is now set to 3.664121584659478e-05\n",
      "Learning rate of the classifier model is now set to 3.517556721273098e-05\n",
      "Learning rate of the adversary model is now set to 3.517556721273098e-05\n",
      "Epoch: [31/50] Batch: [201/268]\tClassifier_Loss: 0.7823\tAdversary Loss: 0.5893\tC(x): 0.7840\tA(x, y): 0.6292\n",
      "Learning rate of the classifier model is now set to 3.3768544524221746e-05\n",
      "Learning rate of the adversary model is now set to 3.3768544524221746e-05\n",
      "Epoch: [32/50] Batch: [1/268]\tClassifier_Loss: 0.8534\tAdversary Loss: 0.6249\tC(x): 0.7837\tA(x, y): 0.6291\n",
      "Learning rate of the classifier model is now set to 3.241780274325288e-05\n",
      "Learning rate of the adversary model is now set to 3.241780274325288e-05\n",
      "Learning rate of the classifier model is now set to 3.112109063352276e-05\n",
      "Learning rate of the adversary model is now set to 3.112109063352276e-05\n",
      "Epoch: [32/50] Batch: [201/268]\tClassifier_Loss: 0.6997\tAdversary Loss: 0.6336\tC(x): 0.7827\tA(x, y): 0.6289\n",
      "Epoch: [33/50] Batch: [1/268]\tClassifier_Loss: 0.7996\tAdversary Loss: 0.6488\tC(x): 0.7825\tA(x, y): 0.6288\n",
      "Learning rate of the classifier model is now set to 2.987624700818185e-05\n",
      "Learning rate of the adversary model is now set to 2.987624700818185e-05\n",
      "Learning rate of the classifier model is now set to 2.8681197127854573e-05\n",
      "Learning rate of the adversary model is now set to 2.8681197127854573e-05\n",
      "Epoch: [33/50] Batch: [201/268]\tClassifier_Loss: 0.7157\tAdversary Loss: 0.6189\tC(x): 0.7815\tA(x, y): 0.6286\n",
      "Learning rate of the classifier model is now set to 2.753394924274039e-05\n",
      "Learning rate of the adversary model is now set to 2.753394924274039e-05\n",
      "Epoch: [34/50] Batch: [1/268]\tClassifier_Loss: 0.8315\tAdversary Loss: 0.6263\tC(x): 0.7811\tA(x, y): 0.6285\n",
      "Learning rate of the classifier model is now set to 2.6432591273030774e-05\n",
      "Learning rate of the adversary model is now set to 2.6432591273030774e-05\n",
      "Learning rate of the classifier model is now set to 2.537528762210954e-05\n",
      "Learning rate of the adversary model is now set to 2.537528762210954e-05\n",
      "Epoch: [34/50] Batch: [201/268]\tClassifier_Loss: 0.7011\tAdversary Loss: 0.6110\tC(x): 0.7798\tA(x, y): 0.6284\n",
      "Learning rate of the classifier model is now set to 2.4360276117225157e-05\n",
      "Learning rate of the adversary model is now set to 2.4360276117225157e-05\n",
      "Epoch: [35/50] Batch: [1/268]\tClassifier_Loss: 0.7621\tAdversary Loss: 0.5881\tC(x): 0.7795\tA(x, y): 0.6283\n",
      "Learning rate of the classifier model is now set to 2.338586507253615e-05\n",
      "Learning rate of the adversary model is now set to 2.338586507253615e-05\n",
      "Learning rate of the classifier model is now set to 2.2450430469634704e-05\n",
      "Learning rate of the adversary model is now set to 2.2450430469634704e-05\n",
      "Epoch: [35/50] Batch: [201/268]\tClassifier_Loss: 0.7591\tAdversary Loss: 0.6541\tC(x): 0.7785\tA(x, y): 0.6281\n",
      "Epoch: [36/50] Batch: [1/268]\tClassifier_Loss: 0.7534\tAdversary Loss: 0.5745\tC(x): 0.7783\tA(x, y): 0.6280\n",
      "Learning rate of the classifier model is now set to 2.155241325084932e-05\n",
      "Learning rate of the adversary model is now set to 2.155241325084932e-05\n",
      "Learning rate of the classifier model is now set to 2.0690316720815342e-05\n",
      "Learning rate of the adversary model is now set to 2.0690316720815342e-05\n",
      "Epoch: [36/50] Batch: [201/268]\tClassifier_Loss: 0.5874\tAdversary Loss: 0.6646\tC(x): 0.7774\tA(x, y): 0.6278\n",
      "Learning rate of the classifier model is now set to 1.9862704051982727e-05\n",
      "Learning rate of the adversary model is now set to 1.9862704051982727e-05\n",
      "Epoch: [37/50] Batch: [1/268]\tClassifier_Loss: 0.6169\tAdversary Loss: 0.6310\tC(x): 0.7772\tA(x, y): 0.6278\n",
      "Learning rate of the classifier model is now set to 1.9068195889903417e-05\n",
      "Learning rate of the adversary model is now set to 1.9068195889903417e-05\n",
      "Learning rate of the classifier model is now set to 1.830546805430728e-05\n",
      "Learning rate of the adversary model is now set to 1.830546805430728e-05\n",
      "Epoch: [37/50] Batch: [201/268]\tClassifier_Loss: 0.7589\tAdversary Loss: 0.6163\tC(x): 0.7761\tA(x, y): 0.6276\n",
      "Learning rate of the classifier model is now set to 1.757324933213499e-05\n",
      "Learning rate of the adversary model is now set to 1.757324933213499e-05\n",
      "Epoch: [38/50] Batch: [1/268]\tClassifier_Loss: 0.8830\tAdversary Loss: 0.6171\tC(x): 0.7759\tA(x, y): 0.6275\n",
      "Learning rate of the classifier model is now set to 1.6870319358849586e-05\n",
      "Learning rate of the adversary model is now set to 1.6870319358849586e-05\n",
      "Learning rate of the classifier model is now set to 1.6195506584495604e-05\n",
      "Learning rate of the adversary model is now set to 1.6195506584495604e-05\n",
      "Epoch: [38/50] Batch: [201/268]\tClassifier_Loss: 0.7781\tAdversary Loss: 0.6000\tC(x): 0.7751\tA(x, y): 0.6274\n",
      "Epoch: [39/50] Batch: [1/268]\tClassifier_Loss: 0.6081\tAdversary Loss: 0.6263\tC(x): 0.7748\tA(x, y): 0.6273\n",
      "Learning rate of the classifier model is now set to 1.554768632111578e-05\n",
      "Learning rate of the adversary model is now set to 1.554768632111578e-05\n",
      "Learning rate of the classifier model is now set to 1.4925778868271147e-05\n",
      "Learning rate of the adversary model is now set to 1.4925778868271147e-05\n",
      "Epoch: [39/50] Batch: [201/268]\tClassifier_Loss: 0.6692\tAdversary Loss: 0.5718\tC(x): 0.7741\tA(x, y): 0.6272\n",
      "Learning rate of the classifier model is now set to 1.4328747713540301e-05\n",
      "Learning rate of the adversary model is now set to 1.4328747713540301e-05\n",
      "Epoch: [40/50] Batch: [1/268]\tClassifier_Loss: 0.7475\tAdversary Loss: 0.6077\tC(x): 0.7738\tA(x, y): 0.6271\n",
      "Learning rate of the classifier model is now set to 1.375559780499869e-05\n",
      "Learning rate of the adversary model is now set to 1.375559780499869e-05\n",
      "Learning rate of the classifier model is now set to 1.320537389279874e-05\n",
      "Learning rate of the adversary model is now set to 1.320537389279874e-05\n",
      "Epoch: [40/50] Batch: [201/268]\tClassifier_Loss: 0.7778\tAdversary Loss: 0.6357\tC(x): 0.7729\tA(x, y): 0.6270\n",
      "Learning rate of the classifier model is now set to 1.2677158937086791e-05\n",
      "Learning rate of the adversary model is now set to 1.2677158937086791e-05\n",
      "Epoch: [41/50] Batch: [1/268]\tClassifier_Loss: 0.7936\tAdversary Loss: 0.5809\tC(x): 0.7727\tA(x, y): 0.6270\n",
      "Learning rate of the classifier model is now set to 1.217007257960332e-05\n",
      "Learning rate of the adversary model is now set to 1.217007257960332e-05\n",
      "Learning rate of the classifier model is now set to 1.1683269676419186e-05\n",
      "Learning rate of the adversary model is now set to 1.1683269676419186e-05\n",
      "Epoch: [41/50] Batch: [201/268]\tClassifier_Loss: 0.7848\tAdversary Loss: 0.6634\tC(x): 0.7719\tA(x, y): 0.6268\n",
      "Epoch: [42/50] Batch: [1/268]\tClassifier_Loss: 0.6701\tAdversary Loss: 0.5664\tC(x): 0.7715\tA(x, y): 0.6268\n",
      "Learning rate of the classifier model is now set to 1.1215938889362417e-05\n",
      "Learning rate of the adversary model is now set to 1.1215938889362417e-05\n",
      "Learning rate of the classifier model is now set to 1.0767301333787921e-05\n",
      "Learning rate of the adversary model is now set to 1.0767301333787921e-05\n",
      "Epoch: [42/50] Batch: [201/268]\tClassifier_Loss: 0.7004\tAdversary Loss: 0.5700\tC(x): 0.7708\tA(x, y): 0.6266\n",
      "Learning rate of the classifier model is now set to 1.0336609280436403e-05\n",
      "Learning rate of the adversary model is now set to 1.0336609280436403e-05\n",
      "Epoch: [43/50] Batch: [1/268]\tClassifier_Loss: 0.7427\tAdversary Loss: 0.6099\tC(x): 0.7706\tA(x, y): 0.6266\n",
      "Learning rate of the classifier model is now set to 9.923144909218947e-06\n",
      "Learning rate of the adversary model is now set to 9.923144909218947e-06\n",
      "Learning rate of the classifier model is now set to 9.526219112850188e-06\n",
      "Learning rate of the adversary model is now set to 9.526219112850188e-06\n",
      "Epoch: [43/50] Batch: [201/268]\tClassifier_Loss: 0.6629\tAdversary Loss: 0.6032\tC(x): 0.7698\tA(x, y): 0.6264\n",
      "Learning rate of the classifier model is now set to 9.14517034833618e-06\n",
      "Learning rate of the adversary model is now set to 9.14517034833618e-06\n",
      "Epoch: [44/50] Batch: [1/268]\tClassifier_Loss: 0.8388\tAdversary Loss: 0.6190\tC(x): 0.7695\tA(x, y): 0.6264\n",
      "Learning rate of the classifier model is now set to 8.779363534402732e-06\n",
      "Learning rate of the adversary model is now set to 8.779363534402732e-06\n",
      "Learning rate of the classifier model is now set to 8.428188993026623e-06\n",
      "Learning rate of the adversary model is now set to 8.428188993026623e-06\n",
      "Epoch: [44/50] Batch: [201/268]\tClassifier_Loss: 0.7069\tAdversary Loss: 0.6048\tC(x): 0.7688\tA(x, y): 0.6263\n",
      "Epoch: [45/50] Batch: [1/268]\tClassifier_Loss: 0.8753\tAdversary Loss: 0.6040\tC(x): 0.7685\tA(x, y): 0.6263\n",
      "Learning rate of the classifier model is now set to 8.091061433305558e-06\n",
      "Learning rate of the adversary model is now set to 8.091061433305558e-06\n",
      "Learning rate of the classifier model is now set to 7.767418975973336e-06\n",
      "Learning rate of the adversary model is now set to 7.767418975973336e-06\n",
      "Epoch: [45/50] Batch: [201/268]\tClassifier_Loss: 0.7707\tAdversary Loss: 0.6055\tC(x): 0.7678\tA(x, y): 0.6262\n",
      "Learning rate of the classifier model is now set to 7.456722216934402e-06\n",
      "Learning rate of the adversary model is now set to 7.456722216934402e-06\n",
      "Epoch: [46/50] Batch: [1/268]\tClassifier_Loss: 0.7850\tAdversary Loss: 0.6167\tC(x): 0.7676\tA(x, y): 0.6261\n",
      "Learning rate of the classifier model is now set to 7.158453328257026e-06\n",
      "Learning rate of the adversary model is now set to 7.158453328257026e-06\n",
      "Learning rate of the classifier model is now set to 6.872115195126745e-06\n",
      "Learning rate of the adversary model is now set to 6.872115195126745e-06\n",
      "Epoch: [46/50] Batch: [201/268]\tClassifier_Loss: 0.6706\tAdversary Loss: 0.6131\tC(x): 0.7670\tA(x, y): 0.6260\n",
      "Learning rate of the classifier model is now set to 6.597230587321674e-06\n",
      "Learning rate of the adversary model is now set to 6.597230587321674e-06\n",
      "Epoch: [47/50] Batch: [1/268]\tClassifier_Loss: 0.8305\tAdversary Loss: 0.6153\tC(x): 0.7667\tA(x, y): 0.6260\n",
      "Learning rate of the classifier model is now set to 6.333341363828807e-06\n",
      "Learning rate of the adversary model is now set to 6.333341363828807e-06\n",
      "Learning rate of the classifier model is now set to 6.080007709275654e-06\n",
      "Learning rate of the adversary model is now set to 6.080007709275654e-06\n",
      "Epoch: [47/50] Batch: [201/268]\tClassifier_Loss: 0.7086\tAdversary Loss: 0.5875\tC(x): 0.7660\tA(x, y): 0.6259\n",
      "Epoch: [48/50] Batch: [1/268]\tClassifier_Loss: 0.6457\tAdversary Loss: 0.6462\tC(x): 0.7658\tA(x, y): 0.6258\n",
      "Learning rate of the classifier model is now set to 5.836807400904628e-06\n",
      "Learning rate of the adversary model is now set to 5.836807400904628e-06\n",
      "Learning rate of the classifier model is now set to 5.603335104868443e-06\n",
      "Learning rate of the adversary model is now set to 5.603335104868443e-06\n",
      "Epoch: [48/50] Batch: [201/268]\tClassifier_Loss: 0.6744\tAdversary Loss: 0.6471\tC(x): 0.7653\tA(x, y): 0.6258\n",
      "Learning rate of the classifier model is now set to 5.379201700673705e-06\n",
      "Learning rate of the adversary model is now set to 5.379201700673705e-06\n",
      "Epoch: [49/50] Batch: [1/268]\tClassifier_Loss: 0.8269\tAdversary Loss: 0.5701\tC(x): 0.7651\tA(x, y): 0.6257\n",
      "Learning rate of the classifier model is now set to 5.164033632646756e-06\n",
      "Learning rate of the adversary model is now set to 5.164033632646756e-06\n",
      "Learning rate of the classifier model is now set to 4.957472287340885e-06\n",
      "Learning rate of the adversary model is now set to 4.957472287340885e-06\n",
      "Epoch: [49/50] Batch: [201/268]\tClassifier_Loss: 0.7113\tAdversary Loss: 0.5983\tC(x): 0.7646\tA(x, y): 0.6256\n",
      "Learning rate of the classifier model is now set to 4.75917339584725e-06\n",
      "Learning rate of the adversary model is now set to 4.75917339584725e-06\n",
      "Epoch: [50/50] Batch: [1/268]\tClassifier_Loss: 0.6145\tAdversary Loss: 0.6243\tC(x): 0.7644\tA(x, y): 0.6256\n",
      "Learning rate of the classifier model is now set to 4.56880646001336e-06\n",
      "Learning rate of the adversary model is now set to 4.56880646001336e-06\n",
      "Learning rate of the classifier model is now set to 4.386054201612826e-06\n",
      "Learning rate of the adversary model is now set to 4.386054201612826e-06\n",
      "Epoch: [50/50] Batch: [201/268]\tClassifier_Loss: 0.7737\tAdversary Loss: 0.5867\tC(x): 0.7638\tA(x, y): 0.6255\n"
     ]
    }
   ],
   "source": [
    "from copy import deepcopy\n",
    "global_step, classifier_losses, adversary_losses = 0, [], []\n",
    "torch.manual_seed(360)\n",
    "adversary_loss_weight = 0.1\n",
    "for epoch in range(num_epochs):\n",
    "    for i, data in enumerate(train_loader, 0):\n",
    "        # Update learning rate(s)\n",
    "        classifier_lr_scheduler.step(global_step, classifier.__class__.__name__)\n",
    "        adversary_lr_scheduler.step(global_step, adversary.__class__.__name__)\n",
    "        # Train the classifier model\n",
    "        classifier.zero_grad()\n",
    "        batch_features = data[:][0]\n",
    "        batch_labels = data[:][1]\n",
    "        pred_labels, pred_logits = classifier(batch_features)\n",
    "        classifier_error = classifier_criterion(pred_labels, batch_labels)\n",
    "        classifier_losses.append(classifier_error.item())\n",
    "        classifier_mean_error = np.mean(classifier_losses)\n",
    "        # Adversary training\n",
    "        classifier_error.backward()#retain_graph=True)\n",
    "        # Update the parameters for the classifier layers within the adversary model\n",
    "        c_params, a_params = dict(classifier.named_parameters()), dict(adversary.named_parameters())\n",
    "        for (c_p, a_p) in zip(c_params.values(), a_params.values()):\n",
    "            a_p.data = deepcopy(c_p.data)\n",
    "        adversary.zero_grad()\n",
    "        batch_protected_attributes = data[:][2]\n",
    "        pred_protected_attributes_labels, pred_protected_attributes_logits = adversary(\n",
    "        batch_features, batch_labels)\n",
    "        adversary_error = adversary_criterion(pred_protected_attributes_labels, batch_protected_attributes)\n",
    "        adversary_error.backward()#retain_graph=True)\n",
    "        adversary_losses.append(adversary_error.item())\n",
    "        adversary_mean_error = np.mean(adversary_losses)\n",
    "        # Adjust the classifier's gradients according to the normnalized adversary gradients\n",
    "        c_params, a_params = dict(classifier.named_parameters()), dict(adversary.named_parameters())\n",
    "        for p in c_params:\n",
    "            unit_adversary_grad = normalize(a_params[p].grad)\n",
    "            c_params[p].grad -= torch.sum((c_params[p].grad * unit_adversary_grad))\n",
    "            c_params[p].grad -= adversary_loss_weight * a_params[p].grad\n",
    "        adversary_optim.step() # Update adversary model parameters\n",
    "        classifier_optim.step() # Update classifier model parameters\n",
    "        if i % 200 == 0:\n",
    "            print(\"Epoch: [%d/%d] Batch: [%d/%d]\\tClassifier_Loss: %.4f\\tAdversary Loss: %.4f\\tC(x): %.4f\\tA(x, y): %.4f\" % \\\n",
    "            (epoch + 1, num_epochs, i + 1, len(train_loader), classifier_error.item(),\n",
    "             adversary_error.item(), classifier_mean_error, adversary_mean_error))\n",
    "        global_step += 1\n",
    "    classifier.training = False\n",
    "    adversary.training = False"
   ]
  },
  {
   "cell_type": "code",
   "execution_count": 24,
   "metadata": {},
   "outputs": [],
   "source": [
    "dataset_debiasing_train = dataset_orig_train.copy(deepcopy = True)\n",
    "dataset_debiasing_test = dataset_orig_test.copy(deepcopy = True)\n",
    "train_pred_labels = classifier(torch.from_numpy(dataset_debiasing_train.features).float())[0].cpu().detach().numpy().tolist()\n",
    "test_pred_labels = classifier(torch.from_numpy(dataset_debiasing_test.features).float())[0].cpu().detach().numpy().tolist()\n",
    "# Mutated, fairer dataset with new labels\n",
    "dataset_debiasing_train.scores = np.array(train_pred_labels, dtype=np.float64).reshape(-1, 1)\n",
    "dataset_debiasing_train.labels = (np.array(train_pred_labels)>0.5).astype(np.float64).reshape(-1,1)\n",
    "dataset_debiasing_test.scores = np.array(test_pred_labels, dtype=np.float64).reshape(-1, 1)\n",
    "dataset_debiasing_test.labels = (np.array(test_pred_labels)>0.5).astype(np.float64).reshape(-1,1)\n",
    "# Map the dataset labels to back to their original values.\n",
    "train_temp_labels = dataset_debiasing_train.labels.copy()\n",
    "train_temp_labels[(dataset_debiasing_train.labels == 1.0).ravel(), 0] = dataset_orig_train.favorable_label\n",
    "train_temp_labels[(dataset_debiasing_train.labels == 0.0).ravel(), 0] = dataset_orig_train.unfavorable_label\n",
    "dataset_debiasing_train.labels = train_temp_labels.copy()\n",
    "test_temp_labels = dataset_debiasing_test.labels.copy()\n",
    "test_temp_labels[(dataset_debiasing_test.labels == 1.0).ravel(), 0] = dataset_orig_test.favorable_label\n",
    "test_temp_labels[(dataset_debiasing_test.labels == 0.0).ravel(), 0] = dataset_orig_test.unfavorable_label\n",
    "dataset_debiasing_test.labels = test_temp_labels.copy()"
   ]
  },
  {
   "cell_type": "code",
   "execution_count": 25,
   "metadata": {},
   "outputs": [
    {
     "data": {
      "text/markdown": [
       "#### Plain model - without debiasing - dataset metrics"
      ],
      "text/plain": [
       "<IPython.core.display.Markdown object>"
      ]
     },
     "metadata": {},
     "output_type": "display_data"
    },
    {
     "name": "stdout",
     "output_type": "stream",
     "text": [
      "Train set: Difference in mean outcomes between unprivileged and privileged groups = -0.219438\n",
      "Test set: Difference in mean outcomes between unprivileged and privileged groups = -0.223037\n"
     ]
    },
    {
     "data": {
      "text/markdown": [
       "#### Model - with debiasing - dataset metrics"
      ],
      "text/plain": [
       "<IPython.core.display.Markdown object>"
      ]
     },
     "metadata": {},
     "output_type": "display_data"
    },
    {
     "name": "stdout",
     "output_type": "stream",
     "text": [
      "Train set: Difference in mean outcomes between unprivileged and privileged groups = -0.089357\n",
      "Test set: Difference in mean outcomes between unprivileged and privileged groups = -0.078366\n"
     ]
    },
    {
     "data": {
      "text/markdown": [
       "#### Plain model - without debiasing - classification metrics"
      ],
      "text/plain": [
       "<IPython.core.display.Markdown object>"
      ]
     },
     "metadata": {},
     "output_type": "display_data"
    },
    {
     "name": "stdout",
     "output_type": "stream",
     "text": [
      "Test set: Classification accuracy = 0.798744\n",
      "Test set: Balanced classification accuracy = 0.661011\n",
      "Test set: Disparate impact = 0.000000\n",
      "Test set: Equal opportunity difference = -0.462479\n",
      "Test set: Average odds difference = -0.289453\n",
      "Test set: Theil_index = 0.180469\n"
     ]
    },
    {
     "data": {
      "text/markdown": [
       "#### Model - with debiasing - classification metrics"
      ],
      "text/plain": [
       "<IPython.core.display.Markdown object>"
      ]
     },
     "metadata": {},
     "output_type": "display_data"
    },
    {
     "name": "stdout",
     "output_type": "stream",
     "text": [
      "Test set: Classification accuracy = 0.697127\n",
      "Test set: Balanced classification accuracy = 0.550077\n",
      "Test set: Disparate impact = 0.634279\n",
      "Test set: Equal opportunity difference = -0.045510\n",
      "Test set: Average odds difference = -0.054838\n",
      "Test set: Theil_index = 0.238033\n"
     ]
    }
   ],
   "source": [
    "# Metrics for the dataset from plain model (without debiasing)\n",
    "display(Markdown(\"#### Plain model - without debiasing - dataset metrics\"))\n",
    "print(\"Train set: Difference in mean outcomes between unprivileged and privileged groups = %f\" % metric_dataset_nodebiasing_train.mean_difference())\n",
    "print(\"Test set: Difference in mean outcomes between unprivileged and privileged groups = %f\" % metric_dataset_nodebiasing_test.mean_difference())\n",
    "\n",
    "# Metrics for the dataset from model with debiasing\n",
    "display(Markdown(\"#### Model - with debiasing - dataset metrics\"))\n",
    "metric_dataset_debiasing_train = BinaryLabelDatasetMetric(dataset_debiasing_train, \n",
    "                                             unprivileged_groups=unprivileged_groups,\n",
    "                                             privileged_groups=privileged_groups)\n",
    "\n",
    "print(\"Train set: Difference in mean outcomes between unprivileged and privileged groups = %f\" % metric_dataset_debiasing_train.mean_difference())\n",
    "\n",
    "metric_dataset_debiasing_test = BinaryLabelDatasetMetric(dataset_debiasing_test, \n",
    "                                             unprivileged_groups=unprivileged_groups,\n",
    "                                             privileged_groups=privileged_groups)\n",
    "\n",
    "print(\"Test set: Difference in mean outcomes between unprivileged and privileged groups = %f\" % metric_dataset_debiasing_test.mean_difference())\n",
    "\n",
    "\n",
    "\n",
    "display(Markdown(\"#### Plain model - without debiasing - classification metrics\"))\n",
    "print(\"Test set: Classification accuracy = %f\" % classified_metric_nodebiasing_test.accuracy())\n",
    "TPR = classified_metric_nodebiasing_test.true_positive_rate()\n",
    "TNR = classified_metric_nodebiasing_test.true_negative_rate()\n",
    "bal_acc_nodebiasing_test = 0.5*(TPR+TNR)\n",
    "print(\"Test set: Balanced classification accuracy = %f\" % bal_acc_nodebiasing_test)\n",
    "print(\"Test set: Disparate impact = %f\" % classified_metric_nodebiasing_test.disparate_impact())\n",
    "print(\"Test set: Equal opportunity difference = %f\" % classified_metric_nodebiasing_test.equal_opportunity_difference())\n",
    "print(\"Test set: Average odds difference = %f\" % classified_metric_nodebiasing_test.average_odds_difference())\n",
    "print(\"Test set: Theil_index = %f\" % classified_metric_nodebiasing_test.theil_index())\n",
    "\n",
    "\n",
    "\n",
    "display(Markdown(\"#### Model - with debiasing - classification metrics\"))\n",
    "classified_metric_debiasing_test = ClassificationMetric(dataset_orig_test, \n",
    "                                                 dataset_debiasing_test,\n",
    "                                                 unprivileged_groups=unprivileged_groups,\n",
    "                                                 privileged_groups=privileged_groups)\n",
    "print(\"Test set: Classification accuracy = %f\" % classified_metric_debiasing_test.accuracy())\n",
    "TPR = classified_metric_debiasing_test.true_positive_rate()\n",
    "TNR = classified_metric_debiasing_test.true_negative_rate()\n",
    "bal_acc_debiasing_test = 0.5*(TPR+TNR)\n",
    "print(\"Test set: Balanced classification accuracy = %f\" % bal_acc_debiasing_test)\n",
    "print(\"Test set: Disparate impact = %f\" % classified_metric_debiasing_test.disparate_impact())\n",
    "print(\"Test set: Equal opportunity difference = %f\" % classified_metric_debiasing_test.equal_opportunity_difference())\n",
    "print(\"Test set: Average odds difference = %f\" % classified_metric_debiasing_test.average_odds_difference())\n",
    "print(\"Test set: Theil_index = %f\" % classified_metric_debiasing_test.theil_index())"
   ]
  },
  {
   "cell_type": "markdown",
   "metadata": {},
   "source": [
    "# TensorFlow code"
   ]
  },
  {
   "cell_type": "markdown",
   "metadata": {
    "colab_type": "text",
    "id": "lzvuFHvOOUWX"
   },
   "source": [
    "### Apply in-processing algorithm based on adversarial learning"
   ]
  },
  {
   "cell_type": "code",
   "execution_count": null,
   "metadata": {
    "colab": {},
    "colab_type": "code",
    "id": "Snp7A-dlOUWX"
   },
   "outputs": [],
   "source": [
    "sess.close()\n",
    "tf.reset_default_graph()\n",
    "sess = tf.Session()"
   ]
  },
  {
   "cell_type": "code",
   "execution_count": null,
   "metadata": {
    "colab": {},
    "colab_type": "code",
    "id": "N4D6YRyZOUWd"
   },
   "outputs": [],
   "source": [
    "# Learn parameters with debias set to True\n",
    "debiased_model = AdversarialDebiasing(privileged_groups = privileged_groups,\n",
    "                          unprivileged_groups = unprivileged_groups,\n",
    "                          scope_name='debiased_classifier',\n",
    "                          debias=True,\n",
    "                          sess=sess)"
   ]
  },
  {
   "cell_type": "code",
   "execution_count": null,
   "metadata": {
    "colab": {},
    "colab_type": "code",
    "id": "neS5Ouj5OUWn",
    "outputId": "1f9a5eb1-61a6-4f04-ed18-339007cd285b",
    "scrolled": true
   },
   "outputs": [
    {
     "name": "stdout",
     "output_type": "stream",
     "text": [
      "epoch 0; iter: 0; batch classifier loss: 0.721611; batch adversarial loss: 0.630777\n",
      "epoch 0; iter: 200; batch classifier loss: 0.442980; batch adversarial loss: 0.656542\n",
      "epoch 1; iter: 0; batch classifier loss: 0.453149; batch adversarial loss: 0.657557\n",
      "epoch 1; iter: 200; batch classifier loss: 0.496931; batch adversarial loss: 0.617686\n",
      "epoch 2; iter: 0; batch classifier loss: 0.547117; batch adversarial loss: 0.653103\n",
      "epoch 2; iter: 200; batch classifier loss: 0.331452; batch adversarial loss: 0.617297\n",
      "epoch 3; iter: 0; batch classifier loss: 0.407935; batch adversarial loss: 0.627860\n",
      "epoch 3; iter: 200; batch classifier loss: 0.413469; batch adversarial loss: 0.616086\n",
      "epoch 4; iter: 0; batch classifier loss: 0.370982; batch adversarial loss: 0.604738\n",
      "epoch 4; iter: 200; batch classifier loss: 0.469453; batch adversarial loss: 0.617892\n",
      "epoch 5; iter: 0; batch classifier loss: 0.502638; batch adversarial loss: 0.595247\n",
      "epoch 5; iter: 200; batch classifier loss: 0.379807; batch adversarial loss: 0.635309\n",
      "epoch 6; iter: 0; batch classifier loss: 0.484228; batch adversarial loss: 0.591971\n",
      "epoch 6; iter: 200; batch classifier loss: 0.421526; batch adversarial loss: 0.612220\n",
      "epoch 7; iter: 0; batch classifier loss: 0.392731; batch adversarial loss: 0.636230\n",
      "epoch 7; iter: 200; batch classifier loss: 0.391191; batch adversarial loss: 0.614543\n",
      "epoch 8; iter: 0; batch classifier loss: 0.481106; batch adversarial loss: 0.665277\n",
      "epoch 8; iter: 200; batch classifier loss: 0.465566; batch adversarial loss: 0.638007\n",
      "epoch 9; iter: 0; batch classifier loss: 0.418696; batch adversarial loss: 0.575338\n",
      "epoch 9; iter: 200; batch classifier loss: 0.450467; batch adversarial loss: 0.611760\n",
      "epoch 10; iter: 0; batch classifier loss: 0.347429; batch adversarial loss: 0.652913\n",
      "epoch 10; iter: 200; batch classifier loss: 0.398043; batch adversarial loss: 0.601349\n",
      "epoch 11; iter: 0; batch classifier loss: 0.478137; batch adversarial loss: 0.630736\n",
      "epoch 11; iter: 200; batch classifier loss: 0.479216; batch adversarial loss: 0.552848\n",
      "epoch 12; iter: 0; batch classifier loss: 0.473339; batch adversarial loss: 0.597487\n",
      "epoch 12; iter: 200; batch classifier loss: 0.378719; batch adversarial loss: 0.630144\n",
      "epoch 13; iter: 0; batch classifier loss: 0.461751; batch adversarial loss: 0.583154\n",
      "epoch 13; iter: 200; batch classifier loss: 0.427811; batch adversarial loss: 0.594790\n",
      "epoch 14; iter: 0; batch classifier loss: 0.520254; batch adversarial loss: 0.586920\n",
      "epoch 14; iter: 200; batch classifier loss: 0.375389; batch adversarial loss: 0.622141\n",
      "epoch 15; iter: 0; batch classifier loss: 0.358494; batch adversarial loss: 0.610482\n",
      "epoch 15; iter: 200; batch classifier loss: 0.377246; batch adversarial loss: 0.600464\n",
      "epoch 16; iter: 0; batch classifier loss: 0.330568; batch adversarial loss: 0.631124\n",
      "epoch 16; iter: 200; batch classifier loss: 0.493238; batch adversarial loss: 0.602217\n",
      "epoch 17; iter: 0; batch classifier loss: 0.430809; batch adversarial loss: 0.622507\n",
      "epoch 17; iter: 200; batch classifier loss: 0.420727; batch adversarial loss: 0.631383\n",
      "epoch 18; iter: 0; batch classifier loss: 0.463418; batch adversarial loss: 0.613122\n",
      "epoch 18; iter: 200; batch classifier loss: 0.407586; batch adversarial loss: 0.583201\n",
      "epoch 19; iter: 0; batch classifier loss: 0.438854; batch adversarial loss: 0.588028\n",
      "epoch 19; iter: 200; batch classifier loss: 0.468554; batch adversarial loss: 0.586143\n",
      "epoch 20; iter: 0; batch classifier loss: 0.491485; batch adversarial loss: 0.627042\n",
      "epoch 20; iter: 200; batch classifier loss: 0.434700; batch adversarial loss: 0.629269\n",
      "epoch 21; iter: 0; batch classifier loss: 0.445875; batch adversarial loss: 0.589738\n",
      "epoch 21; iter: 200; batch classifier loss: 0.435593; batch adversarial loss: 0.629081\n",
      "epoch 22; iter: 0; batch classifier loss: 0.364423; batch adversarial loss: 0.610640\n",
      "epoch 22; iter: 200; batch classifier loss: 0.389425; batch adversarial loss: 0.605668\n",
      "epoch 23; iter: 0; batch classifier loss: 0.562680; batch adversarial loss: 0.634945\n",
      "epoch 23; iter: 200; batch classifier loss: 0.473808; batch adversarial loss: 0.566636\n",
      "epoch 24; iter: 0; batch classifier loss: 0.424366; batch adversarial loss: 0.585584\n",
      "epoch 24; iter: 200; batch classifier loss: 0.359588; batch adversarial loss: 0.609465\n",
      "epoch 25; iter: 0; batch classifier loss: 0.519477; batch adversarial loss: 0.564588\n",
      "epoch 25; iter: 200; batch classifier loss: 0.449761; batch adversarial loss: 0.571238\n",
      "epoch 26; iter: 0; batch classifier loss: 0.447675; batch adversarial loss: 0.591839\n",
      "epoch 26; iter: 200; batch classifier loss: 0.369251; batch adversarial loss: 0.580864\n",
      "epoch 27; iter: 0; batch classifier loss: 0.384472; batch adversarial loss: 0.661156\n",
      "epoch 27; iter: 200; batch classifier loss: 0.393334; batch adversarial loss: 0.638825\n",
      "epoch 28; iter: 0; batch classifier loss: 0.451982; batch adversarial loss: 0.552013\n",
      "epoch 28; iter: 200; batch classifier loss: 0.399544; batch adversarial loss: 0.612651\n",
      "epoch 29; iter: 0; batch classifier loss: 0.390971; batch adversarial loss: 0.580380\n",
      "epoch 29; iter: 200; batch classifier loss: 0.401580; batch adversarial loss: 0.582367\n",
      "epoch 30; iter: 0; batch classifier loss: 0.297665; batch adversarial loss: 0.547717\n",
      "epoch 30; iter: 200; batch classifier loss: 0.470934; batch adversarial loss: 0.625385\n",
      "epoch 31; iter: 0; batch classifier loss: 0.418402; batch adversarial loss: 0.622812\n",
      "epoch 31; iter: 200; batch classifier loss: 0.385281; batch adversarial loss: 0.603873\n",
      "epoch 32; iter: 0; batch classifier loss: 0.418848; batch adversarial loss: 0.573049\n",
      "epoch 32; iter: 200; batch classifier loss: 0.443066; batch adversarial loss: 0.621068\n",
      "epoch 33; iter: 0; batch classifier loss: 0.461614; batch adversarial loss: 0.606992\n",
      "epoch 33; iter: 200; batch classifier loss: 0.451093; batch adversarial loss: 0.621659\n",
      "epoch 34; iter: 0; batch classifier loss: 0.407544; batch adversarial loss: 0.646782\n",
      "epoch 34; iter: 200; batch classifier loss: 0.441481; batch adversarial loss: 0.645866\n",
      "epoch 35; iter: 0; batch classifier loss: 0.344949; batch adversarial loss: 0.589151\n",
      "epoch 35; iter: 200; batch classifier loss: 0.387160; batch adversarial loss: 0.549727\n",
      "epoch 36; iter: 0; batch classifier loss: 0.432171; batch adversarial loss: 0.675994\n",
      "epoch 36; iter: 200; batch classifier loss: 0.388955; batch adversarial loss: 0.621595\n",
      "epoch 37; iter: 0; batch classifier loss: 0.443978; batch adversarial loss: 0.658480\n",
      "epoch 37; iter: 200; batch classifier loss: 0.422210; batch adversarial loss: 0.617039\n",
      "epoch 38; iter: 0; batch classifier loss: 0.381281; batch adversarial loss: 0.588504\n",
      "epoch 38; iter: 200; batch classifier loss: 0.323892; batch adversarial loss: 0.596638\n",
      "epoch 39; iter: 0; batch classifier loss: 0.396359; batch adversarial loss: 0.614882\n",
      "epoch 39; iter: 200; batch classifier loss: 0.473418; batch adversarial loss: 0.562516\n",
      "epoch 40; iter: 0; batch classifier loss: 0.415690; batch adversarial loss: 0.617672\n",
      "epoch 40; iter: 200; batch classifier loss: 0.472975; batch adversarial loss: 0.537192\n",
      "epoch 41; iter: 0; batch classifier loss: 0.473487; batch adversarial loss: 0.591801\n",
      "epoch 41; iter: 200; batch classifier loss: 0.379132; batch adversarial loss: 0.602665\n",
      "epoch 42; iter: 0; batch classifier loss: 0.418546; batch adversarial loss: 0.568511\n",
      "epoch 42; iter: 200; batch classifier loss: 0.366345; batch adversarial loss: 0.603213\n",
      "epoch 43; iter: 0; batch classifier loss: 0.364993; batch adversarial loss: 0.596730\n",
      "epoch 43; iter: 200; batch classifier loss: 0.436417; batch adversarial loss: 0.611999\n",
      "epoch 44; iter: 0; batch classifier loss: 0.419406; batch adversarial loss: 0.602352\n",
      "epoch 44; iter: 200; batch classifier loss: 0.472369; batch adversarial loss: 0.592246\n",
      "epoch 45; iter: 0; batch classifier loss: 0.479547; batch adversarial loss: 0.564802\n",
      "epoch 45; iter: 200; batch classifier loss: 0.476123; batch adversarial loss: 0.603599\n",
      "epoch 46; iter: 0; batch classifier loss: 0.546357; batch adversarial loss: 0.631894\n",
      "epoch 46; iter: 200; batch classifier loss: 0.389170; batch adversarial loss: 0.576345\n",
      "epoch 47; iter: 0; batch classifier loss: 0.480703; batch adversarial loss: 0.603182\n",
      "epoch 47; iter: 200; batch classifier loss: 0.586694; batch adversarial loss: 0.635715\n",
      "epoch 48; iter: 0; batch classifier loss: 0.394101; batch adversarial loss: 0.558852\n",
      "epoch 48; iter: 200; batch classifier loss: 0.453874; batch adversarial loss: 0.602889\n",
      "epoch 49; iter: 0; batch classifier loss: 0.506737; batch adversarial loss: 0.624289\n",
      "epoch 49; iter: 200; batch classifier loss: 0.359482; batch adversarial loss: 0.618086\n"
     ]
    },
    {
     "data": {
      "text/plain": [
       "<aif360.algorithms.inprocessing.adversarial_debiasing.AdversarialDebiasing at 0x1c32efcf10>"
      ]
     },
     "execution_count": 12,
     "metadata": {
      "tags": []
     },
     "output_type": "execute_result"
    }
   ],
   "source": [
    "debiased_model.fit(dataset_orig_train)"
   ]
  },
  {
   "cell_type": "code",
   "execution_count": null,
   "metadata": {
    "colab": {},
    "colab_type": "code",
    "id": "tZF-Kih6OUWp"
   },
   "outputs": [],
   "source": [
    "# Apply the plain model to test data\n",
    "dataset_debiasing_train = debiased_model.predict(dataset_orig_train)\n",
    "dataset_debiasing_test = debiased_model.predict(dataset_orig_test)"
   ]
  },
  {
   "cell_type": "code",
   "execution_count": null,
   "metadata": {
    "colab": {},
    "colab_type": "code",
    "id": "t1vZGQm0OUWw",
    "outputId": "af8617b6-4891-4a71-8ca4-4d5ae559c311"
   },
   "outputs": [
    {
     "data": {
      "text/markdown": [
       "#### Plain model - without debiasing - dataset metrics"
      ],
      "text/plain": [
       "<IPython.core.display.Markdown object>"
      ]
     },
     "metadata": {
      "tags": []
     },
     "output_type": "display_data"
    },
    {
     "name": "stdout",
     "output_type": "stream",
     "text": [
      "Train set: Difference in mean outcomes between unprivileged and privileged groups = -0.217876\n",
      "Test set: Difference in mean outcomes between unprivileged and privileged groups = -0.221187\n"
     ]
    },
    {
     "data": {
      "text/markdown": [
       "#### Model - with debiasing - dataset metrics"
      ],
      "text/plain": [
       "<IPython.core.display.Markdown object>"
      ]
     },
     "metadata": {
      "tags": []
     },
     "output_type": "display_data"
    },
    {
     "name": "stdout",
     "output_type": "stream",
     "text": [
      "Train set: Difference in mean outcomes between unprivileged and privileged groups = -0.090157\n",
      "Test set: Difference in mean outcomes between unprivileged and privileged groups = -0.094732\n"
     ]
    },
    {
     "data": {
      "text/markdown": [
       "#### Plain model - without debiasing - classification metrics"
      ],
      "text/plain": [
       "<IPython.core.display.Markdown object>"
      ]
     },
     "metadata": {
      "tags": []
     },
     "output_type": "display_data"
    },
    {
     "name": "stdout",
     "output_type": "stream",
     "text": [
      "Test set: Classification accuracy = 0.804955\n",
      "Test set: Balanced classification accuracy = 0.666400\n",
      "Test set: Disparate impact = 0.000000\n",
      "Test set: Equal opportunity difference = -0.470687\n",
      "Test set: Average odds difference = -0.291055\n",
      "Test set: Theil_index = 0.175113\n"
     ]
    },
    {
     "data": {
      "text/markdown": [
       "#### Model - with debiasing - classification metrics"
      ],
      "text/plain": [
       "<IPython.core.display.Markdown object>"
      ]
     },
     "metadata": {
      "tags": []
     },
     "output_type": "display_data"
    },
    {
     "name": "stdout",
     "output_type": "stream",
     "text": [
      "Test set: Classification accuracy = 0.792056\n",
      "Test set: Balanced classification accuracy = 0.672481\n",
      "Test set: Disparate impact = 0.553746\n",
      "Test set: Equal opportunity difference = -0.090716\n",
      "Test set: Average odds difference = -0.053841\n",
      "Test set: Theil_index = 0.170358\n"
     ]
    }
   ],
   "source": [
    "# Metrics for the dataset from plain model (without debiasing)\n",
    "display(Markdown(\"#### Plain model - without debiasing - dataset metrics\"))\n",
    "print(\"Train set: Difference in mean outcomes between unprivileged and privileged groups = %f\" % metric_dataset_nodebiasing_train.mean_difference())\n",
    "print(\"Test set: Difference in mean outcomes between unprivileged and privileged groups = %f\" % metric_dataset_nodebiasing_test.mean_difference())\n",
    "\n",
    "# Metrics for the dataset from model with debiasing\n",
    "display(Markdown(\"#### Model - with debiasing - dataset metrics\"))\n",
    "metric_dataset_debiasing_train = BinaryLabelDatasetMetric(dataset_debiasing_train, \n",
    "                                             unprivileged_groups=unprivileged_groups,\n",
    "                                             privileged_groups=privileged_groups)\n",
    "\n",
    "print(\"Train set: Difference in mean outcomes between unprivileged and privileged groups = %f\" % metric_dataset_debiasing_train.mean_difference())\n",
    "\n",
    "metric_dataset_debiasing_test = BinaryLabelDatasetMetric(dataset_debiasing_test, \n",
    "                                             unprivileged_groups=unprivileged_groups,\n",
    "                                             privileged_groups=privileged_groups)\n",
    "\n",
    "print(\"Test set: Difference in mean outcomes between unprivileged and privileged groups = %f\" % metric_dataset_debiasing_test.mean_difference())\n",
    "\n",
    "\n",
    "\n",
    "display(Markdown(\"#### Plain model - without debiasing - classification metrics\"))\n",
    "print(\"Test set: Classification accuracy = %f\" % classified_metric_nodebiasing_test.accuracy())\n",
    "TPR = classified_metric_nodebiasing_test.true_positive_rate()\n",
    "TNR = classified_metric_nodebiasing_test.true_negative_rate()\n",
    "bal_acc_nodebiasing_test = 0.5*(TPR+TNR)\n",
    "print(\"Test set: Balanced classification accuracy = %f\" % bal_acc_nodebiasing_test)\n",
    "print(\"Test set: Disparate impact = %f\" % classified_metric_nodebiasing_test.disparate_impact())\n",
    "print(\"Test set: Equal opportunity difference = %f\" % classified_metric_nodebiasing_test.equal_opportunity_difference())\n",
    "print(\"Test set: Average odds difference = %f\" % classified_metric_nodebiasing_test.average_odds_difference())\n",
    "print(\"Test set: Theil_index = %f\" % classified_metric_nodebiasing_test.theil_index())\n",
    "\n",
    "\n",
    "\n",
    "display(Markdown(\"#### Model - with debiasing - classification metrics\"))\n",
    "classified_metric_debiasing_test = ClassificationMetric(dataset_orig_test, \n",
    "                                                 dataset_debiasing_test,\n",
    "                                                 unprivileged_groups=unprivileged_groups,\n",
    "                                                 privileged_groups=privileged_groups)\n",
    "print(\"Test set: Classification accuracy = %f\" % classified_metric_debiasing_test.accuracy())\n",
    "TPR = classified_metric_debiasing_test.true_positive_rate()\n",
    "TNR = classified_metric_debiasing_test.true_negative_rate()\n",
    "bal_acc_debiasing_test = 0.5*(TPR+TNR)\n",
    "print(\"Test set: Balanced classification accuracy = %f\" % bal_acc_debiasing_test)\n",
    "print(\"Test set: Disparate impact = %f\" % classified_metric_debiasing_test.disparate_impact())\n",
    "print(\"Test set: Equal opportunity difference = %f\" % classified_metric_debiasing_test.equal_opportunity_difference())\n",
    "print(\"Test set: Average odds difference = %f\" % classified_metric_debiasing_test.average_odds_difference())\n",
    "print(\"Test set: Theil_index = %f\" % classified_metric_debiasing_test.theil_index())"
   ]
  },
  {
   "cell_type": "markdown",
   "metadata": {
    "colab_type": "text",
    "id": "qdhvSP-nOUWz"
   },
   "source": [
    "\n",
    "    References:\n",
    "    [1] B. H. Zhang, B. Lemoine, and M. Mitchell, \"Mitigating Unwanted Biases with Adversarial Learning,\" \n",
    "    AAAI/ACM Conference on Artificial Intelligence, Ethics, and Society, 2018."
   ]
  }
 ],
 "metadata": {
  "colab": {
   "include_colab_link": true,
   "name": "demo_adversarial_debiasing.ipynb",
   "provenance": []
  },
  "kernelspec": {
   "display_name": "Python 3",
   "language": "python",
   "name": "python3"
  },
  "language_info": {
   "codemirror_mode": {
    "name": "ipython",
    "version": 3
   },
   "file_extension": ".py",
   "mimetype": "text/x-python",
   "name": "python",
   "nbconvert_exporter": "python",
   "pygments_lexer": "ipython3",
   "version": "3.7.5"
  }
 },
 "nbformat": 4,
 "nbformat_minor": 4
}
